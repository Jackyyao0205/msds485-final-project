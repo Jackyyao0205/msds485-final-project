{
 "cells": [
  {
   "cell_type": "markdown",
   "id": "075d2d34-b5b2-4321-be5c-f8ab84063be0",
   "metadata": {},
   "source": [
    "# ATP Tennis Analysis"
   ]
  },
  {
   "cell_type": "code",
   "execution_count": 1,
   "id": "27435a68-e553-4e37-a598-403cdf9b27e4",
   "metadata": {},
   "outputs": [],
   "source": [
    "import pandas as pd\n",
    "import numpy as np\n",
    "import re\n",
    "from glob import glob\n",
    "from tqdm import tqdm"
   ]
  },
  {
   "cell_type": "markdown",
   "id": "68c1903d-6086-4154-8b0d-61a6909eda0a",
   "metadata": {},
   "source": [
    "## Data Loading"
   ]
  },
  {
   "cell_type": "code",
   "execution_count": 2,
   "id": "280c7f34-ef9f-4517-be0a-0d9aaf0302bc",
   "metadata": {},
   "outputs": [],
   "source": [
    "# Load all data from 2016-2019\n",
    "years_to_consider = [\"2010\", \"2011\", \"2012\", \"2013\", \"2014\", \"2015\", \"2016\", \"2017\", \"2018\", \"2019\"]\n",
    "all_files = [\"tennis_atp_data/atp_matches_\" + year + \".csv\" for year in years_to_consider]"
   ]
  },
  {
   "cell_type": "code",
   "execution_count": 3,
   "id": "cefc9c1c-832c-4bc3-9ff8-7e3993c1c2e1",
   "metadata": {},
   "outputs": [],
   "source": [
    "df_all_matches = pd.concat((pd.read_csv(f) for f in all_files), ignore_index=True)"
   ]
  },
  {
   "cell_type": "markdown",
   "id": "c5119c0d-3846-41d2-bd05-3091a80deefb",
   "metadata": {},
   "source": [
    "## Data Set Construction"
   ]
  },
  {
   "cell_type": "markdown",
   "id": "7a1d3299-9805-4a35-b3f6-f96f4e0f42fa",
   "metadata": {},
   "source": [
    "We need 3 different sources of data. For each of the 2 players, we need:\n",
    "1. All past matches they have played\n",
    "2. The most recent 3 matches against the same handed opponent on the same court\n",
    "\n",
    "We also need past H2H data which will be the same for both players and thus does not need to duplicated.\n",
    "\n",
    "The data should then be stored in data structures with efficient lookup for fast training time."
   ]
  },
  {
   "cell_type": "markdown",
   "id": "1c0ff191-913f-4517-a208-8557236a05ed",
   "metadata": {},
   "source": [
    "### Data Cleaning"
   ]
  },
  {
   "cell_type": "markdown",
   "id": "056b385f-8e69-48a4-82a5-67d6d78e790e",
   "metadata": {},
   "source": [
    "First, to clean the data:\n",
    "1. Remove names of tournament and players - these are captured by ids already\n",
    "2. Remove the match number\n",
    "3. Remove draw size\n",
    "4. Remove the IOC (Country of origin)\n",
    "5. Convert seed to seed score (1/s if s is not NaN, otherwise 0)\n",
    "6. Convert score to games won for each player\n",
    "7. Convert entry (take lowercase) into OHE\n",
    "8. Remove minutes\n",
    "9. Remove rank\n",
    "10. Drop best of\n",
    "11. Drop round\n",
    "13. Drop tourney level\n",
    "14. Drop height and age"
   ]
  },
  {
   "cell_type": "code",
   "execution_count": 4,
   "id": "8828ba98-dbbc-4b20-ab2c-078bc9847252",
   "metadata": {},
   "outputs": [],
   "source": [
    "# 1.\n",
    "df_all_matches.drop([\"tourney_name\", \"winner_name\", \"loser_name\"], axis = 1, inplace = True)"
   ]
  },
  {
   "cell_type": "code",
   "execution_count": 5,
   "id": "04cf6a06-febc-426c-93ad-34f423e08f0b",
   "metadata": {},
   "outputs": [],
   "source": [
    "# 2.\n",
    "df_all_matches.drop([\"match_num\"], axis = 1, inplace = True)"
   ]
  },
  {
   "cell_type": "code",
   "execution_count": 6,
   "id": "1069428a-13c6-4e6f-adb8-3ac4a0941868",
   "metadata": {},
   "outputs": [],
   "source": [
    "# 3.\n",
    "df_all_matches.drop([\"draw_size\"], axis = 1, inplace = True)"
   ]
  },
  {
   "cell_type": "code",
   "execution_count": 7,
   "id": "568657e2-e4af-471e-82a2-967e72e5816b",
   "metadata": {},
   "outputs": [],
   "source": [
    "# 4.\n",
    "df_all_matches.drop([\"winner_ioc\", \"loser_ioc\"], axis = 1, inplace = True)"
   ]
  },
  {
   "cell_type": "code",
   "execution_count": 8,
   "id": "1ec4db7a-ff2d-4588-9f76-436240e57bc0",
   "metadata": {},
   "outputs": [],
   "source": [
    "# 5.\n",
    "\n",
    "def calculate_seed_score(seed):\n",
    "    if np.isnan(seed):\n",
    "        return 0\n",
    "    return 1/seed\n",
    "\n",
    "df_all_matches[\"winner_seed_score\"] = df_all_matches[\"winner_seed\"].apply(calculate_seed_score)\n",
    "df_all_matches[\"loser_seed_score\"] = df_all_matches[\"loser_seed\"].apply(calculate_seed_score)\n",
    "\n",
    "df_all_matches.drop([\"winner_seed\", \"loser_seed\"], axis = 1, inplace = True)"
   ]
  },
  {
   "cell_type": "code",
   "execution_count": 9,
   "id": "2d5956a1-6f04-4f5f-befc-df5c4ab3a636",
   "metadata": {},
   "outputs": [],
   "source": [
    "# 6.\n",
    "def remove_tiebreak_scores(score_str):\n",
    "    # This removes any parenthetical group like (8), (10), etc.\n",
    "    cleaned = re.sub(r'\\(\\d+\\)', '', score_str)\n",
    "    \n",
    "    # Remove 'RET', 'W/O', 'WO', 'DEF', case-insensitively and any extra whitespace\n",
    "    cleaned_2 = re.sub(r'\\b(RET|W\\/O|WO|DEF|Def|Abandoned|and|Played|Default|ABD)\\b\\.?', '', cleaned, flags=re.IGNORECASE)\n",
    "    \n",
    "    # Normalize spaces\n",
    "    cleaned_3 = ' '.join(cleaned_2.split())\n",
    "    \n",
    "    return cleaned_3\n",
    "\n",
    "def winner_loser_games_won(string_score):\n",
    "    winner_games = 0\n",
    "    loser_games = 0\n",
    "    cleaned_score = remove_tiebreak_scores(string_score)\n",
    "    sets = cleaned_score.split(\" \")\n",
    "    \n",
    "    for set in sets:\n",
    "        if set.startswith(\"[\"):\n",
    "            winner_games += 1\n",
    "        elif set == \"\" or set == \"Walkover\" or set == \"\":\n",
    "            pass\n",
    "        else:\n",
    "            winner, loser = set.split(\"-\")\n",
    "            winner_games += float(winner)\n",
    "            loser_games += float(loser)\n",
    "    return winner_games, loser_games\n",
    "\n",
    "df_all_matches[[\"w_games_won\", \"l_games_won\"]] = df_all_matches[\"score\"].apply(lambda x: pd.Series(winner_loser_games_won(x)))\n",
    "df_all_matches.drop([\"score\"], axis = 1, inplace = True)"
   ]
  },
  {
   "cell_type": "code",
   "execution_count": 10,
   "id": "fdb4c98f-8376-4241-8373-6aa10d4a1e7b",
   "metadata": {},
   "outputs": [],
   "source": [
    "# 7.\n",
    "\n",
    "def lower_if_not_nan(entry):\n",
    "    if type(entry) == float:\n",
    "        return entry\n",
    "    return entry.lower()\n",
    "\n",
    "df_all_matches[\"winner_entry\"] = df_all_matches[\"winner_entry\"].apply(lower_if_not_nan)\n",
    "df_all_matches[\"loser_entry\"] = df_all_matches[\"loser_entry\"].apply(lower_if_not_nan)\n",
    "df_all_matches = pd.get_dummies(df_all_matches, columns = [\"winner_entry\", \"loser_entry\"], dtype = float)\n",
    "df_all_matches.drop(\"loser_entry_s\", axis = 1, inplace = True)"
   ]
  },
  {
   "cell_type": "code",
   "execution_count": 11,
   "id": "df458a5c-3b5d-4284-bf51-b9ff490bc416",
   "metadata": {},
   "outputs": [],
   "source": [
    "# 8.\n",
    "df_all_matches.drop([\"minutes\"], axis = 1, inplace = True)"
   ]
  },
  {
   "cell_type": "code",
   "execution_count": 12,
   "id": "e1ea75e0-bbd2-4629-b93a-2da9fe3e0404",
   "metadata": {},
   "outputs": [],
   "source": [
    "# 9.\n",
    "df_all_matches.drop([\"winner_rank\", \"loser_rank\"], axis = 1, inplace = True)"
   ]
  },
  {
   "cell_type": "code",
   "execution_count": 13,
   "id": "0e6e17dc-b162-49b9-8411-a14cbcacb868",
   "metadata": {},
   "outputs": [],
   "source": [
    "# 10.\n",
    "df_all_matches.drop([\"best_of\"], axis = 1, inplace = True)"
   ]
  },
  {
   "cell_type": "code",
   "execution_count": 14,
   "id": "cd5c1157-eff0-4ee6-8f3b-f90e6202950f",
   "metadata": {},
   "outputs": [],
   "source": [
    "# 11.\n",
    "df_all_matches.drop([\"round\"], axis = 1, inplace = True)"
   ]
  },
  {
   "cell_type": "code",
   "execution_count": 15,
   "id": "191d0e9d-118a-49e6-996a-a202a6372e2c",
   "metadata": {},
   "outputs": [],
   "source": [
    "# 13.\n",
    "df_all_matches.drop([\"tourney_level\"], axis = 1, inplace = True)"
   ]
  },
  {
   "cell_type": "code",
   "execution_count": 16,
   "id": "51362f7a-66b7-44b4-b08b-2e54f00806b7",
   "metadata": {},
   "outputs": [],
   "source": [
    "# 14.\n",
    "df_all_matches.drop([\"winner_age\", \"winner_ht\", \"loser_age\", \"loser_ht\"], axis = 1, inplace = True)"
   ]
  },
  {
   "cell_type": "code",
   "execution_count": 17,
   "id": "901577d9-5066-4582-8b6e-ecd2fee10465",
   "metadata": {},
   "outputs": [],
   "source": [
    "# For hand, we will use to create the past X match performance against\n",
    "# opponents of the same hand then drop that column"
   ]
  },
  {
   "cell_type": "code",
   "execution_count": 18,
   "id": "70b7cfeb-a7ef-4e5b-be71-9d99aa975717",
   "metadata": {},
   "outputs": [
    {
     "data": {
      "text/plain": [
       "Index(['tourney_id', 'surface', 'tourney_date', 'winner_id', 'winner_hand',\n",
       "       'loser_id', 'loser_hand', 'w_ace', 'w_df', 'w_svpt', 'w_1stIn',\n",
       "       'w_1stWon', 'w_2ndWon', 'w_SvGms', 'w_bpSaved', 'w_bpFaced', 'l_ace',\n",
       "       'l_df', 'l_svpt', 'l_1stIn', 'l_1stWon', 'l_2ndWon', 'l_SvGms',\n",
       "       'l_bpSaved', 'l_bpFaced', 'winner_rank_points', 'loser_rank_points',\n",
       "       'winner_seed_score', 'loser_seed_score', 'w_games_won', 'l_games_won',\n",
       "       'winner_entry_alt', 'winner_entry_ll', 'winner_entry_pr',\n",
       "       'winner_entry_q', 'winner_entry_se', 'winner_entry_wc',\n",
       "       'loser_entry_alt', 'loser_entry_ll', 'loser_entry_pr', 'loser_entry_q',\n",
       "       'loser_entry_se', 'loser_entry_wc'],\n",
       "      dtype='object')"
      ]
     },
     "execution_count": 18,
     "metadata": {},
     "output_type": "execute_result"
    }
   ],
   "source": [
    "df_all_matches.columns"
   ]
  },
  {
   "cell_type": "markdown",
   "id": "1014e3ff-bbe3-4cad-a20f-e10f95a06f85",
   "metadata": {},
   "source": [
    "We can now split the data into train, validation, test - 70%, 15%, 15% chronologically"
   ]
  },
  {
   "cell_type": "code",
   "execution_count": 19,
   "id": "c939b96e-3be6-4095-ad74-b1a08a3c97d3",
   "metadata": {},
   "outputs": [],
   "source": [
    "df_all_matches_train = df_all_matches[:20578]\n",
    "df_all_matches_validation = df_all_matches[20578:24987]\n",
    "df_all_matches_test = df_all_matches[24987:]"
   ]
  },
  {
   "cell_type": "markdown",
   "id": "1b63a18a-ddc2-43fb-80ee-9840363937db",
   "metadata": {},
   "source": [
    "Fit a normalizer to the training data, then also normalize the validation and test sets with the same normalizer"
   ]
  },
  {
   "cell_type": "code",
   "execution_count": 20,
   "id": "0f2bd07c-cc95-40bc-9a5e-189d7c6c34a8",
   "metadata": {},
   "outputs": [],
   "source": [
    "from sklearn.compose import ColumnTransformer\n",
    "from sklearn.preprocessing import MinMaxScaler"
   ]
  },
  {
   "cell_type": "code",
   "execution_count": 21,
   "id": "ad0c0e1b-9692-4f92-b8cf-bb138a7a60ff",
   "metadata": {},
   "outputs": [
    {
     "name": "stderr",
     "output_type": "stream",
     "text": [
      "/opt/anaconda3/lib/python3.12/site-packages/sklearn/compose/_column_transformer.py:1667: FutureWarning: \n",
      "The format of the columns of the 'remainder' transformer in ColumnTransformer.transformers_ will change in version 1.7 to match the format of the other transformers.\n",
      "At the moment the remainder columns are stored as indices (of type int). With the same ColumnTransformer configuration, in the future they will be stored as column names (of type str).\n",
      "To use the new behavior now and suppress this warning, use ColumnTransformer(force_int_remainder_cols=False).\n",
      "\n",
      "  warnings.warn(\n"
     ]
    },
    {
     "data": {
      "text/html": [
       "<style>#sk-container-id-1 {\n",
       "  /* Definition of color scheme common for light and dark mode */\n",
       "  --sklearn-color-text: #000;\n",
       "  --sklearn-color-text-muted: #666;\n",
       "  --sklearn-color-line: gray;\n",
       "  /* Definition of color scheme for unfitted estimators */\n",
       "  --sklearn-color-unfitted-level-0: #fff5e6;\n",
       "  --sklearn-color-unfitted-level-1: #f6e4d2;\n",
       "  --sklearn-color-unfitted-level-2: #ffe0b3;\n",
       "  --sklearn-color-unfitted-level-3: chocolate;\n",
       "  /* Definition of color scheme for fitted estimators */\n",
       "  --sklearn-color-fitted-level-0: #f0f8ff;\n",
       "  --sklearn-color-fitted-level-1: #d4ebff;\n",
       "  --sklearn-color-fitted-level-2: #b3dbfd;\n",
       "  --sklearn-color-fitted-level-3: cornflowerblue;\n",
       "\n",
       "  /* Specific color for light theme */\n",
       "  --sklearn-color-text-on-default-background: var(--sg-text-color, var(--theme-code-foreground, var(--jp-content-font-color1, black)));\n",
       "  --sklearn-color-background: var(--sg-background-color, var(--theme-background, var(--jp-layout-color0, white)));\n",
       "  --sklearn-color-border-box: var(--sg-text-color, var(--theme-code-foreground, var(--jp-content-font-color1, black)));\n",
       "  --sklearn-color-icon: #696969;\n",
       "\n",
       "  @media (prefers-color-scheme: dark) {\n",
       "    /* Redefinition of color scheme for dark theme */\n",
       "    --sklearn-color-text-on-default-background: var(--sg-text-color, var(--theme-code-foreground, var(--jp-content-font-color1, white)));\n",
       "    --sklearn-color-background: var(--sg-background-color, var(--theme-background, var(--jp-layout-color0, #111)));\n",
       "    --sklearn-color-border-box: var(--sg-text-color, var(--theme-code-foreground, var(--jp-content-font-color1, white)));\n",
       "    --sklearn-color-icon: #878787;\n",
       "  }\n",
       "}\n",
       "\n",
       "#sk-container-id-1 {\n",
       "  color: var(--sklearn-color-text);\n",
       "}\n",
       "\n",
       "#sk-container-id-1 pre {\n",
       "  padding: 0;\n",
       "}\n",
       "\n",
       "#sk-container-id-1 input.sk-hidden--visually {\n",
       "  border: 0;\n",
       "  clip: rect(1px 1px 1px 1px);\n",
       "  clip: rect(1px, 1px, 1px, 1px);\n",
       "  height: 1px;\n",
       "  margin: -1px;\n",
       "  overflow: hidden;\n",
       "  padding: 0;\n",
       "  position: absolute;\n",
       "  width: 1px;\n",
       "}\n",
       "\n",
       "#sk-container-id-1 div.sk-dashed-wrapped {\n",
       "  border: 1px dashed var(--sklearn-color-line);\n",
       "  margin: 0 0.4em 0.5em 0.4em;\n",
       "  box-sizing: border-box;\n",
       "  padding-bottom: 0.4em;\n",
       "  background-color: var(--sklearn-color-background);\n",
       "}\n",
       "\n",
       "#sk-container-id-1 div.sk-container {\n",
       "  /* jupyter's `normalize.less` sets `[hidden] { display: none; }`\n",
       "     but bootstrap.min.css set `[hidden] { display: none !important; }`\n",
       "     so we also need the `!important` here to be able to override the\n",
       "     default hidden behavior on the sphinx rendered scikit-learn.org.\n",
       "     See: https://github.com/scikit-learn/scikit-learn/issues/21755 */\n",
       "  display: inline-block !important;\n",
       "  position: relative;\n",
       "}\n",
       "\n",
       "#sk-container-id-1 div.sk-text-repr-fallback {\n",
       "  display: none;\n",
       "}\n",
       "\n",
       "div.sk-parallel-item,\n",
       "div.sk-serial,\n",
       "div.sk-item {\n",
       "  /* draw centered vertical line to link estimators */\n",
       "  background-image: linear-gradient(var(--sklearn-color-text-on-default-background), var(--sklearn-color-text-on-default-background));\n",
       "  background-size: 2px 100%;\n",
       "  background-repeat: no-repeat;\n",
       "  background-position: center center;\n",
       "}\n",
       "\n",
       "/* Parallel-specific style estimator block */\n",
       "\n",
       "#sk-container-id-1 div.sk-parallel-item::after {\n",
       "  content: \"\";\n",
       "  width: 100%;\n",
       "  border-bottom: 2px solid var(--sklearn-color-text-on-default-background);\n",
       "  flex-grow: 1;\n",
       "}\n",
       "\n",
       "#sk-container-id-1 div.sk-parallel {\n",
       "  display: flex;\n",
       "  align-items: stretch;\n",
       "  justify-content: center;\n",
       "  background-color: var(--sklearn-color-background);\n",
       "  position: relative;\n",
       "}\n",
       "\n",
       "#sk-container-id-1 div.sk-parallel-item {\n",
       "  display: flex;\n",
       "  flex-direction: column;\n",
       "}\n",
       "\n",
       "#sk-container-id-1 div.sk-parallel-item:first-child::after {\n",
       "  align-self: flex-end;\n",
       "  width: 50%;\n",
       "}\n",
       "\n",
       "#sk-container-id-1 div.sk-parallel-item:last-child::after {\n",
       "  align-self: flex-start;\n",
       "  width: 50%;\n",
       "}\n",
       "\n",
       "#sk-container-id-1 div.sk-parallel-item:only-child::after {\n",
       "  width: 0;\n",
       "}\n",
       "\n",
       "/* Serial-specific style estimator block */\n",
       "\n",
       "#sk-container-id-1 div.sk-serial {\n",
       "  display: flex;\n",
       "  flex-direction: column;\n",
       "  align-items: center;\n",
       "  background-color: var(--sklearn-color-background);\n",
       "  padding-right: 1em;\n",
       "  padding-left: 1em;\n",
       "}\n",
       "\n",
       "\n",
       "/* Toggleable style: style used for estimator/Pipeline/ColumnTransformer box that is\n",
       "clickable and can be expanded/collapsed.\n",
       "- Pipeline and ColumnTransformer use this feature and define the default style\n",
       "- Estimators will overwrite some part of the style using the `sk-estimator` class\n",
       "*/\n",
       "\n",
       "/* Pipeline and ColumnTransformer style (default) */\n",
       "\n",
       "#sk-container-id-1 div.sk-toggleable {\n",
       "  /* Default theme specific background. It is overwritten whether we have a\n",
       "  specific estimator or a Pipeline/ColumnTransformer */\n",
       "  background-color: var(--sklearn-color-background);\n",
       "}\n",
       "\n",
       "/* Toggleable label */\n",
       "#sk-container-id-1 label.sk-toggleable__label {\n",
       "  cursor: pointer;\n",
       "  display: flex;\n",
       "  width: 100%;\n",
       "  margin-bottom: 0;\n",
       "  padding: 0.5em;\n",
       "  box-sizing: border-box;\n",
       "  text-align: center;\n",
       "  align-items: start;\n",
       "  justify-content: space-between;\n",
       "  gap: 0.5em;\n",
       "}\n",
       "\n",
       "#sk-container-id-1 label.sk-toggleable__label .caption {\n",
       "  font-size: 0.6rem;\n",
       "  font-weight: lighter;\n",
       "  color: var(--sklearn-color-text-muted);\n",
       "}\n",
       "\n",
       "#sk-container-id-1 label.sk-toggleable__label-arrow:before {\n",
       "  /* Arrow on the left of the label */\n",
       "  content: \"▸\";\n",
       "  float: left;\n",
       "  margin-right: 0.25em;\n",
       "  color: var(--sklearn-color-icon);\n",
       "}\n",
       "\n",
       "#sk-container-id-1 label.sk-toggleable__label-arrow:hover:before {\n",
       "  color: var(--sklearn-color-text);\n",
       "}\n",
       "\n",
       "/* Toggleable content - dropdown */\n",
       "\n",
       "#sk-container-id-1 div.sk-toggleable__content {\n",
       "  max-height: 0;\n",
       "  max-width: 0;\n",
       "  overflow: hidden;\n",
       "  text-align: left;\n",
       "  /* unfitted */\n",
       "  background-color: var(--sklearn-color-unfitted-level-0);\n",
       "}\n",
       "\n",
       "#sk-container-id-1 div.sk-toggleable__content.fitted {\n",
       "  /* fitted */\n",
       "  background-color: var(--sklearn-color-fitted-level-0);\n",
       "}\n",
       "\n",
       "#sk-container-id-1 div.sk-toggleable__content pre {\n",
       "  margin: 0.2em;\n",
       "  border-radius: 0.25em;\n",
       "  color: var(--sklearn-color-text);\n",
       "  /* unfitted */\n",
       "  background-color: var(--sklearn-color-unfitted-level-0);\n",
       "}\n",
       "\n",
       "#sk-container-id-1 div.sk-toggleable__content.fitted pre {\n",
       "  /* unfitted */\n",
       "  background-color: var(--sklearn-color-fitted-level-0);\n",
       "}\n",
       "\n",
       "#sk-container-id-1 input.sk-toggleable__control:checked~div.sk-toggleable__content {\n",
       "  /* Expand drop-down */\n",
       "  max-height: 200px;\n",
       "  max-width: 100%;\n",
       "  overflow: auto;\n",
       "}\n",
       "\n",
       "#sk-container-id-1 input.sk-toggleable__control:checked~label.sk-toggleable__label-arrow:before {\n",
       "  content: \"▾\";\n",
       "}\n",
       "\n",
       "/* Pipeline/ColumnTransformer-specific style */\n",
       "\n",
       "#sk-container-id-1 div.sk-label input.sk-toggleable__control:checked~label.sk-toggleable__label {\n",
       "  color: var(--sklearn-color-text);\n",
       "  background-color: var(--sklearn-color-unfitted-level-2);\n",
       "}\n",
       "\n",
       "#sk-container-id-1 div.sk-label.fitted input.sk-toggleable__control:checked~label.sk-toggleable__label {\n",
       "  background-color: var(--sklearn-color-fitted-level-2);\n",
       "}\n",
       "\n",
       "/* Estimator-specific style */\n",
       "\n",
       "/* Colorize estimator box */\n",
       "#sk-container-id-1 div.sk-estimator input.sk-toggleable__control:checked~label.sk-toggleable__label {\n",
       "  /* unfitted */\n",
       "  background-color: var(--sklearn-color-unfitted-level-2);\n",
       "}\n",
       "\n",
       "#sk-container-id-1 div.sk-estimator.fitted input.sk-toggleable__control:checked~label.sk-toggleable__label {\n",
       "  /* fitted */\n",
       "  background-color: var(--sklearn-color-fitted-level-2);\n",
       "}\n",
       "\n",
       "#sk-container-id-1 div.sk-label label.sk-toggleable__label,\n",
       "#sk-container-id-1 div.sk-label label {\n",
       "  /* The background is the default theme color */\n",
       "  color: var(--sklearn-color-text-on-default-background);\n",
       "}\n",
       "\n",
       "/* On hover, darken the color of the background */\n",
       "#sk-container-id-1 div.sk-label:hover label.sk-toggleable__label {\n",
       "  color: var(--sklearn-color-text);\n",
       "  background-color: var(--sklearn-color-unfitted-level-2);\n",
       "}\n",
       "\n",
       "/* Label box, darken color on hover, fitted */\n",
       "#sk-container-id-1 div.sk-label.fitted:hover label.sk-toggleable__label.fitted {\n",
       "  color: var(--sklearn-color-text);\n",
       "  background-color: var(--sklearn-color-fitted-level-2);\n",
       "}\n",
       "\n",
       "/* Estimator label */\n",
       "\n",
       "#sk-container-id-1 div.sk-label label {\n",
       "  font-family: monospace;\n",
       "  font-weight: bold;\n",
       "  display: inline-block;\n",
       "  line-height: 1.2em;\n",
       "}\n",
       "\n",
       "#sk-container-id-1 div.sk-label-container {\n",
       "  text-align: center;\n",
       "}\n",
       "\n",
       "/* Estimator-specific */\n",
       "#sk-container-id-1 div.sk-estimator {\n",
       "  font-family: monospace;\n",
       "  border: 1px dotted var(--sklearn-color-border-box);\n",
       "  border-radius: 0.25em;\n",
       "  box-sizing: border-box;\n",
       "  margin-bottom: 0.5em;\n",
       "  /* unfitted */\n",
       "  background-color: var(--sklearn-color-unfitted-level-0);\n",
       "}\n",
       "\n",
       "#sk-container-id-1 div.sk-estimator.fitted {\n",
       "  /* fitted */\n",
       "  background-color: var(--sklearn-color-fitted-level-0);\n",
       "}\n",
       "\n",
       "/* on hover */\n",
       "#sk-container-id-1 div.sk-estimator:hover {\n",
       "  /* unfitted */\n",
       "  background-color: var(--sklearn-color-unfitted-level-2);\n",
       "}\n",
       "\n",
       "#sk-container-id-1 div.sk-estimator.fitted:hover {\n",
       "  /* fitted */\n",
       "  background-color: var(--sklearn-color-fitted-level-2);\n",
       "}\n",
       "\n",
       "/* Specification for estimator info (e.g. \"i\" and \"?\") */\n",
       "\n",
       "/* Common style for \"i\" and \"?\" */\n",
       "\n",
       ".sk-estimator-doc-link,\n",
       "a:link.sk-estimator-doc-link,\n",
       "a:visited.sk-estimator-doc-link {\n",
       "  float: right;\n",
       "  font-size: smaller;\n",
       "  line-height: 1em;\n",
       "  font-family: monospace;\n",
       "  background-color: var(--sklearn-color-background);\n",
       "  border-radius: 1em;\n",
       "  height: 1em;\n",
       "  width: 1em;\n",
       "  text-decoration: none !important;\n",
       "  margin-left: 0.5em;\n",
       "  text-align: center;\n",
       "  /* unfitted */\n",
       "  border: var(--sklearn-color-unfitted-level-1) 1pt solid;\n",
       "  color: var(--sklearn-color-unfitted-level-1);\n",
       "}\n",
       "\n",
       ".sk-estimator-doc-link.fitted,\n",
       "a:link.sk-estimator-doc-link.fitted,\n",
       "a:visited.sk-estimator-doc-link.fitted {\n",
       "  /* fitted */\n",
       "  border: var(--sklearn-color-fitted-level-1) 1pt solid;\n",
       "  color: var(--sklearn-color-fitted-level-1);\n",
       "}\n",
       "\n",
       "/* On hover */\n",
       "div.sk-estimator:hover .sk-estimator-doc-link:hover,\n",
       ".sk-estimator-doc-link:hover,\n",
       "div.sk-label-container:hover .sk-estimator-doc-link:hover,\n",
       ".sk-estimator-doc-link:hover {\n",
       "  /* unfitted */\n",
       "  background-color: var(--sklearn-color-unfitted-level-3);\n",
       "  color: var(--sklearn-color-background);\n",
       "  text-decoration: none;\n",
       "}\n",
       "\n",
       "div.sk-estimator.fitted:hover .sk-estimator-doc-link.fitted:hover,\n",
       ".sk-estimator-doc-link.fitted:hover,\n",
       "div.sk-label-container:hover .sk-estimator-doc-link.fitted:hover,\n",
       ".sk-estimator-doc-link.fitted:hover {\n",
       "  /* fitted */\n",
       "  background-color: var(--sklearn-color-fitted-level-3);\n",
       "  color: var(--sklearn-color-background);\n",
       "  text-decoration: none;\n",
       "}\n",
       "\n",
       "/* Span, style for the box shown on hovering the info icon */\n",
       ".sk-estimator-doc-link span {\n",
       "  display: none;\n",
       "  z-index: 9999;\n",
       "  position: relative;\n",
       "  font-weight: normal;\n",
       "  right: .2ex;\n",
       "  padding: .5ex;\n",
       "  margin: .5ex;\n",
       "  width: min-content;\n",
       "  min-width: 20ex;\n",
       "  max-width: 50ex;\n",
       "  color: var(--sklearn-color-text);\n",
       "  box-shadow: 2pt 2pt 4pt #999;\n",
       "  /* unfitted */\n",
       "  background: var(--sklearn-color-unfitted-level-0);\n",
       "  border: .5pt solid var(--sklearn-color-unfitted-level-3);\n",
       "}\n",
       "\n",
       ".sk-estimator-doc-link.fitted span {\n",
       "  /* fitted */\n",
       "  background: var(--sklearn-color-fitted-level-0);\n",
       "  border: var(--sklearn-color-fitted-level-3);\n",
       "}\n",
       "\n",
       ".sk-estimator-doc-link:hover span {\n",
       "  display: block;\n",
       "}\n",
       "\n",
       "/* \"?\"-specific style due to the `<a>` HTML tag */\n",
       "\n",
       "#sk-container-id-1 a.estimator_doc_link {\n",
       "  float: right;\n",
       "  font-size: 1rem;\n",
       "  line-height: 1em;\n",
       "  font-family: monospace;\n",
       "  background-color: var(--sklearn-color-background);\n",
       "  border-radius: 1rem;\n",
       "  height: 1rem;\n",
       "  width: 1rem;\n",
       "  text-decoration: none;\n",
       "  /* unfitted */\n",
       "  color: var(--sklearn-color-unfitted-level-1);\n",
       "  border: var(--sklearn-color-unfitted-level-1) 1pt solid;\n",
       "}\n",
       "\n",
       "#sk-container-id-1 a.estimator_doc_link.fitted {\n",
       "  /* fitted */\n",
       "  border: var(--sklearn-color-fitted-level-1) 1pt solid;\n",
       "  color: var(--sklearn-color-fitted-level-1);\n",
       "}\n",
       "\n",
       "/* On hover */\n",
       "#sk-container-id-1 a.estimator_doc_link:hover {\n",
       "  /* unfitted */\n",
       "  background-color: var(--sklearn-color-unfitted-level-3);\n",
       "  color: var(--sklearn-color-background);\n",
       "  text-decoration: none;\n",
       "}\n",
       "\n",
       "#sk-container-id-1 a.estimator_doc_link.fitted:hover {\n",
       "  /* fitted */\n",
       "  background-color: var(--sklearn-color-fitted-level-3);\n",
       "}\n",
       "</style><div id=\"sk-container-id-1\" class=\"sk-top-container\"><div class=\"sk-text-repr-fallback\"><pre>ColumnTransformer(remainder=&#x27;passthrough&#x27;,\n",
       "                  transformers=[(&#x27;norm&#x27;, MinMaxScaler(),\n",
       "                                 [&#x27;w_ace&#x27;, &#x27;w_df&#x27;, &#x27;w_svpt&#x27;, &#x27;w_1stIn&#x27;,\n",
       "                                  &#x27;w_1stWon&#x27;, &#x27;w_2ndWon&#x27;, &#x27;w_SvGms&#x27;,\n",
       "                                  &#x27;w_bpSaved&#x27;, &#x27;w_bpFaced&#x27;, &#x27;l_ace&#x27;, &#x27;l_df&#x27;,\n",
       "                                  &#x27;l_svpt&#x27;, &#x27;l_1stIn&#x27;, &#x27;l_1stWon&#x27;, &#x27;l_2ndWon&#x27;,\n",
       "                                  &#x27;l_SvGms&#x27;, &#x27;l_bpSaved&#x27;, &#x27;l_bpFaced&#x27;,\n",
       "                                  &#x27;winner_rank_points&#x27;, &#x27;loser_rank_points&#x27;,\n",
       "                                  &#x27;winner_seed_score&#x27;, &#x27;loser_seed_score&#x27;,\n",
       "                                  &#x27;w_games_won&#x27;, &#x27;l_games_won&#x27;])])</pre><b>In a Jupyter environment, please rerun this cell to show the HTML representation or trust the notebook. <br />On GitHub, the HTML representation is unable to render, please try loading this page with nbviewer.org.</b></div><div class=\"sk-container\" hidden><div class=\"sk-item sk-dashed-wrapped\"><div class=\"sk-label-container\"><div class=\"sk-label fitted sk-toggleable\"><input class=\"sk-toggleable__control sk-hidden--visually\" id=\"sk-estimator-id-1\" type=\"checkbox\" ><label for=\"sk-estimator-id-1\" class=\"sk-toggleable__label fitted sk-toggleable__label-arrow\"><div><div>ColumnTransformer</div></div><div><a class=\"sk-estimator-doc-link fitted\" rel=\"noreferrer\" target=\"_blank\" href=\"https://scikit-learn.org/1.6/modules/generated/sklearn.compose.ColumnTransformer.html\">?<span>Documentation for ColumnTransformer</span></a><span class=\"sk-estimator-doc-link fitted\">i<span>Fitted</span></span></div></label><div class=\"sk-toggleable__content fitted\"><pre>ColumnTransformer(remainder=&#x27;passthrough&#x27;,\n",
       "                  transformers=[(&#x27;norm&#x27;, MinMaxScaler(),\n",
       "                                 [&#x27;w_ace&#x27;, &#x27;w_df&#x27;, &#x27;w_svpt&#x27;, &#x27;w_1stIn&#x27;,\n",
       "                                  &#x27;w_1stWon&#x27;, &#x27;w_2ndWon&#x27;, &#x27;w_SvGms&#x27;,\n",
       "                                  &#x27;w_bpSaved&#x27;, &#x27;w_bpFaced&#x27;, &#x27;l_ace&#x27;, &#x27;l_df&#x27;,\n",
       "                                  &#x27;l_svpt&#x27;, &#x27;l_1stIn&#x27;, &#x27;l_1stWon&#x27;, &#x27;l_2ndWon&#x27;,\n",
       "                                  &#x27;l_SvGms&#x27;, &#x27;l_bpSaved&#x27;, &#x27;l_bpFaced&#x27;,\n",
       "                                  &#x27;winner_rank_points&#x27;, &#x27;loser_rank_points&#x27;,\n",
       "                                  &#x27;winner_seed_score&#x27;, &#x27;loser_seed_score&#x27;,\n",
       "                                  &#x27;w_games_won&#x27;, &#x27;l_games_won&#x27;])])</pre></div> </div></div><div class=\"sk-parallel\"><div class=\"sk-parallel-item\"><div class=\"sk-item\"><div class=\"sk-label-container\"><div class=\"sk-label fitted sk-toggleable\"><input class=\"sk-toggleable__control sk-hidden--visually\" id=\"sk-estimator-id-2\" type=\"checkbox\" ><label for=\"sk-estimator-id-2\" class=\"sk-toggleable__label fitted sk-toggleable__label-arrow\"><div><div>norm</div></div></label><div class=\"sk-toggleable__content fitted\"><pre>[&#x27;w_ace&#x27;, &#x27;w_df&#x27;, &#x27;w_svpt&#x27;, &#x27;w_1stIn&#x27;, &#x27;w_1stWon&#x27;, &#x27;w_2ndWon&#x27;, &#x27;w_SvGms&#x27;, &#x27;w_bpSaved&#x27;, &#x27;w_bpFaced&#x27;, &#x27;l_ace&#x27;, &#x27;l_df&#x27;, &#x27;l_svpt&#x27;, &#x27;l_1stIn&#x27;, &#x27;l_1stWon&#x27;, &#x27;l_2ndWon&#x27;, &#x27;l_SvGms&#x27;, &#x27;l_bpSaved&#x27;, &#x27;l_bpFaced&#x27;, &#x27;winner_rank_points&#x27;, &#x27;loser_rank_points&#x27;, &#x27;winner_seed_score&#x27;, &#x27;loser_seed_score&#x27;, &#x27;w_games_won&#x27;, &#x27;l_games_won&#x27;]</pre></div> </div></div><div class=\"sk-serial\"><div class=\"sk-item\"><div class=\"sk-estimator fitted sk-toggleable\"><input class=\"sk-toggleable__control sk-hidden--visually\" id=\"sk-estimator-id-3\" type=\"checkbox\" ><label for=\"sk-estimator-id-3\" class=\"sk-toggleable__label fitted sk-toggleable__label-arrow\"><div><div>MinMaxScaler</div></div><div><a class=\"sk-estimator-doc-link fitted\" rel=\"noreferrer\" target=\"_blank\" href=\"https://scikit-learn.org/1.6/modules/generated/sklearn.preprocessing.MinMaxScaler.html\">?<span>Documentation for MinMaxScaler</span></a></div></label><div class=\"sk-toggleable__content fitted\"><pre>MinMaxScaler()</pre></div> </div></div></div></div></div><div class=\"sk-parallel-item\"><div class=\"sk-item\"><div class=\"sk-label-container\"><div class=\"sk-label fitted sk-toggleable\"><input class=\"sk-toggleable__control sk-hidden--visually\" id=\"sk-estimator-id-4\" type=\"checkbox\" ><label for=\"sk-estimator-id-4\" class=\"sk-toggleable__label fitted sk-toggleable__label-arrow\"><div><div>remainder</div></div></label><div class=\"sk-toggleable__content fitted\"><pre>[&#x27;tourney_id&#x27;, &#x27;surface&#x27;, &#x27;tourney_date&#x27;, &#x27;winner_id&#x27;, &#x27;winner_hand&#x27;, &#x27;loser_id&#x27;, &#x27;loser_hand&#x27;, &#x27;winner_entry_alt&#x27;, &#x27;winner_entry_ll&#x27;, &#x27;winner_entry_pr&#x27;, &#x27;winner_entry_q&#x27;, &#x27;winner_entry_se&#x27;, &#x27;winner_entry_wc&#x27;, &#x27;loser_entry_alt&#x27;, &#x27;loser_entry_ll&#x27;, &#x27;loser_entry_pr&#x27;, &#x27;loser_entry_q&#x27;, &#x27;loser_entry_se&#x27;, &#x27;loser_entry_wc&#x27;]</pre></div> </div></div><div class=\"sk-serial\"><div class=\"sk-item\"><div class=\"sk-estimator fitted sk-toggleable\"><input class=\"sk-toggleable__control sk-hidden--visually\" id=\"sk-estimator-id-5\" type=\"checkbox\" ><label for=\"sk-estimator-id-5\" class=\"sk-toggleable__label fitted sk-toggleable__label-arrow\"><div><div>passthrough</div></div></label><div class=\"sk-toggleable__content fitted\"><pre>passthrough</pre></div> </div></div></div></div></div></div></div></div></div>"
      ],
      "text/plain": [
       "ColumnTransformer(remainder='passthrough',\n",
       "                  transformers=[('norm', MinMaxScaler(),\n",
       "                                 ['w_ace', 'w_df', 'w_svpt', 'w_1stIn',\n",
       "                                  'w_1stWon', 'w_2ndWon', 'w_SvGms',\n",
       "                                  'w_bpSaved', 'w_bpFaced', 'l_ace', 'l_df',\n",
       "                                  'l_svpt', 'l_1stIn', 'l_1stWon', 'l_2ndWon',\n",
       "                                  'l_SvGms', 'l_bpSaved', 'l_bpFaced',\n",
       "                                  'winner_rank_points', 'loser_rank_points',\n",
       "                                  'winner_seed_score', 'loser_seed_score',\n",
       "                                  'w_games_won', 'l_games_won'])])"
      ]
     },
     "execution_count": 21,
     "metadata": {},
     "output_type": "execute_result"
    }
   ],
   "source": [
    "# Columns to normalize\n",
    "columns_to_normalize = ['w_ace', 'w_df', 'w_svpt', 'w_1stIn',\n",
    "       'w_1stWon', 'w_2ndWon', 'w_SvGms', 'w_bpSaved', 'w_bpFaced', 'l_ace',\n",
    "       'l_df', 'l_svpt', 'l_1stIn', 'l_1stWon', 'l_2ndWon', 'l_SvGms',\n",
    "       'l_bpSaved', 'l_bpFaced', 'winner_rank_points', 'loser_rank_points',\n",
    "       'winner_seed_score', 'loser_seed_score', 'w_games_won', 'l_games_won']\n",
    "\n",
    "# Create the normalizer (fit only on training set)\n",
    "normalizer = ColumnTransformer(\n",
    "    transformers=[\n",
    "        ('norm', MinMaxScaler(), columns_to_normalize)\n",
    "    ],\n",
    "    remainder='passthrough'  # Keep non-normalized columns\n",
    ")\n",
    "normalizer.fit(df_all_matches_train)"
   ]
  },
  {
   "cell_type": "code",
   "execution_count": 22,
   "id": "43eea1f1-8576-49d8-919c-d8461b8f0f71",
   "metadata": {},
   "outputs": [],
   "source": [
    "X_train_norm = normalizer.transform(df_all_matches_train)\n",
    "new_columns = columns_to_normalize + [col for col in df_all_matches_train.columns if col not in columns_to_normalize]\n",
    "df_all_matches_train = pd.DataFrame(X_train_norm, columns=new_columns)"
   ]
  },
  {
   "cell_type": "code",
   "execution_count": 23,
   "id": "91db75b1-6c80-4354-beae-50b81fd99da4",
   "metadata": {},
   "outputs": [],
   "source": [
    "X_validation_norm = normalizer.transform(df_all_matches_validation)\n",
    "new_columns = columns_to_normalize + [col for col in df_all_matches_validation.columns if col not in columns_to_normalize]\n",
    "df_all_matches_validation = pd.DataFrame(X_validation_norm, columns=new_columns)"
   ]
  },
  {
   "cell_type": "code",
   "execution_count": 24,
   "id": "2a3ce13b-0566-4d99-8cad-1c2a517c0cc2",
   "metadata": {},
   "outputs": [],
   "source": [
    "X_test_norm = normalizer.transform(df_all_matches_test)\n",
    "new_columns = columns_to_normalize + [col for col in df_all_matches_test.columns if col not in columns_to_normalize]\n",
    "df_all_matches_test = pd.DataFrame(X_test_norm, columns=new_columns)"
   ]
  },
  {
   "cell_type": "code",
   "execution_count": 25,
   "id": "d45a4352-cb70-4f99-abad-dee51f2e513d",
   "metadata": {},
   "outputs": [
    {
     "data": {
      "text/plain": [
       "Index(['w_ace', 'w_df', 'w_svpt', 'w_1stIn', 'w_1stWon', 'w_2ndWon', 'w_SvGms',\n",
       "       'w_bpSaved', 'w_bpFaced', 'l_ace', 'l_df', 'l_svpt', 'l_1stIn',\n",
       "       'l_1stWon', 'l_2ndWon', 'l_SvGms', 'l_bpSaved', 'l_bpFaced',\n",
       "       'winner_rank_points', 'loser_rank_points', 'winner_seed_score',\n",
       "       'loser_seed_score', 'w_games_won', 'l_games_won', 'tourney_id',\n",
       "       'surface', 'tourney_date', 'winner_id', 'winner_hand', 'loser_id',\n",
       "       'loser_hand', 'winner_entry_alt', 'winner_entry_ll', 'winner_entry_pr',\n",
       "       'winner_entry_q', 'winner_entry_se', 'winner_entry_wc',\n",
       "       'loser_entry_alt', 'loser_entry_ll', 'loser_entry_pr', 'loser_entry_q',\n",
       "       'loser_entry_se', 'loser_entry_wc'],\n",
       "      dtype='object')"
      ]
     },
     "execution_count": 25,
     "metadata": {},
     "output_type": "execute_result"
    }
   ],
   "source": [
    "df_all_matches_train.columns"
   ]
  },
  {
   "cell_type": "markdown",
   "id": "80d40999-a4df-4332-a3bb-0406ff7d8927",
   "metadata": {},
   "source": [
    "## Input Match"
   ]
  },
  {
   "cell_type": "markdown",
   "id": "1f43252b-0f7e-4b0d-9440-f021c36e4110",
   "metadata": {},
   "source": [
    "Set up a dataset to represent the data for an upcoming match"
   ]
  },
  {
   "cell_type": "code",
   "execution_count": 26,
   "id": "7c499254-3fd3-4fac-a676-06abc9b47338",
   "metadata": {},
   "outputs": [],
   "source": [
    "df_current_match_train = df_all_matches_train.copy()\n",
    "df_current_match_valid = df_all_matches_validation.copy()\n",
    "df_current_match_test = df_all_matches_test.copy()"
   ]
  },
  {
   "cell_type": "code",
   "execution_count": 27,
   "id": "c0884b9f-8ff7-4438-8460-ee18dfe4beaa",
   "metadata": {},
   "outputs": [],
   "source": [
    "def preprocess_current_match(df_current_match):\n",
    "    # Drop all columns relating to the match performance itself\n",
    "    df_current_match.drop(['w_ace', 'w_df',\n",
    "           'w_svpt', 'w_1stIn', 'w_1stWon', 'w_2ndWon', 'w_SvGms', 'w_bpSaved',\n",
    "           'w_bpFaced', 'l_ace', 'l_df', 'l_svpt', 'l_1stIn', 'l_1stWon',\n",
    "           'l_2ndWon', 'l_SvGms', 'l_bpSaved', 'l_bpFaced', 'w_games_won', 'l_games_won'], axis = 1, inplace = True)\n",
    "    # Rename winner and loser to player A and player B and randomly shuffle so that sometimes\n",
    "    # player A wins and sometime player B wins\n",
    "    \n",
    "    # Generate random mask for shuffling\n",
    "    mask = np.random.rand(len(df_current_match)) < 0.5\n",
    "    \n",
    "    # Define base stat fields\n",
    "    stat_fields = ['id', 'hand', \"seed_score\", \n",
    "                   \"entry_alt\", \"entry_ll\",\n",
    "                   \"entry_pr\", \"entry_q\",\n",
    "                   \"entry_se\", \"entry_wc\",\n",
    "                   \"rank_points\"\n",
    "                  ]\n",
    "    \n",
    "    for field in stat_fields:\n",
    "        df_current_match[f'player_A_{field}'] = np.where(mask, df_current_match[f'winner_{field}'], df_current_match[f'loser_{field}'])\n",
    "        df_current_match[f'player_B_{field}'] = np.where(mask, df_current_match[f'loser_{field}'], df_current_match[f'winner_{field}'])\n",
    "    \n",
    "    # Add new column to indicate winner ('A' or 'B')\n",
    "    df_current_match['winner_label'] = np.where(mask, 'A', 'B')\n",
    "    \n",
    "    # Drop original columns\n",
    "    cols_to_drop = [f'winner_{f}' for f in stat_fields] + [f'loser_{f}' for f in stat_fields]\n",
    "    df_current_match = df_current_match.drop(columns=cols_to_drop)\n",
    "    return df_current_match\n"
   ]
  },
  {
   "cell_type": "code",
   "execution_count": 28,
   "id": "5b4cb2d5-9349-4eed-9a84-3d56cb4eb225",
   "metadata": {},
   "outputs": [],
   "source": [
    "df_current_match_train = preprocess_current_match(df_current_match_train)\n",
    "df_current_match_valid = preprocess_current_match(df_current_match_valid)\n",
    "df_current_match_test = preprocess_current_match(df_current_match_test)"
   ]
  },
  {
   "cell_type": "code",
   "execution_count": 29,
   "id": "41272b77-685d-4afb-a2b6-c9f209bae404",
   "metadata": {},
   "outputs": [
    {
     "data": {
      "text/plain": [
       "Index(['tourney_id', 'surface', 'tourney_date', 'player_A_id', 'player_B_id',\n",
       "       'player_A_hand', 'player_B_hand', 'player_A_seed_score',\n",
       "       'player_B_seed_score', 'player_A_entry_alt', 'player_B_entry_alt',\n",
       "       'player_A_entry_ll', 'player_B_entry_ll', 'player_A_entry_pr',\n",
       "       'player_B_entry_pr', 'player_A_entry_q', 'player_B_entry_q',\n",
       "       'player_A_entry_se', 'player_B_entry_se', 'player_A_entry_wc',\n",
       "       'player_B_entry_wc', 'player_A_rank_points', 'player_B_rank_points',\n",
       "       'winner_label'],\n",
       "      dtype='object')"
      ]
     },
     "execution_count": 29,
     "metadata": {},
     "output_type": "execute_result"
    }
   ],
   "source": [
    "df_current_match_train.columns"
   ]
  },
  {
   "cell_type": "markdown",
   "id": "669f0584-e719-4e17-a8a7-b4defd97732d",
   "metadata": {},
   "source": [
    "## All Past Performances"
   ]
  },
  {
   "cell_type": "code",
   "execution_count": 30,
   "id": "93813f56-e00c-42b9-8c7a-01e848283987",
   "metadata": {},
   "outputs": [],
   "source": [
    "def process_past_performance_df(df, prefix, won):\n",
    "    columns_to_keep = ['ace', 'df', 'svpt', '1stIn', '1stWon',\n",
    "       '2ndWon', 'SvGms', 'bpSaved', 'bpFaced', \"games_won\"]\n",
    "    df_processed = df[[f\"{prefix}{col}\" for col in columns_to_keep] + [\"tourney_date\"]].copy()\n",
    "    df_processed.rename(columns = lambda x: x.replace(prefix, \"\"), inplace = True)\n",
    "    df_processed[\"won\"] = float(won)\n",
    "    return df_processed"
   ]
  },
  {
   "cell_type": "code",
   "execution_count": 31,
   "id": "4cf493f3-3390-42de-979e-d47c666fa23d",
   "metadata": {},
   "outputs": [],
   "source": [
    "def all_past_performances(player_id: int, tourney_date: int, df):\n",
    "    df_wins = df[(df['winner_id'] == player_id) & (df['tourney_date'] < tourney_date)].copy()\n",
    "    df_loses = df[(df['loser_id'] == player_id) & (df['tourney_date'] < tourney_date)].copy()\n",
    "\n",
    "    df_wins_processed = process_past_performance_df(df_wins, \"w_\", True)\n",
    "    df_loses_processed = process_past_performance_df(df_loses, \"l_\", False)\n",
    "\n",
    "    df_total = pd.concat([df_wins_processed, df_loses_processed], ignore_index = True)\n",
    "\n",
    "    # Drop rows with incomplete data\n",
    "    df_total.dropna(inplace = True)\n",
    "    return df_total"
   ]
  },
  {
   "cell_type": "code",
   "execution_count": 32,
   "id": "e1fddbed-5ab9-4dbf-8161-b8a2a85fb9aa",
   "metadata": {},
   "outputs": [
    {
     "data": {
      "text/html": [
       "<div>\n",
       "<style scoped>\n",
       "    .dataframe tbody tr th:only-of-type {\n",
       "        vertical-align: middle;\n",
       "    }\n",
       "\n",
       "    .dataframe tbody tr th {\n",
       "        vertical-align: top;\n",
       "    }\n",
       "\n",
       "    .dataframe thead th {\n",
       "        text-align: right;\n",
       "    }\n",
       "</style>\n",
       "<table border=\"1\" class=\"dataframe\">\n",
       "  <thead>\n",
       "    <tr style=\"text-align: right;\">\n",
       "      <th></th>\n",
       "      <th>ace</th>\n",
       "      <th>df</th>\n",
       "      <th>svpt</th>\n",
       "      <th>1stIn</th>\n",
       "      <th>1stWon</th>\n",
       "      <th>2ndWon</th>\n",
       "      <th>SvGms</th>\n",
       "      <th>bpSaved</th>\n",
       "      <th>bpFaced</th>\n",
       "      <th>games_won</th>\n",
       "      <th>tourney_date</th>\n",
       "      <th>won</th>\n",
       "    </tr>\n",
       "  </thead>\n",
       "  <tbody>\n",
       "    <tr>\n",
       "      <th>0</th>\n",
       "      <td>0.044248</td>\n",
       "      <td>0.0</td>\n",
       "      <td>0.10998</td>\n",
       "      <td>0.099723</td>\n",
       "      <td>0.089041</td>\n",
       "      <td>0.158537</td>\n",
       "      <td>0.1</td>\n",
       "      <td>0.125</td>\n",
       "      <td>0.1</td>\n",
       "      <td>0.130435</td>\n",
       "      <td>20100104</td>\n",
       "      <td>1.0</td>\n",
       "    </tr>\n",
       "    <tr>\n",
       "      <th>1</th>\n",
       "      <td>0.026549</td>\n",
       "      <td>0.043478</td>\n",
       "      <td>0.101833</td>\n",
       "      <td>0.088643</td>\n",
       "      <td>0.089041</td>\n",
       "      <td>0.109756</td>\n",
       "      <td>0.088889</td>\n",
       "      <td>0.0</td>\n",
       "      <td>0.0</td>\n",
       "      <td>0.130435</td>\n",
       "      <td>20100104</td>\n",
       "      <td>1.0</td>\n",
       "    </tr>\n",
       "    <tr>\n",
       "      <th>2</th>\n",
       "      <td>0.017699</td>\n",
       "      <td>0.0</td>\n",
       "      <td>0.038697</td>\n",
       "      <td>0.033241</td>\n",
       "      <td>0.037671</td>\n",
       "      <td>0.060976</td>\n",
       "      <td>0.044444</td>\n",
       "      <td>0.0</td>\n",
       "      <td>0.0</td>\n",
       "      <td>0.086957</td>\n",
       "      <td>20100104</td>\n",
       "      <td>1.0</td>\n",
       "    </tr>\n",
       "    <tr>\n",
       "      <th>3</th>\n",
       "      <td>0.00885</td>\n",
       "      <td>0.0</td>\n",
       "      <td>0.09165</td>\n",
       "      <td>0.077562</td>\n",
       "      <td>0.078767</td>\n",
       "      <td>0.109756</td>\n",
       "      <td>0.088889</td>\n",
       "      <td>0.0</td>\n",
       "      <td>0.033333</td>\n",
       "      <td>0.130435</td>\n",
       "      <td>20100104</td>\n",
       "      <td>1.0</td>\n",
       "    </tr>\n",
       "    <tr>\n",
       "      <th>4</th>\n",
       "      <td>0.097345</td>\n",
       "      <td>0.043478</td>\n",
       "      <td>0.211813</td>\n",
       "      <td>0.199446</td>\n",
       "      <td>0.188356</td>\n",
       "      <td>0.219512</td>\n",
       "      <td>0.166667</td>\n",
       "      <td>0.25</td>\n",
       "      <td>0.233333</td>\n",
       "      <td>0.206522</td>\n",
       "      <td>20100118</td>\n",
       "      <td>1.0</td>\n",
       "    </tr>\n",
       "    <tr>\n",
       "      <th>...</th>\n",
       "      <td>...</td>\n",
       "      <td>...</td>\n",
       "      <td>...</td>\n",
       "      <td>...</td>\n",
       "      <td>...</td>\n",
       "      <td>...</td>\n",
       "      <td>...</td>\n",
       "      <td>...</td>\n",
       "      <td>...</td>\n",
       "      <td>...</td>\n",
       "      <td>...</td>\n",
       "      <td>...</td>\n",
       "    </tr>\n",
       "    <tr>\n",
       "      <th>489</th>\n",
       "      <td>0.048544</td>\n",
       "      <td>0.047619</td>\n",
       "      <td>0.216769</td>\n",
       "      <td>0.25</td>\n",
       "      <td>0.172535</td>\n",
       "      <td>0.108911</td>\n",
       "      <td>0.153846</td>\n",
       "      <td>0.32</td>\n",
       "      <td>0.419355</td>\n",
       "      <td>0.131868</td>\n",
       "      <td>20160808</td>\n",
       "      <td>0.0</td>\n",
       "    </tr>\n",
       "    <tr>\n",
       "      <th>490</th>\n",
       "      <td>0.009709</td>\n",
       "      <td>0.238095</td>\n",
       "      <td>0.100204</td>\n",
       "      <td>0.10061</td>\n",
       "      <td>0.073944</td>\n",
       "      <td>0.019802</td>\n",
       "      <td>0.087912</td>\n",
       "      <td>0.12</td>\n",
       "      <td>0.258065</td>\n",
       "      <td>0.043956</td>\n",
       "      <td>20160815</td>\n",
       "      <td>0.0</td>\n",
       "    </tr>\n",
       "    <tr>\n",
       "      <th>491</th>\n",
       "      <td>0.009709</td>\n",
       "      <td>0.190476</td>\n",
       "      <td>0.306748</td>\n",
       "      <td>0.271341</td>\n",
       "      <td>0.225352</td>\n",
       "      <td>0.29703</td>\n",
       "      <td>0.252747</td>\n",
       "      <td>0.36</td>\n",
       "      <td>0.451613</td>\n",
       "      <td>0.252747</td>\n",
       "      <td>20160829</td>\n",
       "      <td>0.0</td>\n",
       "    </tr>\n",
       "    <tr>\n",
       "      <th>492</th>\n",
       "      <td>0.0</td>\n",
       "      <td>0.095238</td>\n",
       "      <td>0.132924</td>\n",
       "      <td>0.146341</td>\n",
       "      <td>0.088028</td>\n",
       "      <td>0.069307</td>\n",
       "      <td>0.098901</td>\n",
       "      <td>0.4</td>\n",
       "      <td>0.483871</td>\n",
       "      <td>0.065934</td>\n",
       "      <td>20161003</td>\n",
       "      <td>0.0</td>\n",
       "    </tr>\n",
       "    <tr>\n",
       "      <th>493</th>\n",
       "      <td>0.009709</td>\n",
       "      <td>0.0</td>\n",
       "      <td>0.147239</td>\n",
       "      <td>0.155488</td>\n",
       "      <td>0.105634</td>\n",
       "      <td>0.148515</td>\n",
       "      <td>0.120879</td>\n",
       "      <td>0.12</td>\n",
       "      <td>0.16129</td>\n",
       "      <td>0.098901</td>\n",
       "      <td>20161010</td>\n",
       "      <td>0.0</td>\n",
       "    </tr>\n",
       "  </tbody>\n",
       "</table>\n",
       "<p>480 rows × 12 columns</p>\n",
       "</div>"
      ],
      "text/plain": [
       "          ace        df      svpt     1stIn    1stWon    2ndWon     SvGms  \\\n",
       "0    0.044248       0.0   0.10998  0.099723  0.089041  0.158537       0.1   \n",
       "1    0.026549  0.043478  0.101833  0.088643  0.089041  0.109756  0.088889   \n",
       "2    0.017699       0.0  0.038697  0.033241  0.037671  0.060976  0.044444   \n",
       "3     0.00885       0.0   0.09165  0.077562  0.078767  0.109756  0.088889   \n",
       "4    0.097345  0.043478  0.211813  0.199446  0.188356  0.219512  0.166667   \n",
       "..        ...       ...       ...       ...       ...       ...       ...   \n",
       "489  0.048544  0.047619  0.216769      0.25  0.172535  0.108911  0.153846   \n",
       "490  0.009709  0.238095  0.100204   0.10061  0.073944  0.019802  0.087912   \n",
       "491  0.009709  0.190476  0.306748  0.271341  0.225352   0.29703  0.252747   \n",
       "492       0.0  0.095238  0.132924  0.146341  0.088028  0.069307  0.098901   \n",
       "493  0.009709       0.0  0.147239  0.155488  0.105634  0.148515  0.120879   \n",
       "\n",
       "    bpSaved   bpFaced games_won tourney_date  won  \n",
       "0     0.125       0.1  0.130435     20100104  1.0  \n",
       "1       0.0       0.0  0.130435     20100104  1.0  \n",
       "2       0.0       0.0  0.086957     20100104  1.0  \n",
       "3       0.0  0.033333  0.130435     20100104  1.0  \n",
       "4      0.25  0.233333  0.206522     20100118  1.0  \n",
       "..      ...       ...       ...          ...  ...  \n",
       "489    0.32  0.419355  0.131868     20160808  0.0  \n",
       "490    0.12  0.258065  0.043956     20160815  0.0  \n",
       "491    0.36  0.451613  0.252747     20160829  0.0  \n",
       "492     0.4  0.483871  0.065934     20161003  0.0  \n",
       "493    0.12   0.16129  0.098901     20161010  0.0  \n",
       "\n",
       "[480 rows x 12 columns]"
      ]
     },
     "execution_count": 32,
     "metadata": {},
     "output_type": "execute_result"
    }
   ],
   "source": [
    "all_past_performances(104745, 20190920, df_all_matches_train)"
   ]
  },
  {
   "cell_type": "markdown",
   "id": "7b4b3444-2f78-4342-8363-4bd227d5d1cf",
   "metadata": {},
   "source": [
    "## Past 5 Performance on Same Court and Handed-Opponent"
   ]
  },
  {
   "cell_type": "markdown",
   "id": "01901608-d71e-4e32-ac7d-02fb371ce487",
   "metadata": {},
   "source": [
    "For each player, we want to filter for the past 5 performances against the same handed opponent on the same surface."
   ]
  },
  {
   "cell_type": "code",
   "execution_count": 33,
   "id": "1a83e541-866f-4cf4-ae0f-6c62ae508560",
   "metadata": {},
   "outputs": [],
   "source": [
    "def past_5_performance_same_surface(player_id: int, tourney_date: int, surface: str, opponent_hand: str, df):\n",
    "    df_wins = df[(df['winner_id'] == player_id) & (df['tourney_date'] < tourney_date)].copy()\n",
    "    df_loses = df[(df['loser_id'] == player_id) & (df['tourney_date'] < tourney_date)].copy()\n",
    "\n",
    "    df_wins_same_surface_hand = df_wins[(df_wins[\"surface\"] == surface) & (df_wins[\"loser_hand\"] == opponent_hand)].copy()\n",
    "    df_loses_same_surface_hand = df_loses[(df_loses[\"surface\"] == surface) & (df_loses[\"winner_hand\"] == opponent_hand)].copy()\n",
    "\n",
    "    df_wins_processed = process_past_performance_df(df_wins_same_surface_hand, \"w_\", True)\n",
    "    df_loses_processed = process_past_performance_df(df_loses_same_surface_hand, \"l_\", False)\n",
    "\n",
    "    df_total = pd.concat([df_wins_processed, df_loses_processed], ignore_index = True)\n",
    "\n",
    "    # Drop rows with incomplete data\n",
    "    df_total.dropna(inplace = True)\n",
    "\n",
    "    # Sort by tourney_date\n",
    "    df_total.sort_values(by='tourney_date', ascending=False, inplace=True)\n",
    "    return df_total[:5]"
   ]
  },
  {
   "cell_type": "code",
   "execution_count": 34,
   "id": "2e49eebb-e475-467a-9b18-f4f199149255",
   "metadata": {},
   "outputs": [
    {
     "data": {
      "text/html": [
       "<div>\n",
       "<style scoped>\n",
       "    .dataframe tbody tr th:only-of-type {\n",
       "        vertical-align: middle;\n",
       "    }\n",
       "\n",
       "    .dataframe tbody tr th {\n",
       "        vertical-align: top;\n",
       "    }\n",
       "\n",
       "    .dataframe thead th {\n",
       "        text-align: right;\n",
       "    }\n",
       "</style>\n",
       "<table border=\"1\" class=\"dataframe\">\n",
       "  <thead>\n",
       "    <tr style=\"text-align: right;\">\n",
       "      <th></th>\n",
       "      <th>ace</th>\n",
       "      <th>df</th>\n",
       "      <th>svpt</th>\n",
       "      <th>1stIn</th>\n",
       "      <th>1stWon</th>\n",
       "      <th>2ndWon</th>\n",
       "      <th>SvGms</th>\n",
       "      <th>bpSaved</th>\n",
       "      <th>bpFaced</th>\n",
       "      <th>games_won</th>\n",
       "      <th>tourney_date</th>\n",
       "      <th>won</th>\n",
       "    </tr>\n",
       "  </thead>\n",
       "  <tbody>\n",
       "    <tr>\n",
       "      <th>19</th>\n",
       "      <td>0.0</td>\n",
       "      <td>0.086957</td>\n",
       "      <td>0.14664</td>\n",
       "      <td>0.155125</td>\n",
       "      <td>0.133562</td>\n",
       "      <td>0.109756</td>\n",
       "      <td>0.133333</td>\n",
       "      <td>0.291667</td>\n",
       "      <td>0.3</td>\n",
       "      <td>0.195652</td>\n",
       "      <td>20160523</td>\n",
       "      <td>1.0</td>\n",
       "    </tr>\n",
       "    <tr>\n",
       "      <th>18</th>\n",
       "      <td>0.0</td>\n",
       "      <td>0.304348</td>\n",
       "      <td>0.169043</td>\n",
       "      <td>0.182825</td>\n",
       "      <td>0.133562</td>\n",
       "      <td>0.085366</td>\n",
       "      <td>0.122222</td>\n",
       "      <td>0.125</td>\n",
       "      <td>0.233333</td>\n",
       "      <td>0.141304</td>\n",
       "      <td>20150727</td>\n",
       "      <td>1.0</td>\n",
       "    </tr>\n",
       "    <tr>\n",
       "      <th>17</th>\n",
       "      <td>0.017699</td>\n",
       "      <td>0.0</td>\n",
       "      <td>0.162933</td>\n",
       "      <td>0.160665</td>\n",
       "      <td>0.126712</td>\n",
       "      <td>0.158537</td>\n",
       "      <td>0.122222</td>\n",
       "      <td>0.291667</td>\n",
       "      <td>0.3</td>\n",
       "      <td>0.163043</td>\n",
       "      <td>20150727</td>\n",
       "      <td>1.0</td>\n",
       "    </tr>\n",
       "    <tr>\n",
       "      <th>16</th>\n",
       "      <td>0.0</td>\n",
       "      <td>0.086957</td>\n",
       "      <td>0.077393</td>\n",
       "      <td>0.066482</td>\n",
       "      <td>0.068493</td>\n",
       "      <td>0.109756</td>\n",
       "      <td>0.077778</td>\n",
       "      <td>0.0</td>\n",
       "      <td>0.0</td>\n",
       "      <td>0.130435</td>\n",
       "      <td>20150223</td>\n",
       "      <td>1.0</td>\n",
       "    </tr>\n",
       "    <tr>\n",
       "      <th>15</th>\n",
       "      <td>0.017699</td>\n",
       "      <td>0.0</td>\n",
       "      <td>0.087576</td>\n",
       "      <td>0.085873</td>\n",
       "      <td>0.068493</td>\n",
       "      <td>0.097561</td>\n",
       "      <td>0.088889</td>\n",
       "      <td>0.0</td>\n",
       "      <td>0.066667</td>\n",
       "      <td>0.130435</td>\n",
       "      <td>20150216</td>\n",
       "      <td>1.0</td>\n",
       "    </tr>\n",
       "  </tbody>\n",
       "</table>\n",
       "</div>"
      ],
      "text/plain": [
       "         ace        df      svpt     1stIn    1stWon    2ndWon     SvGms  \\\n",
       "19       0.0  0.086957   0.14664  0.155125  0.133562  0.109756  0.133333   \n",
       "18       0.0  0.304348  0.169043  0.182825  0.133562  0.085366  0.122222   \n",
       "17  0.017699       0.0  0.162933  0.160665  0.126712  0.158537  0.122222   \n",
       "16       0.0  0.086957  0.077393  0.066482  0.068493  0.109756  0.077778   \n",
       "15  0.017699       0.0  0.087576  0.085873  0.068493  0.097561  0.088889   \n",
       "\n",
       "     bpSaved   bpFaced games_won tourney_date  won  \n",
       "19  0.291667       0.3  0.195652     20160523  1.0  \n",
       "18     0.125  0.233333  0.141304     20150727  1.0  \n",
       "17  0.291667       0.3  0.163043     20150727  1.0  \n",
       "16       0.0       0.0  0.130435     20150223  1.0  \n",
       "15       0.0  0.066667  0.130435     20150216  1.0  "
      ]
     },
     "execution_count": 34,
     "metadata": {},
     "output_type": "execute_result"
    }
   ],
   "source": [
    "past_5_performance_same_surface(104745, 20190920, \"Clay\", \"L\", df_all_matches_train)"
   ]
  },
  {
   "cell_type": "markdown",
   "id": "9099eaa7-683f-46c0-95d5-b8d704c6d45f",
   "metadata": {},
   "source": [
    "## Past H2H Performance"
   ]
  },
  {
   "cell_type": "markdown",
   "id": "476544bc-4268-4788-82c3-21668ad371be",
   "metadata": {},
   "source": [
    "We also want the past H2H performances between the 2 players"
   ]
  },
  {
   "cell_type": "code",
   "execution_count": 35,
   "id": "bc2a815e-5bd4-4d91-b72b-01de565bbd3c",
   "metadata": {},
   "outputs": [],
   "source": [
    "def process_h2h(df, winner: str, loser: str):\n",
    "    performance_columns_to_keep = ['ace', 'df', 'svpt', '1stIn', '1stWon',\n",
    "       '2ndWon', 'SvGms', 'bpSaved', 'bpFaced', \"games_won\"]\n",
    "\n",
    "    df_processed_winner = df[[f\"w_{col}\" for col in performance_columns_to_keep]].copy()\n",
    "    df_processed_winner.rename(columns = lambda x: x.replace(\"w_\", winner+\"_\"), inplace = True)\n",
    "\n",
    "    df_processed_loser = df[[f\"l_{col}\" for col in performance_columns_to_keep]].copy()\n",
    "    df_processed_loser.rename(columns = lambda x: x.replace(\"l_\", loser+\"_\"), inplace = True)\n",
    "\n",
    "\n",
    "    df_extra_columns = df[[\"surface\", \"tourney_date\"]].copy()\n",
    "    \n",
    "    df_processed_total = pd.concat([df_processed_winner, df_processed_loser, df_extra_columns], axis = 1)\n",
    "    df_processed_total[\"winner\"] = float(winner == \"A\")\n",
    "    df_processed_total.dropna(inplace = True)\n",
    "    return df_processed_total"
   ]
  },
  {
   "cell_type": "code",
   "execution_count": 36,
   "id": "e36bda09-18db-43aa-8272-9d099dcc22bb",
   "metadata": {},
   "outputs": [],
   "source": [
    "def get_head_to_head(df, player_A_id, player_B_id, tourney_date):\n",
    "    \n",
    "    df_player_A_won = df[\n",
    "        ((df['winner_id'] == player_A_id) & (df['loser_id'] == player_B_id)) &\n",
    "        (df[\"tourney_date\"] < tourney_date)\n",
    "        ].copy()\n",
    "    df_player_A_won_processed = process_h2h(df_player_A_won, \"A\", \"B\")\n",
    "    \n",
    "    df_player_B_won = df[\n",
    "        ((df['winner_id'] == player_B_id) & (df['loser_id'] == player_A_id)) &\n",
    "        (df[\"tourney_date\"] < tourney_date)\n",
    "        ].copy()\n",
    "    df_player_B_won_processed = process_h2h(df_player_B_won, \"B\", \"A\")\n",
    "\n",
    "    return pd.concat([df_player_A_won_processed, df_player_B_won_processed])\n"
   ]
  },
  {
   "cell_type": "code",
   "execution_count": 37,
   "id": "2afc48eb-75c9-47ee-8002-ae9adac70b2c",
   "metadata": {},
   "outputs": [
    {
     "data": {
      "text/html": [
       "<div>\n",
       "<style scoped>\n",
       "    .dataframe tbody tr th:only-of-type {\n",
       "        vertical-align: middle;\n",
       "    }\n",
       "\n",
       "    .dataframe tbody tr th {\n",
       "        vertical-align: top;\n",
       "    }\n",
       "\n",
       "    .dataframe thead th {\n",
       "        text-align: right;\n",
       "    }\n",
       "</style>\n",
       "<table border=\"1\" class=\"dataframe\">\n",
       "  <thead>\n",
       "    <tr style=\"text-align: right;\">\n",
       "      <th></th>\n",
       "      <th>A_ace</th>\n",
       "      <th>A_df</th>\n",
       "      <th>A_svpt</th>\n",
       "      <th>A_1stIn</th>\n",
       "      <th>A_1stWon</th>\n",
       "      <th>A_2ndWon</th>\n",
       "      <th>A_SvGms</th>\n",
       "      <th>A_bpSaved</th>\n",
       "      <th>A_bpFaced</th>\n",
       "      <th>A_games_won</th>\n",
       "      <th>...</th>\n",
       "      <th>B_1stIn</th>\n",
       "      <th>B_1stWon</th>\n",
       "      <th>B_2ndWon</th>\n",
       "      <th>B_SvGms</th>\n",
       "      <th>B_bpSaved</th>\n",
       "      <th>B_bpFaced</th>\n",
       "      <th>B_games_won</th>\n",
       "      <th>surface</th>\n",
       "      <th>tourney_date</th>\n",
       "      <th>winner</th>\n",
       "    </tr>\n",
       "  </thead>\n",
       "  <tbody>\n",
       "  </tbody>\n",
       "</table>\n",
       "<p>0 rows × 23 columns</p>\n",
       "</div>"
      ],
      "text/plain": [
       "Empty DataFrame\n",
       "Columns: [A_ace, A_df, A_svpt, A_1stIn, A_1stWon, A_2ndWon, A_SvGms, A_bpSaved, A_bpFaced, A_games_won, B_ace, B_df, B_svpt, B_1stIn, B_1stWon, B_2ndWon, B_SvGms, B_bpSaved, B_bpFaced, B_games_won, surface, tourney_date, winner]\n",
       "Index: []\n",
       "\n",
       "[0 rows x 23 columns]"
      ]
     },
     "execution_count": 37,
     "metadata": {},
     "output_type": "execute_result"
    }
   ],
   "source": [
    "get_head_to_head(df_all_matches_train, 106233, 133430, 20190920)"
   ]
  },
  {
   "cell_type": "markdown",
   "id": "02920488-f608-41a5-9c0a-1a7e3acc5b75",
   "metadata": {},
   "source": [
    "## Single data point"
   ]
  },
  {
   "cell_type": "markdown",
   "id": "25af2fd9-66b3-426b-8729-76c2f0476c79",
   "metadata": {},
   "source": [
    "For a given row of the Input Match data frame, construct a single data point ready for modelling"
   ]
  },
  {
   "cell_type": "code",
   "execution_count": 38,
   "id": "402d6052-b195-4b3d-a778-787f3408df5a",
   "metadata": {},
   "outputs": [
    {
     "data": {
      "text/plain": [
       "tourney_id              2010-339\n",
       "surface                     Hard\n",
       "tourney_date            20100103\n",
       "player_A_id               104053\n",
       "player_B_id               103429\n",
       "player_A_hand                  R\n",
       "player_B_hand                  R\n",
       "player_A_seed_score          1.0\n",
       "player_B_seed_score          0.0\n",
       "player_A_entry_alt           0.0\n",
       "player_B_entry_alt           0.0\n",
       "player_A_entry_ll            0.0\n",
       "player_B_entry_ll            0.0\n",
       "player_A_entry_pr            0.0\n",
       "player_B_entry_pr            0.0\n",
       "player_A_entry_q             0.0\n",
       "player_B_entry_q             0.0\n",
       "player_A_entry_se            0.0\n",
       "player_B_entry_se            0.0\n",
       "player_A_entry_wc            0.0\n",
       "player_B_entry_wc            0.0\n",
       "player_A_rank_points    0.260133\n",
       "player_B_rank_points    0.035223\n",
       "winner_label                   A\n",
       "Name: 0, dtype: object"
      ]
     },
     "execution_count": 38,
     "metadata": {},
     "output_type": "execute_result"
    }
   ],
   "source": [
    "df_current_match_train.iloc[0]"
   ]
  },
  {
   "cell_type": "code",
   "execution_count": 39,
   "id": "81f72f45-c5b6-4ef6-8a93-eb299472d350",
   "metadata": {},
   "outputs": [],
   "source": [
    "def single_data_point(df_single_row):\n",
    "    temp = df_single_row\n",
    "    player_a_past_performance = all_past_performances(temp[\"player_A_id\"], temp[\"tourney_date\"], df_all_matches_train).drop([\"tourney_date\"], axis = 1)\n",
    "    player_a_past_5_performance = past_5_performance_same_surface(\n",
    "        temp[\"player_A_id\"], temp[\"tourney_date\"], temp[\"surface\"], temp[\"player_B_hand\"], df_all_matches_train).drop([\"tourney_date\"], axis = 1)\n",
    "    \n",
    "    player_b_past_performance = all_past_performances(temp[\"player_B_id\"], temp[\"tourney_date\"], df_all_matches_train).drop([\"tourney_date\"], axis = 1)\n",
    "    player_b_past_5_performance = past_5_performance_same_surface(\n",
    "        temp[\"player_B_id\"], temp[\"tourney_date\"], temp[\"surface\"], temp[\"player_A_hand\"], df_all_matches_train).drop([\"tourney_date\"], axis = 1)\n",
    "\n",
    "    past_h2h_data = get_head_to_head(\n",
    "        df_all_matches_train, temp[\"player_A_id\"], temp[\"player_B_id\"], temp[\"tourney_date\"]\n",
    "    ).drop([\"tourney_date\", \"surface\"], axis = 1)\n",
    "\n",
    "    temp.drop([\"tourney_id\", \"surface\", \"tourney_date\", \"player_A_id\", \"player_B_id\", \"player_A_hand\", \"player_B_hand\"], inplace = True)\n",
    "    temp[\"winner_label\"] = float(temp[\"winner_label\"] == \"A\")\n",
    "\n",
    "    return [list(temp), player_a_past_performance, player_b_past_performance, player_a_past_5_performance, player_b_past_5_performance, past_h2h_data]"
   ]
  },
  {
   "cell_type": "code",
   "execution_count": 40,
   "id": "85379094-65ad-4543-b320-b12732a955d7",
   "metadata": {
    "scrolled": true
   },
   "outputs": [
    {
     "name": "stderr",
     "output_type": "stream",
     "text": [
      "/var/folders/_t/7gs3z_zn4c3cqz0nlmg7nk_80000gn/T/ipykernel_78313/2827016905.py:15: SettingWithCopyWarning: \n",
      "A value is trying to be set on a copy of a slice from a DataFrame\n",
      "\n",
      "See the caveats in the documentation: https://pandas.pydata.org/pandas-docs/stable/user_guide/indexing.html#returning-a-view-versus-a-copy\n",
      "  temp.drop([\"tourney_id\", \"surface\", \"tourney_date\", \"player_A_id\", \"player_B_id\", \"player_A_hand\", \"player_B_hand\"], inplace = True)\n",
      "/var/folders/_t/7gs3z_zn4c3cqz0nlmg7nk_80000gn/T/ipykernel_78313/2827016905.py:16: SettingWithCopyWarning: \n",
      "A value is trying to be set on a copy of a slice from a DataFrame\n",
      "\n",
      "See the caveats in the documentation: https://pandas.pydata.org/pandas-docs/stable/user_guide/indexing.html#returning-a-view-versus-a-copy\n",
      "  temp[\"winner_label\"] = float(temp[\"winner_label\"] == \"A\")\n"
     ]
    },
    {
     "data": {
      "text/plain": [
       "[[1.0,\n",
       "  0.0,\n",
       "  0.0,\n",
       "  0.0,\n",
       "  0.0,\n",
       "  0.0,\n",
       "  0.0,\n",
       "  1.0,\n",
       "  0.0,\n",
       "  0.0,\n",
       "  0.0,\n",
       "  0.0,\n",
       "  0.0,\n",
       "  0.0,\n",
       "  0.10820697386276476,\n",
       "  0.007257065313587822,\n",
       "  1.0],\n",
       "           ace        df      svpt     1stIn    1stWon    2ndWon     SvGms  \\\n",
       " 0    0.115044  0.086957  0.179226  0.163435  0.150685  0.170732  0.166667   \n",
       " 1    0.088496  0.173913  0.244399  0.163435  0.143836  0.426829  0.188889   \n",
       " 2    0.035398   0.26087  0.183299  0.144044  0.150685  0.219512  0.166667   \n",
       " 3    0.088496  0.173913   0.14664  0.102493  0.113014  0.231707  0.111111   \n",
       " 4    0.106195  0.173913  0.169043  0.119114  0.116438  0.268293  0.122222   \n",
       " ..        ...       ...       ...       ...       ...       ...       ...   \n",
       " 373  0.097087  0.047619  0.153374  0.161585  0.137324  0.089109  0.120879   \n",
       " 374  0.058252  0.047619  0.237219   0.22561  0.158451  0.188119  0.153846   \n",
       " 375  0.058252  0.190476  0.132924  0.115854  0.091549  0.148515   0.10989   \n",
       " 376  0.116505  0.095238  0.167689   0.14939  0.123239  0.188119  0.153846   \n",
       " 377  0.106796  0.285714  0.261759  0.207317  0.169014  0.316832   0.21978   \n",
       " \n",
       "       bpSaved   bpFaced games_won  won  \n",
       " 0       0.125  0.166667  0.206522  1.0  \n",
       " 1    0.291667       0.3  0.217391  1.0  \n",
       " 2    0.041667       0.1  0.195652  1.0  \n",
       " 3       0.125       0.1  0.141304  1.0  \n",
       " 4    0.291667  0.233333  0.141304  1.0  \n",
       " ..        ...       ...       ...  ...  \n",
       " 373       0.2  0.225806   0.10989  0.0  \n",
       " 374      0.28  0.419355  0.120879  0.0  \n",
       " 375      0.08  0.129032  0.098901  0.0  \n",
       " 376      0.16  0.225806  0.142857  0.0  \n",
       " 377      0.28  0.387097  0.186813  0.0  \n",
       " \n",
       " [370 rows x 11 columns],\n",
       "           ace        df      svpt     1stIn    1stWon    2ndWon     SvGms  \\\n",
       " 0    0.079646  0.130435  0.107943  0.088643  0.078767  0.134146  0.088889   \n",
       " 1    0.035398  0.173913  0.193483  0.182825  0.167808  0.231707  0.177778   \n",
       " 2    0.053097  0.217391  0.189409  0.160665  0.160959  0.195122  0.155556   \n",
       " 3    0.035398  0.304348  0.274949  0.257618  0.215753  0.231707  0.222222   \n",
       " 4    0.053097  0.043478   0.14664  0.121884  0.113014  0.182927       0.1   \n",
       " ..        ...       ...       ...       ...       ...       ...       ...   \n",
       " 251  0.019417  0.047619  0.079755  0.079268  0.042254  0.079208  0.076923   \n",
       " 252   0.07767  0.095238  0.269939      0.25  0.193662  0.217822   0.21978   \n",
       " 253  0.019417  0.095238  0.124744     0.125   0.09507  0.059406  0.087912   \n",
       " 254   0.07767  0.285714  0.249489  0.231707  0.176056  0.227723  0.208791   \n",
       " 255  0.029126  0.142857   0.09407  0.085366  0.049296   0.09901  0.087912   \n",
       " \n",
       "       bpSaved   bpFaced games_won  won  \n",
       " 0    0.208333       0.2  0.130435  1.0  \n",
       " 1       0.125  0.133333  0.195652  1.0  \n",
       " 2       0.375  0.366667  0.195652  1.0  \n",
       " 3        0.25       0.4  0.217391  1.0  \n",
       " 4    0.166667  0.133333  0.130435  1.0  \n",
       " ..        ...       ...       ...  ...  \n",
       " 251      0.04   0.16129  0.032967  0.0  \n",
       " 252       0.2  0.354839  0.208791  0.0  \n",
       " 253      0.24  0.290323  0.054945  0.0  \n",
       " 254      0.12  0.258065  0.175824  0.0  \n",
       " 255      0.12  0.225806  0.043956  0.0  \n",
       " \n",
       " [249 rows x 11 columns],\n",
       "           ace        df      svpt     1stIn    1stWon    2ndWon     SvGms  \\\n",
       " 97   0.106195  0.434783  0.336049  0.279778  0.253425  0.426829  0.288889   \n",
       " 186  0.048544       0.0  0.112474  0.085366  0.077465  0.118812  0.098901   \n",
       " 96   0.106195   0.26087  0.248473  0.168975  0.164384  0.341463  0.188889   \n",
       " 95   0.070796       0.0  0.093686  0.074792  0.082192  0.121951  0.088889   \n",
       " 92   0.141593  0.173913  0.175153  0.124654  0.126712  0.243902  0.155556   \n",
       " \n",
       "       bpSaved   bpFaced games_won  won  \n",
       " 97      0.375  0.433333  0.293478  1.0  \n",
       " 186      0.12  0.193548  0.065934  0.0  \n",
       " 96   0.166667  0.233333  0.206522  1.0  \n",
       " 95   0.083333  0.066667  0.130435  1.0  \n",
       " 92       0.25  0.266667  0.173913  1.0  ,\n",
       "          ace        df      svpt     1stIn    1stWon    2ndWon     SvGms  \\\n",
       " 24  0.029126  0.142857   0.09407  0.085366  0.049296   0.09901  0.087912   \n",
       " 14  0.053097  0.043478  0.095723  0.077562  0.071918  0.182927       0.1   \n",
       " 23  0.058252  0.190476   0.09407  0.082317  0.052817  0.059406  0.098901   \n",
       " 13  0.097345   0.26087  0.248473  0.213296  0.174658  0.329268  0.188889   \n",
       " 22  0.058252  0.333333  0.132924  0.085366  0.073944  0.128713  0.098901   \n",
       " \n",
       "      bpSaved   bpFaced games_won  won  \n",
       " 24      0.12  0.225806  0.043956  0.0  \n",
       " 14       0.0       0.0  0.130435  1.0  \n",
       " 23      0.08  0.225806  0.054945  0.0  \n",
       " 13  0.208333  0.266667  0.206522  1.0  \n",
       " 22      0.32  0.387097  0.076923  0.0  ,\n",
       "           A_ace      A_df    A_svpt   A_1stIn  A_1stWon  A_2ndWon   A_SvGms  \\\n",
       " 1599   0.070796  0.043478  0.095723  0.083102  0.085616  0.146341       0.1   \n",
       " 10684  0.168142  0.086957  0.118126  0.105263  0.123288  0.182927  0.122222   \n",
       " 3814   0.058252  0.095238  0.112474  0.088415  0.077465  0.158416   0.10989   \n",
       " 6175   0.048544  0.095238  0.104294  0.091463  0.077465   0.09901  0.098901   \n",
       " 11898  0.029126  0.285714   0.09816  0.082317  0.049296  0.079208  0.087912   \n",
       " 12820   0.07767  0.142857  0.163599  0.143293  0.126761  0.138614   0.10989   \n",
       " \n",
       "       A_bpSaved A_bpFaced A_games_won  ...      B_df    B_svpt   B_1stIn  \\\n",
       " 1599        0.0       0.0    0.130435  ...  0.095238  0.102249  0.091463   \n",
       " 10684  0.041667  0.033333    0.141304  ...  0.142857  0.151329  0.137195   \n",
       " 3814       0.16  0.193548    0.087912  ...  0.130435   0.14664  0.124654   \n",
       " 6175        0.0  0.064516    0.076923  ...  0.043478  0.120163  0.121884   \n",
       " 11898       0.2  0.322581    0.043956  ...  0.086957   0.09776  0.091413   \n",
       " 12820      0.16   0.16129    0.098901  ...  0.086957  0.126273  0.110803   \n",
       " \n",
       "        B_1stWon  B_2ndWon   B_SvGms B_bpSaved B_bpFaced B_games_won winner  \n",
       " 1599   0.088028  0.049505  0.098901       0.0  0.096774    0.065934    1.0  \n",
       " 10684  0.112676  0.188119  0.120879      0.16   0.16129     0.10989    1.0  \n",
       " 3814   0.113014  0.195122  0.111111  0.166667  0.133333    0.130435    0.0  \n",
       " 6175   0.106164  0.146341  0.111111     0.125       0.1    0.130435    0.0  \n",
       " 11898  0.075342  0.109756  0.088889     0.125  0.133333    0.130435    0.0  \n",
       " 12820  0.119863  0.182927  0.122222  0.041667  0.033333    0.141304    0.0  \n",
       " \n",
       " [6 rows x 21 columns]]"
      ]
     },
     "execution_count": 40,
     "metadata": {},
     "output_type": "execute_result"
    }
   ],
   "source": [
    "single_data_point(df_current_match_train.iloc[20000])"
   ]
  },
  {
   "cell_type": "markdown",
   "id": "0b8e7bbe-cbcc-49ff-b541-6d4adf88aaf6",
   "metadata": {},
   "source": [
    "# Model Building"
   ]
  },
  {
   "cell_type": "code",
   "execution_count": 41,
   "id": "c602a60e-a62d-4762-a5c3-0c7dd9c8bf14",
   "metadata": {},
   "outputs": [
    {
     "name": "stderr",
     "output_type": "stream",
     "text": [
      "2025-06-05 18:54:03.080512: I tensorflow/core/platform/cpu_feature_guard.cc:210] This TensorFlow binary is optimized to use available CPU instructions in performance-critical operations.\n",
      "To enable the following instructions: AVX2 FMA, in other operations, rebuild TensorFlow with the appropriate compiler flags.\n"
     ]
    },
    {
     "data": {
      "text/html": [
       "<pre style=\"white-space:pre;overflow-x:auto;line-height:normal;font-family:Menlo,'DejaVu Sans Mono',consolas,'Courier New',monospace\"><span style=\"font-weight: bold\">Model: \"functional\"</span>\n",
       "</pre>\n"
      ],
      "text/plain": [
       "\u001b[1mModel: \"functional\"\u001b[0m\n"
      ]
     },
     "metadata": {},
     "output_type": "display_data"
    },
    {
     "data": {
      "text/html": [
       "<pre style=\"white-space:pre;overflow-x:auto;line-height:normal;font-family:Menlo,'DejaVu Sans Mono',consolas,'Courier New',monospace\">┏━━━━━━━━━━━━━━━━━━━━━┳━━━━━━━━━━━━━━━━━━━┳━━━━━━━━━━━━┳━━━━━━━━━━━━━━━━━━━┓\n",
       "┃<span style=\"font-weight: bold\"> Layer (type)        </span>┃<span style=\"font-weight: bold\"> Output Shape      </span>┃<span style=\"font-weight: bold\">    Param # </span>┃<span style=\"font-weight: bold\"> Connected to      </span>┃\n",
       "┡━━━━━━━━━━━━━━━━━━━━━╇━━━━━━━━━━━━━━━━━━━╇━━━━━━━━━━━━╇━━━━━━━━━━━━━━━━━━━┩\n",
       "│ player_a_past_perf… │ (<span style=\"color: #00d7ff; text-decoration-color: #00d7ff\">None</span>, <span style=\"color: #00d7ff; text-decoration-color: #00d7ff\">None</span>, <span style=\"color: #00af00; text-decoration-color: #00af00\">11</span>)  │          <span style=\"color: #00af00; text-decoration-color: #00af00\">0</span> │ -                 │\n",
       "│ (<span style=\"color: #0087ff; text-decoration-color: #0087ff\">InputLayer</span>)        │                   │            │                   │\n",
       "├─────────────────────┼───────────────────┼────────────┼───────────────────┤\n",
       "│ player_b_past_perf… │ (<span style=\"color: #00d7ff; text-decoration-color: #00d7ff\">None</span>, <span style=\"color: #00d7ff; text-decoration-color: #00d7ff\">None</span>, <span style=\"color: #00af00; text-decoration-color: #00af00\">11</span>)  │          <span style=\"color: #00af00; text-decoration-color: #00af00\">0</span> │ -                 │\n",
       "│ (<span style=\"color: #0087ff; text-decoration-color: #0087ff\">InputLayer</span>)        │                   │            │                   │\n",
       "├─────────────────────┼───────────────────┼────────────┼───────────────────┤\n",
       "│ player_a_past_5_pe… │ (<span style=\"color: #00d7ff; text-decoration-color: #00d7ff\">None</span>, <span style=\"color: #00d7ff; text-decoration-color: #00d7ff\">None</span>, <span style=\"color: #00af00; text-decoration-color: #00af00\">11</span>)  │          <span style=\"color: #00af00; text-decoration-color: #00af00\">0</span> │ -                 │\n",
       "│ (<span style=\"color: #0087ff; text-decoration-color: #0087ff\">InputLayer</span>)        │                   │            │                   │\n",
       "├─────────────────────┼───────────────────┼────────────┼───────────────────┤\n",
       "│ player_b_past_5_pe… │ (<span style=\"color: #00d7ff; text-decoration-color: #00d7ff\">None</span>, <span style=\"color: #00d7ff; text-decoration-color: #00d7ff\">None</span>, <span style=\"color: #00af00; text-decoration-color: #00af00\">11</span>)  │          <span style=\"color: #00af00; text-decoration-color: #00af00\">0</span> │ -                 │\n",
       "│ (<span style=\"color: #0087ff; text-decoration-color: #0087ff\">InputLayer</span>)        │                   │            │                   │\n",
       "├─────────────────────┼───────────────────┼────────────┼───────────────────┤\n",
       "│ h2h_data            │ (<span style=\"color: #00d7ff; text-decoration-color: #00d7ff\">None</span>, <span style=\"color: #00d7ff; text-decoration-color: #00d7ff\">None</span>, <span style=\"color: #00af00; text-decoration-color: #00af00\">21</span>)  │          <span style=\"color: #00af00; text-decoration-color: #00af00\">0</span> │ -                 │\n",
       "│ (<span style=\"color: #0087ff; text-decoration-color: #0087ff\">InputLayer</span>)        │                   │            │                   │\n",
       "├─────────────────────┼───────────────────┼────────────┼───────────────────┤\n",
       "│ not_equal           │ (<span style=\"color: #00d7ff; text-decoration-color: #00d7ff\">None</span>, <span style=\"color: #00d7ff; text-decoration-color: #00d7ff\">None</span>, <span style=\"color: #00af00; text-decoration-color: #00af00\">11</span>)  │          <span style=\"color: #00af00; text-decoration-color: #00af00\">0</span> │ player_a_past_pe… │\n",
       "│ (<span style=\"color: #0087ff; text-decoration-color: #0087ff\">NotEqual</span>)          │                   │            │                   │\n",
       "├─────────────────────┼───────────────────┼────────────┼───────────────────┤\n",
       "│ not_equal_1         │ (<span style=\"color: #00d7ff; text-decoration-color: #00d7ff\">None</span>, <span style=\"color: #00d7ff; text-decoration-color: #00d7ff\">None</span>, <span style=\"color: #00af00; text-decoration-color: #00af00\">11</span>)  │          <span style=\"color: #00af00; text-decoration-color: #00af00\">0</span> │ player_b_past_pe… │\n",
       "│ (<span style=\"color: #0087ff; text-decoration-color: #0087ff\">NotEqual</span>)          │                   │            │                   │\n",
       "├─────────────────────┼───────────────────┼────────────┼───────────────────┤\n",
       "│ masking_2 (<span style=\"color: #0087ff; text-decoration-color: #0087ff\">Masking</span>) │ (<span style=\"color: #00d7ff; text-decoration-color: #00d7ff\">None</span>, <span style=\"color: #00d7ff; text-decoration-color: #00d7ff\">None</span>, <span style=\"color: #00af00; text-decoration-color: #00af00\">11</span>)  │          <span style=\"color: #00af00; text-decoration-color: #00af00\">0</span> │ player_a_past_5_… │\n",
       "├─────────────────────┼───────────────────┼────────────┼───────────────────┤\n",
       "│ not_equal_2         │ (<span style=\"color: #00d7ff; text-decoration-color: #00d7ff\">None</span>, <span style=\"color: #00d7ff; text-decoration-color: #00d7ff\">None</span>, <span style=\"color: #00af00; text-decoration-color: #00af00\">11</span>)  │          <span style=\"color: #00af00; text-decoration-color: #00af00\">0</span> │ player_a_past_5_… │\n",
       "│ (<span style=\"color: #0087ff; text-decoration-color: #0087ff\">NotEqual</span>)          │                   │            │                   │\n",
       "├─────────────────────┼───────────────────┼────────────┼───────────────────┤\n",
       "│ masking_3 (<span style=\"color: #0087ff; text-decoration-color: #0087ff\">Masking</span>) │ (<span style=\"color: #00d7ff; text-decoration-color: #00d7ff\">None</span>, <span style=\"color: #00d7ff; text-decoration-color: #00d7ff\">None</span>, <span style=\"color: #00af00; text-decoration-color: #00af00\">11</span>)  │          <span style=\"color: #00af00; text-decoration-color: #00af00\">0</span> │ player_b_past_5_… │\n",
       "├─────────────────────┼───────────────────┼────────────┼───────────────────┤\n",
       "│ not_equal_3         │ (<span style=\"color: #00d7ff; text-decoration-color: #00d7ff\">None</span>, <span style=\"color: #00d7ff; text-decoration-color: #00d7ff\">None</span>, <span style=\"color: #00af00; text-decoration-color: #00af00\">11</span>)  │          <span style=\"color: #00af00; text-decoration-color: #00af00\">0</span> │ player_b_past_5_… │\n",
       "│ (<span style=\"color: #0087ff; text-decoration-color: #0087ff\">NotEqual</span>)          │                   │            │                   │\n",
       "├─────────────────────┼───────────────────┼────────────┼───────────────────┤\n",
       "│ masking_4 (<span style=\"color: #0087ff; text-decoration-color: #0087ff\">Masking</span>) │ (<span style=\"color: #00d7ff; text-decoration-color: #00d7ff\">None</span>, <span style=\"color: #00d7ff; text-decoration-color: #00d7ff\">None</span>, <span style=\"color: #00af00; text-decoration-color: #00af00\">21</span>)  │          <span style=\"color: #00af00; text-decoration-color: #00af00\">0</span> │ h2h_data[<span style=\"color: #00af00; text-decoration-color: #00af00\">0</span>][<span style=\"color: #00af00; text-decoration-color: #00af00\">0</span>]    │\n",
       "├─────────────────────┼───────────────────┼────────────┼───────────────────┤\n",
       "│ not_equal_4         │ (<span style=\"color: #00d7ff; text-decoration-color: #00d7ff\">None</span>, <span style=\"color: #00d7ff; text-decoration-color: #00d7ff\">None</span>, <span style=\"color: #00af00; text-decoration-color: #00af00\">21</span>)  │          <span style=\"color: #00af00; text-decoration-color: #00af00\">0</span> │ h2h_data[<span style=\"color: #00af00; text-decoration-color: #00af00\">0</span>][<span style=\"color: #00af00; text-decoration-color: #00af00\">0</span>]    │\n",
       "│ (<span style=\"color: #0087ff; text-decoration-color: #0087ff\">NotEqual</span>)          │                   │            │                   │\n",
       "├─────────────────────┼───────────────────┼────────────┼───────────────────┤\n",
       "│ masking (<span style=\"color: #0087ff; text-decoration-color: #0087ff\">Masking</span>)   │ (<span style=\"color: #00d7ff; text-decoration-color: #00d7ff\">None</span>, <span style=\"color: #00d7ff; text-decoration-color: #00d7ff\">None</span>, <span style=\"color: #00af00; text-decoration-color: #00af00\">11</span>)  │          <span style=\"color: #00af00; text-decoration-color: #00af00\">0</span> │ player_a_past_pe… │\n",
       "├─────────────────────┼───────────────────┼────────────┼───────────────────┤\n",
       "│ any (<span style=\"color: #0087ff; text-decoration-color: #0087ff\">Any</span>)           │ (<span style=\"color: #00d7ff; text-decoration-color: #00d7ff\">None</span>, <span style=\"color: #00d7ff; text-decoration-color: #00d7ff\">None</span>)      │          <span style=\"color: #00af00; text-decoration-color: #00af00\">0</span> │ not_equal[<span style=\"color: #00af00; text-decoration-color: #00af00\">0</span>][<span style=\"color: #00af00; text-decoration-color: #00af00\">0</span>]   │\n",
       "├─────────────────────┼───────────────────┼────────────┼───────────────────┤\n",
       "│ masking_1 (<span style=\"color: #0087ff; text-decoration-color: #0087ff\">Masking</span>) │ (<span style=\"color: #00d7ff; text-decoration-color: #00d7ff\">None</span>, <span style=\"color: #00d7ff; text-decoration-color: #00d7ff\">None</span>, <span style=\"color: #00af00; text-decoration-color: #00af00\">11</span>)  │          <span style=\"color: #00af00; text-decoration-color: #00af00\">0</span> │ player_b_past_pe… │\n",
       "├─────────────────────┼───────────────────┼────────────┼───────────────────┤\n",
       "│ any_1 (<span style=\"color: #0087ff; text-decoration-color: #0087ff\">Any</span>)         │ (<span style=\"color: #00d7ff; text-decoration-color: #00d7ff\">None</span>, <span style=\"color: #00d7ff; text-decoration-color: #00d7ff\">None</span>)      │          <span style=\"color: #00af00; text-decoration-color: #00af00\">0</span> │ not_equal_1[<span style=\"color: #00af00; text-decoration-color: #00af00\">0</span>][<span style=\"color: #00af00; text-decoration-color: #00af00\">0</span>] │\n",
       "├─────────────────────┼───────────────────┼────────────┼───────────────────┤\n",
       "│ dense (<span style=\"color: #0087ff; text-decoration-color: #0087ff\">Dense</span>)       │ (<span style=\"color: #00d7ff; text-decoration-color: #00d7ff\">None</span>, <span style=\"color: #00d7ff; text-decoration-color: #00d7ff\">None</span>, <span style=\"color: #00af00; text-decoration-color: #00af00\">32</span>)  │        <span style=\"color: #00af00; text-decoration-color: #00af00\">384</span> │ masking_2[<span style=\"color: #00af00; text-decoration-color: #00af00\">0</span>][<span style=\"color: #00af00; text-decoration-color: #00af00\">0</span>]   │\n",
       "├─────────────────────┼───────────────────┼────────────┼───────────────────┤\n",
       "│ any_2 (<span style=\"color: #0087ff; text-decoration-color: #0087ff\">Any</span>)         │ (<span style=\"color: #00d7ff; text-decoration-color: #00d7ff\">None</span>, <span style=\"color: #00d7ff; text-decoration-color: #00d7ff\">None</span>)      │          <span style=\"color: #00af00; text-decoration-color: #00af00\">0</span> │ not_equal_2[<span style=\"color: #00af00; text-decoration-color: #00af00\">0</span>][<span style=\"color: #00af00; text-decoration-color: #00af00\">0</span>] │\n",
       "├─────────────────────┼───────────────────┼────────────┼───────────────────┤\n",
       "│ dense_1 (<span style=\"color: #0087ff; text-decoration-color: #0087ff\">Dense</span>)     │ (<span style=\"color: #00d7ff; text-decoration-color: #00d7ff\">None</span>, <span style=\"color: #00d7ff; text-decoration-color: #00d7ff\">None</span>, <span style=\"color: #00af00; text-decoration-color: #00af00\">32</span>)  │        <span style=\"color: #00af00; text-decoration-color: #00af00\">384</span> │ masking_3[<span style=\"color: #00af00; text-decoration-color: #00af00\">0</span>][<span style=\"color: #00af00; text-decoration-color: #00af00\">0</span>]   │\n",
       "├─────────────────────┼───────────────────┼────────────┼───────────────────┤\n",
       "│ any_3 (<span style=\"color: #0087ff; text-decoration-color: #0087ff\">Any</span>)         │ (<span style=\"color: #00d7ff; text-decoration-color: #00d7ff\">None</span>, <span style=\"color: #00d7ff; text-decoration-color: #00d7ff\">None</span>)      │          <span style=\"color: #00af00; text-decoration-color: #00af00\">0</span> │ not_equal_3[<span style=\"color: #00af00; text-decoration-color: #00af00\">0</span>][<span style=\"color: #00af00; text-decoration-color: #00af00\">0</span>] │\n",
       "├─────────────────────┼───────────────────┼────────────┼───────────────────┤\n",
       "│ dense_2 (<span style=\"color: #0087ff; text-decoration-color: #0087ff\">Dense</span>)     │ (<span style=\"color: #00d7ff; text-decoration-color: #00d7ff\">None</span>, <span style=\"color: #00d7ff; text-decoration-color: #00d7ff\">None</span>, <span style=\"color: #00af00; text-decoration-color: #00af00\">32</span>)  │        <span style=\"color: #00af00; text-decoration-color: #00af00\">704</span> │ masking_4[<span style=\"color: #00af00; text-decoration-color: #00af00\">0</span>][<span style=\"color: #00af00; text-decoration-color: #00af00\">0</span>]   │\n",
       "├─────────────────────┼───────────────────┼────────────┼───────────────────┤\n",
       "│ any_4 (<span style=\"color: #0087ff; text-decoration-color: #0087ff\">Any</span>)         │ (<span style=\"color: #00d7ff; text-decoration-color: #00d7ff\">None</span>, <span style=\"color: #00d7ff; text-decoration-color: #00d7ff\">None</span>)      │          <span style=\"color: #00af00; text-decoration-color: #00af00\">0</span> │ not_equal_4[<span style=\"color: #00af00; text-decoration-color: #00af00\">0</span>][<span style=\"color: #00af00; text-decoration-color: #00af00\">0</span>] │\n",
       "├─────────────────────┼───────────────────┼────────────┼───────────────────┤\n",
       "│ single_row_16_feat… │ (<span style=\"color: #00d7ff; text-decoration-color: #00d7ff\">None</span>, <span style=\"color: #00af00; text-decoration-color: #00af00\">16</span>)        │          <span style=\"color: #00af00; text-decoration-color: #00af00\">0</span> │ -                 │\n",
       "│ (<span style=\"color: #0087ff; text-decoration-color: #0087ff\">InputLayer</span>)        │                   │            │                   │\n",
       "├─────────────────────┼───────────────────┼────────────┼───────────────────┤\n",
       "│ lstm (<span style=\"color: #0087ff; text-decoration-color: #0087ff\">LSTM</span>)         │ (<span style=\"color: #00d7ff; text-decoration-color: #00d7ff\">None</span>, <span style=\"color: #00af00; text-decoration-color: #00af00\">64</span>)        │     <span style=\"color: #00af00; text-decoration-color: #00af00\">19,456</span> │ masking[<span style=\"color: #00af00; text-decoration-color: #00af00\">0</span>][<span style=\"color: #00af00; text-decoration-color: #00af00\">0</span>],    │\n",
       "│                     │                   │            │ any[<span style=\"color: #00af00; text-decoration-color: #00af00\">0</span>][<span style=\"color: #00af00; text-decoration-color: #00af00\">0</span>]         │\n",
       "├─────────────────────┼───────────────────┼────────────┼───────────────────┤\n",
       "│ lstm_1 (<span style=\"color: #0087ff; text-decoration-color: #0087ff\">LSTM</span>)       │ (<span style=\"color: #00d7ff; text-decoration-color: #00d7ff\">None</span>, <span style=\"color: #00af00; text-decoration-color: #00af00\">64</span>)        │     <span style=\"color: #00af00; text-decoration-color: #00af00\">19,456</span> │ masking_1[<span style=\"color: #00af00; text-decoration-color: #00af00\">0</span>][<span style=\"color: #00af00; text-decoration-color: #00af00\">0</span>],  │\n",
       "│                     │                   │            │ any_1[<span style=\"color: #00af00; text-decoration-color: #00af00\">0</span>][<span style=\"color: #00af00; text-decoration-color: #00af00\">0</span>]       │\n",
       "├─────────────────────┼───────────────────┼────────────┼───────────────────┤\n",
       "│ global_average_poo… │ (<span style=\"color: #00d7ff; text-decoration-color: #00d7ff\">None</span>, <span style=\"color: #00af00; text-decoration-color: #00af00\">32</span>)        │          <span style=\"color: #00af00; text-decoration-color: #00af00\">0</span> │ dense[<span style=\"color: #00af00; text-decoration-color: #00af00\">0</span>][<span style=\"color: #00af00; text-decoration-color: #00af00\">0</span>],      │\n",
       "│ (<span style=\"color: #0087ff; text-decoration-color: #0087ff\">GlobalAveragePool…</span> │                   │            │ any_2[<span style=\"color: #00af00; text-decoration-color: #00af00\">0</span>][<span style=\"color: #00af00; text-decoration-color: #00af00\">0</span>]       │\n",
       "├─────────────────────┼───────────────────┼────────────┼───────────────────┤\n",
       "│ global_average_poo… │ (<span style=\"color: #00d7ff; text-decoration-color: #00d7ff\">None</span>, <span style=\"color: #00af00; text-decoration-color: #00af00\">32</span>)        │          <span style=\"color: #00af00; text-decoration-color: #00af00\">0</span> │ dense_1[<span style=\"color: #00af00; text-decoration-color: #00af00\">0</span>][<span style=\"color: #00af00; text-decoration-color: #00af00\">0</span>],    │\n",
       "│ (<span style=\"color: #0087ff; text-decoration-color: #0087ff\">GlobalAveragePool…</span> │                   │            │ any_3[<span style=\"color: #00af00; text-decoration-color: #00af00\">0</span>][<span style=\"color: #00af00; text-decoration-color: #00af00\">0</span>]       │\n",
       "├─────────────────────┼───────────────────┼────────────┼───────────────────┤\n",
       "│ global_average_poo… │ (<span style=\"color: #00d7ff; text-decoration-color: #00d7ff\">None</span>, <span style=\"color: #00af00; text-decoration-color: #00af00\">32</span>)        │          <span style=\"color: #00af00; text-decoration-color: #00af00\">0</span> │ dense_2[<span style=\"color: #00af00; text-decoration-color: #00af00\">0</span>][<span style=\"color: #00af00; text-decoration-color: #00af00\">0</span>],    │\n",
       "│ (<span style=\"color: #0087ff; text-decoration-color: #0087ff\">GlobalAveragePool…</span> │                   │            │ any_4[<span style=\"color: #00af00; text-decoration-color: #00af00\">0</span>][<span style=\"color: #00af00; text-decoration-color: #00af00\">0</span>]       │\n",
       "├─────────────────────┼───────────────────┼────────────┼───────────────────┤\n",
       "│ dense_3 (<span style=\"color: #0087ff; text-decoration-color: #0087ff\">Dense</span>)     │ (<span style=\"color: #00d7ff; text-decoration-color: #00d7ff\">None</span>, <span style=\"color: #00af00; text-decoration-color: #00af00\">32</span>)        │        <span style=\"color: #00af00; text-decoration-color: #00af00\">544</span> │ single_row_16_fe… │\n",
       "├─────────────────────┼───────────────────┼────────────┼───────────────────┤\n",
       "│ concatenate         │ (<span style=\"color: #00d7ff; text-decoration-color: #00d7ff\">None</span>, <span style=\"color: #00af00; text-decoration-color: #00af00\">256</span>)       │          <span style=\"color: #00af00; text-decoration-color: #00af00\">0</span> │ lstm[<span style=\"color: #00af00; text-decoration-color: #00af00\">0</span>][<span style=\"color: #00af00; text-decoration-color: #00af00\">0</span>],       │\n",
       "│ (<span style=\"color: #0087ff; text-decoration-color: #0087ff\">Concatenate</span>)       │                   │            │ lstm_1[<span style=\"color: #00af00; text-decoration-color: #00af00\">0</span>][<span style=\"color: #00af00; text-decoration-color: #00af00\">0</span>],     │\n",
       "│                     │                   │            │ global_average_p… │\n",
       "│                     │                   │            │ global_average_p… │\n",
       "│                     │                   │            │ global_average_p… │\n",
       "│                     │                   │            │ dense_3[<span style=\"color: #00af00; text-decoration-color: #00af00\">0</span>][<span style=\"color: #00af00; text-decoration-color: #00af00\">0</span>]     │\n",
       "├─────────────────────┼───────────────────┼────────────┼───────────────────┤\n",
       "│ dense_4 (<span style=\"color: #0087ff; text-decoration-color: #0087ff\">Dense</span>)     │ (<span style=\"color: #00d7ff; text-decoration-color: #00d7ff\">None</span>, <span style=\"color: #00af00; text-decoration-color: #00af00\">64</span>)        │     <span style=\"color: #00af00; text-decoration-color: #00af00\">16,448</span> │ concatenate[<span style=\"color: #00af00; text-decoration-color: #00af00\">0</span>][<span style=\"color: #00af00; text-decoration-color: #00af00\">0</span>] │\n",
       "├─────────────────────┼───────────────────┼────────────┼───────────────────┤\n",
       "│ dense_5 (<span style=\"color: #0087ff; text-decoration-color: #0087ff\">Dense</span>)     │ (<span style=\"color: #00d7ff; text-decoration-color: #00d7ff\">None</span>, <span style=\"color: #00af00; text-decoration-color: #00af00\">1</span>)         │         <span style=\"color: #00af00; text-decoration-color: #00af00\">65</span> │ dense_4[<span style=\"color: #00af00; text-decoration-color: #00af00\">0</span>][<span style=\"color: #00af00; text-decoration-color: #00af00\">0</span>]     │\n",
       "└─────────────────────┴───────────────────┴────────────┴───────────────────┘\n",
       "</pre>\n"
      ],
      "text/plain": [
       "┏━━━━━━━━━━━━━━━━━━━━━┳━━━━━━━━━━━━━━━━━━━┳━━━━━━━━━━━━┳━━━━━━━━━━━━━━━━━━━┓\n",
       "┃\u001b[1m \u001b[0m\u001b[1mLayer (type)       \u001b[0m\u001b[1m \u001b[0m┃\u001b[1m \u001b[0m\u001b[1mOutput Shape     \u001b[0m\u001b[1m \u001b[0m┃\u001b[1m \u001b[0m\u001b[1m   Param #\u001b[0m\u001b[1m \u001b[0m┃\u001b[1m \u001b[0m\u001b[1mConnected to     \u001b[0m\u001b[1m \u001b[0m┃\n",
       "┡━━━━━━━━━━━━━━━━━━━━━╇━━━━━━━━━━━━━━━━━━━╇━━━━━━━━━━━━╇━━━━━━━━━━━━━━━━━━━┩\n",
       "│ player_a_past_perf… │ (\u001b[38;5;45mNone\u001b[0m, \u001b[38;5;45mNone\u001b[0m, \u001b[38;5;34m11\u001b[0m)  │          \u001b[38;5;34m0\u001b[0m │ -                 │\n",
       "│ (\u001b[38;5;33mInputLayer\u001b[0m)        │                   │            │                   │\n",
       "├─────────────────────┼───────────────────┼────────────┼───────────────────┤\n",
       "│ player_b_past_perf… │ (\u001b[38;5;45mNone\u001b[0m, \u001b[38;5;45mNone\u001b[0m, \u001b[38;5;34m11\u001b[0m)  │          \u001b[38;5;34m0\u001b[0m │ -                 │\n",
       "│ (\u001b[38;5;33mInputLayer\u001b[0m)        │                   │            │                   │\n",
       "├─────────────────────┼───────────────────┼────────────┼───────────────────┤\n",
       "│ player_a_past_5_pe… │ (\u001b[38;5;45mNone\u001b[0m, \u001b[38;5;45mNone\u001b[0m, \u001b[38;5;34m11\u001b[0m)  │          \u001b[38;5;34m0\u001b[0m │ -                 │\n",
       "│ (\u001b[38;5;33mInputLayer\u001b[0m)        │                   │            │                   │\n",
       "├─────────────────────┼───────────────────┼────────────┼───────────────────┤\n",
       "│ player_b_past_5_pe… │ (\u001b[38;5;45mNone\u001b[0m, \u001b[38;5;45mNone\u001b[0m, \u001b[38;5;34m11\u001b[0m)  │          \u001b[38;5;34m0\u001b[0m │ -                 │\n",
       "│ (\u001b[38;5;33mInputLayer\u001b[0m)        │                   │            │                   │\n",
       "├─────────────────────┼───────────────────┼────────────┼───────────────────┤\n",
       "│ h2h_data            │ (\u001b[38;5;45mNone\u001b[0m, \u001b[38;5;45mNone\u001b[0m, \u001b[38;5;34m21\u001b[0m)  │          \u001b[38;5;34m0\u001b[0m │ -                 │\n",
       "│ (\u001b[38;5;33mInputLayer\u001b[0m)        │                   │            │                   │\n",
       "├─────────────────────┼───────────────────┼────────────┼───────────────────┤\n",
       "│ not_equal           │ (\u001b[38;5;45mNone\u001b[0m, \u001b[38;5;45mNone\u001b[0m, \u001b[38;5;34m11\u001b[0m)  │          \u001b[38;5;34m0\u001b[0m │ player_a_past_pe… │\n",
       "│ (\u001b[38;5;33mNotEqual\u001b[0m)          │                   │            │                   │\n",
       "├─────────────────────┼───────────────────┼────────────┼───────────────────┤\n",
       "│ not_equal_1         │ (\u001b[38;5;45mNone\u001b[0m, \u001b[38;5;45mNone\u001b[0m, \u001b[38;5;34m11\u001b[0m)  │          \u001b[38;5;34m0\u001b[0m │ player_b_past_pe… │\n",
       "│ (\u001b[38;5;33mNotEqual\u001b[0m)          │                   │            │                   │\n",
       "├─────────────────────┼───────────────────┼────────────┼───────────────────┤\n",
       "│ masking_2 (\u001b[38;5;33mMasking\u001b[0m) │ (\u001b[38;5;45mNone\u001b[0m, \u001b[38;5;45mNone\u001b[0m, \u001b[38;5;34m11\u001b[0m)  │          \u001b[38;5;34m0\u001b[0m │ player_a_past_5_… │\n",
       "├─────────────────────┼───────────────────┼────────────┼───────────────────┤\n",
       "│ not_equal_2         │ (\u001b[38;5;45mNone\u001b[0m, \u001b[38;5;45mNone\u001b[0m, \u001b[38;5;34m11\u001b[0m)  │          \u001b[38;5;34m0\u001b[0m │ player_a_past_5_… │\n",
       "│ (\u001b[38;5;33mNotEqual\u001b[0m)          │                   │            │                   │\n",
       "├─────────────────────┼───────────────────┼────────────┼───────────────────┤\n",
       "│ masking_3 (\u001b[38;5;33mMasking\u001b[0m) │ (\u001b[38;5;45mNone\u001b[0m, \u001b[38;5;45mNone\u001b[0m, \u001b[38;5;34m11\u001b[0m)  │          \u001b[38;5;34m0\u001b[0m │ player_b_past_5_… │\n",
       "├─────────────────────┼───────────────────┼────────────┼───────────────────┤\n",
       "│ not_equal_3         │ (\u001b[38;5;45mNone\u001b[0m, \u001b[38;5;45mNone\u001b[0m, \u001b[38;5;34m11\u001b[0m)  │          \u001b[38;5;34m0\u001b[0m │ player_b_past_5_… │\n",
       "│ (\u001b[38;5;33mNotEqual\u001b[0m)          │                   │            │                   │\n",
       "├─────────────────────┼───────────────────┼────────────┼───────────────────┤\n",
       "│ masking_4 (\u001b[38;5;33mMasking\u001b[0m) │ (\u001b[38;5;45mNone\u001b[0m, \u001b[38;5;45mNone\u001b[0m, \u001b[38;5;34m21\u001b[0m)  │          \u001b[38;5;34m0\u001b[0m │ h2h_data[\u001b[38;5;34m0\u001b[0m][\u001b[38;5;34m0\u001b[0m]    │\n",
       "├─────────────────────┼───────────────────┼────────────┼───────────────────┤\n",
       "│ not_equal_4         │ (\u001b[38;5;45mNone\u001b[0m, \u001b[38;5;45mNone\u001b[0m, \u001b[38;5;34m21\u001b[0m)  │          \u001b[38;5;34m0\u001b[0m │ h2h_data[\u001b[38;5;34m0\u001b[0m][\u001b[38;5;34m0\u001b[0m]    │\n",
       "│ (\u001b[38;5;33mNotEqual\u001b[0m)          │                   │            │                   │\n",
       "├─────────────────────┼───────────────────┼────────────┼───────────────────┤\n",
       "│ masking (\u001b[38;5;33mMasking\u001b[0m)   │ (\u001b[38;5;45mNone\u001b[0m, \u001b[38;5;45mNone\u001b[0m, \u001b[38;5;34m11\u001b[0m)  │          \u001b[38;5;34m0\u001b[0m │ player_a_past_pe… │\n",
       "├─────────────────────┼───────────────────┼────────────┼───────────────────┤\n",
       "│ any (\u001b[38;5;33mAny\u001b[0m)           │ (\u001b[38;5;45mNone\u001b[0m, \u001b[38;5;45mNone\u001b[0m)      │          \u001b[38;5;34m0\u001b[0m │ not_equal[\u001b[38;5;34m0\u001b[0m][\u001b[38;5;34m0\u001b[0m]   │\n",
       "├─────────────────────┼───────────────────┼────────────┼───────────────────┤\n",
       "│ masking_1 (\u001b[38;5;33mMasking\u001b[0m) │ (\u001b[38;5;45mNone\u001b[0m, \u001b[38;5;45mNone\u001b[0m, \u001b[38;5;34m11\u001b[0m)  │          \u001b[38;5;34m0\u001b[0m │ player_b_past_pe… │\n",
       "├─────────────────────┼───────────────────┼────────────┼───────────────────┤\n",
       "│ any_1 (\u001b[38;5;33mAny\u001b[0m)         │ (\u001b[38;5;45mNone\u001b[0m, \u001b[38;5;45mNone\u001b[0m)      │          \u001b[38;5;34m0\u001b[0m │ not_equal_1[\u001b[38;5;34m0\u001b[0m][\u001b[38;5;34m0\u001b[0m] │\n",
       "├─────────────────────┼───────────────────┼────────────┼───────────────────┤\n",
       "│ dense (\u001b[38;5;33mDense\u001b[0m)       │ (\u001b[38;5;45mNone\u001b[0m, \u001b[38;5;45mNone\u001b[0m, \u001b[38;5;34m32\u001b[0m)  │        \u001b[38;5;34m384\u001b[0m │ masking_2[\u001b[38;5;34m0\u001b[0m][\u001b[38;5;34m0\u001b[0m]   │\n",
       "├─────────────────────┼───────────────────┼────────────┼───────────────────┤\n",
       "│ any_2 (\u001b[38;5;33mAny\u001b[0m)         │ (\u001b[38;5;45mNone\u001b[0m, \u001b[38;5;45mNone\u001b[0m)      │          \u001b[38;5;34m0\u001b[0m │ not_equal_2[\u001b[38;5;34m0\u001b[0m][\u001b[38;5;34m0\u001b[0m] │\n",
       "├─────────────────────┼───────────────────┼────────────┼───────────────────┤\n",
       "│ dense_1 (\u001b[38;5;33mDense\u001b[0m)     │ (\u001b[38;5;45mNone\u001b[0m, \u001b[38;5;45mNone\u001b[0m, \u001b[38;5;34m32\u001b[0m)  │        \u001b[38;5;34m384\u001b[0m │ masking_3[\u001b[38;5;34m0\u001b[0m][\u001b[38;5;34m0\u001b[0m]   │\n",
       "├─────────────────────┼───────────────────┼────────────┼───────────────────┤\n",
       "│ any_3 (\u001b[38;5;33mAny\u001b[0m)         │ (\u001b[38;5;45mNone\u001b[0m, \u001b[38;5;45mNone\u001b[0m)      │          \u001b[38;5;34m0\u001b[0m │ not_equal_3[\u001b[38;5;34m0\u001b[0m][\u001b[38;5;34m0\u001b[0m] │\n",
       "├─────────────────────┼───────────────────┼────────────┼───────────────────┤\n",
       "│ dense_2 (\u001b[38;5;33mDense\u001b[0m)     │ (\u001b[38;5;45mNone\u001b[0m, \u001b[38;5;45mNone\u001b[0m, \u001b[38;5;34m32\u001b[0m)  │        \u001b[38;5;34m704\u001b[0m │ masking_4[\u001b[38;5;34m0\u001b[0m][\u001b[38;5;34m0\u001b[0m]   │\n",
       "├─────────────────────┼───────────────────┼────────────┼───────────────────┤\n",
       "│ any_4 (\u001b[38;5;33mAny\u001b[0m)         │ (\u001b[38;5;45mNone\u001b[0m, \u001b[38;5;45mNone\u001b[0m)      │          \u001b[38;5;34m0\u001b[0m │ not_equal_4[\u001b[38;5;34m0\u001b[0m][\u001b[38;5;34m0\u001b[0m] │\n",
       "├─────────────────────┼───────────────────┼────────────┼───────────────────┤\n",
       "│ single_row_16_feat… │ (\u001b[38;5;45mNone\u001b[0m, \u001b[38;5;34m16\u001b[0m)        │          \u001b[38;5;34m0\u001b[0m │ -                 │\n",
       "│ (\u001b[38;5;33mInputLayer\u001b[0m)        │                   │            │                   │\n",
       "├─────────────────────┼───────────────────┼────────────┼───────────────────┤\n",
       "│ lstm (\u001b[38;5;33mLSTM\u001b[0m)         │ (\u001b[38;5;45mNone\u001b[0m, \u001b[38;5;34m64\u001b[0m)        │     \u001b[38;5;34m19,456\u001b[0m │ masking[\u001b[38;5;34m0\u001b[0m][\u001b[38;5;34m0\u001b[0m],    │\n",
       "│                     │                   │            │ any[\u001b[38;5;34m0\u001b[0m][\u001b[38;5;34m0\u001b[0m]         │\n",
       "├─────────────────────┼───────────────────┼────────────┼───────────────────┤\n",
       "│ lstm_1 (\u001b[38;5;33mLSTM\u001b[0m)       │ (\u001b[38;5;45mNone\u001b[0m, \u001b[38;5;34m64\u001b[0m)        │     \u001b[38;5;34m19,456\u001b[0m │ masking_1[\u001b[38;5;34m0\u001b[0m][\u001b[38;5;34m0\u001b[0m],  │\n",
       "│                     │                   │            │ any_1[\u001b[38;5;34m0\u001b[0m][\u001b[38;5;34m0\u001b[0m]       │\n",
       "├─────────────────────┼───────────────────┼────────────┼───────────────────┤\n",
       "│ global_average_poo… │ (\u001b[38;5;45mNone\u001b[0m, \u001b[38;5;34m32\u001b[0m)        │          \u001b[38;5;34m0\u001b[0m │ dense[\u001b[38;5;34m0\u001b[0m][\u001b[38;5;34m0\u001b[0m],      │\n",
       "│ (\u001b[38;5;33mGlobalAveragePool…\u001b[0m │                   │            │ any_2[\u001b[38;5;34m0\u001b[0m][\u001b[38;5;34m0\u001b[0m]       │\n",
       "├─────────────────────┼───────────────────┼────────────┼───────────────────┤\n",
       "│ global_average_poo… │ (\u001b[38;5;45mNone\u001b[0m, \u001b[38;5;34m32\u001b[0m)        │          \u001b[38;5;34m0\u001b[0m │ dense_1[\u001b[38;5;34m0\u001b[0m][\u001b[38;5;34m0\u001b[0m],    │\n",
       "│ (\u001b[38;5;33mGlobalAveragePool…\u001b[0m │                   │            │ any_3[\u001b[38;5;34m0\u001b[0m][\u001b[38;5;34m0\u001b[0m]       │\n",
       "├─────────────────────┼───────────────────┼────────────┼───────────────────┤\n",
       "│ global_average_poo… │ (\u001b[38;5;45mNone\u001b[0m, \u001b[38;5;34m32\u001b[0m)        │          \u001b[38;5;34m0\u001b[0m │ dense_2[\u001b[38;5;34m0\u001b[0m][\u001b[38;5;34m0\u001b[0m],    │\n",
       "│ (\u001b[38;5;33mGlobalAveragePool…\u001b[0m │                   │            │ any_4[\u001b[38;5;34m0\u001b[0m][\u001b[38;5;34m0\u001b[0m]       │\n",
       "├─────────────────────┼───────────────────┼────────────┼───────────────────┤\n",
       "│ dense_3 (\u001b[38;5;33mDense\u001b[0m)     │ (\u001b[38;5;45mNone\u001b[0m, \u001b[38;5;34m32\u001b[0m)        │        \u001b[38;5;34m544\u001b[0m │ single_row_16_fe… │\n",
       "├─────────────────────┼───────────────────┼────────────┼───────────────────┤\n",
       "│ concatenate         │ (\u001b[38;5;45mNone\u001b[0m, \u001b[38;5;34m256\u001b[0m)       │          \u001b[38;5;34m0\u001b[0m │ lstm[\u001b[38;5;34m0\u001b[0m][\u001b[38;5;34m0\u001b[0m],       │\n",
       "│ (\u001b[38;5;33mConcatenate\u001b[0m)       │                   │            │ lstm_1[\u001b[38;5;34m0\u001b[0m][\u001b[38;5;34m0\u001b[0m],     │\n",
       "│                     │                   │            │ global_average_p… │\n",
       "│                     │                   │            │ global_average_p… │\n",
       "│                     │                   │            │ global_average_p… │\n",
       "│                     │                   │            │ dense_3[\u001b[38;5;34m0\u001b[0m][\u001b[38;5;34m0\u001b[0m]     │\n",
       "├─────────────────────┼───────────────────┼────────────┼───────────────────┤\n",
       "│ dense_4 (\u001b[38;5;33mDense\u001b[0m)     │ (\u001b[38;5;45mNone\u001b[0m, \u001b[38;5;34m64\u001b[0m)        │     \u001b[38;5;34m16,448\u001b[0m │ concatenate[\u001b[38;5;34m0\u001b[0m][\u001b[38;5;34m0\u001b[0m] │\n",
       "├─────────────────────┼───────────────────┼────────────┼───────────────────┤\n",
       "│ dense_5 (\u001b[38;5;33mDense\u001b[0m)     │ (\u001b[38;5;45mNone\u001b[0m, \u001b[38;5;34m1\u001b[0m)         │         \u001b[38;5;34m65\u001b[0m │ dense_4[\u001b[38;5;34m0\u001b[0m][\u001b[38;5;34m0\u001b[0m]     │\n",
       "└─────────────────────┴───────────────────┴────────────┴───────────────────┘\n"
      ]
     },
     "metadata": {},
     "output_type": "display_data"
    },
    {
     "data": {
      "text/html": [
       "<pre style=\"white-space:pre;overflow-x:auto;line-height:normal;font-family:Menlo,'DejaVu Sans Mono',consolas,'Courier New',monospace\"><span style=\"font-weight: bold\"> Total params: </span><span style=\"color: #00af00; text-decoration-color: #00af00\">57,441</span> (224.38 KB)\n",
       "</pre>\n"
      ],
      "text/plain": [
       "\u001b[1m Total params: \u001b[0m\u001b[38;5;34m57,441\u001b[0m (224.38 KB)\n"
      ]
     },
     "metadata": {},
     "output_type": "display_data"
    },
    {
     "data": {
      "text/html": [
       "<pre style=\"white-space:pre;overflow-x:auto;line-height:normal;font-family:Menlo,'DejaVu Sans Mono',consolas,'Courier New',monospace\"><span style=\"font-weight: bold\"> Trainable params: </span><span style=\"color: #00af00; text-decoration-color: #00af00\">57,441</span> (224.38 KB)\n",
       "</pre>\n"
      ],
      "text/plain": [
       "\u001b[1m Trainable params: \u001b[0m\u001b[38;5;34m57,441\u001b[0m (224.38 KB)\n"
      ]
     },
     "metadata": {},
     "output_type": "display_data"
    },
    {
     "data": {
      "text/html": [
       "<pre style=\"white-space:pre;overflow-x:auto;line-height:normal;font-family:Menlo,'DejaVu Sans Mono',consolas,'Courier New',monospace\"><span style=\"font-weight: bold\"> Non-trainable params: </span><span style=\"color: #00af00; text-decoration-color: #00af00\">0</span> (0.00 B)\n",
       "</pre>\n"
      ],
      "text/plain": [
       "\u001b[1m Non-trainable params: \u001b[0m\u001b[38;5;34m0\u001b[0m (0.00 B)\n"
      ]
     },
     "metadata": {},
     "output_type": "display_data"
    }
   ],
   "source": [
    "import numpy as np\n",
    "import tensorflow as tf\n",
    "from tensorflow.keras.models import Model\n",
    "from tensorflow.keras.layers import Input, LSTM, Dense, Masking, GlobalAveragePooling1D, Concatenate\n",
    "from tensorflow.keras.losses import BinaryCrossentropy\n",
    "\n",
    "# === Define input shapes ===\n",
    "X1 = 11   # Features in time series 1\n",
    "X2 = 11   # Features in time series 2\n",
    "dense_input_size = 16\n",
    "\n",
    "# Inputs (variable-length)\n",
    "input_ts1 = Input(shape=(None, X1), name='player_a_past_performance')\n",
    "input_ts2 = Input(shape=(None, X2), name='player_b_past_performance')\n",
    "input_tab1 = Input(shape=(None, 11), name='player_a_past_5_performance')  # 0–5 rows\n",
    "input_tab2 = Input(shape=(None, 11), name='player_b_past_5_performance')  # 0–5 rows\n",
    "input_tab3 = Input(shape=(None, 21), name='h2h_data')  # 0–3 rows\n",
    "input_dense = Input(shape=(dense_input_size,), name='single_row_16_features')\n",
    "\n",
    "\n",
    "# === Branch for time series 1 ===\n",
    "masked_ts1 = Masking()(input_ts1)\n",
    "lstm_ts1 = LSTM(64)(masked_ts1)\n",
    "\n",
    "# === Branch for time series 2 ===\n",
    "masked_ts2 = Masking()(input_ts2)\n",
    "lstm_ts2 = LSTM(64)(masked_ts2)\n",
    "\n",
    "# === Branch for tabular data 1 ===\n",
    "masked_tab1 = Masking()(input_tab1)\n",
    "dense_tab1 = Dense(32, activation='relu')(masked_tab1)\n",
    "pooled_tab1 = GlobalAveragePooling1D()(dense_tab1)\n",
    "\n",
    "# === Branch for tabular data 2 ===\n",
    "masked_tab2 = Masking()(input_tab2)\n",
    "dense_tab2 = Dense(32, activation='relu')(masked_tab2)\n",
    "pooled_tab2 = GlobalAveragePooling1D()(dense_tab2)\n",
    "\n",
    "# === Branch for tabular data 3 ===\n",
    "masked_tab3 = Masking()(input_tab3)\n",
    "dense_tab3 = Dense(32, activation='relu')(masked_tab3)\n",
    "pooled_tab3 = GlobalAveragePooling1D()(dense_tab3)\n",
    "\n",
    "dense_branch = Dense(32, activation='relu')(input_dense)\n",
    "\n",
    "# === Merge all branches ===\n",
    "merged = Concatenate()([lstm_ts1, lstm_ts2, pooled_tab1, pooled_tab2, pooled_tab3, dense_branch])\n",
    "dense = Dense(64, activation='relu')(merged)\n",
    "output = Dense(1, activation='sigmoid')(dense)\n",
    "\n",
    "model = Model(inputs=[input_ts1, input_ts2, input_tab1, input_tab2, input_tab3, input_dense], outputs=output)\n",
    "model.compile(optimizer='adam', loss=BinaryCrossentropy(), metrics=['accuracy'])\n",
    "\n",
    "model.summary()\n"
   ]
  },
  {
   "cell_type": "code",
   "execution_count": 42,
   "id": "6fcd4afe-a7a0-401b-a284-b00a0b384d3a",
   "metadata": {},
   "outputs": [],
   "source": [
    "def train_model_samplewise(model, train_data, epochs=1):\n",
    "    for epoch in range(epochs):\n",
    "        total_loss = 0.0\n",
    "        sample_count = 0\n",
    "\n",
    "        print(f\"\\n=== Epoch {epoch + 1} ===\")\n",
    "        \n",
    "        for i, sample in tqdm(train_data.iterrows(), total=len(train_data)):\n",
    "            try:\n",
    "                dense_input, ts1, ts2, tab1, tab2, tab3 = single_data_point(sample)\n",
    "\n",
    "                # Skip incomplete inputs\n",
    "                if tab1.shape[0] == 0 or tab2.shape[0] == 0 or tab3.shape[0] == 0:\n",
    "                    continue\n",
    "\n",
    "                # Ensure all inputs are properly shaped float32 arrays\n",
    "                ts1 = np.expand_dims(np.array(ts1, dtype=np.float32), axis=0)\n",
    "                ts2 = np.expand_dims(np.array(ts2, dtype=np.float32), axis=0)\n",
    "                tab1 = np.expand_dims(np.array(tab1, dtype=np.float32), axis=0)\n",
    "                tab2 = np.expand_dims(np.array(tab2, dtype=np.float32), axis=0)\n",
    "                tab3 = np.expand_dims(np.array(tab3, dtype=np.float32), axis=0)\n",
    "\n",
    "                dense_input_array = np.array(dense_input, dtype=np.float32)\n",
    "                target_value = float(dense_input_array[-1])  # Ensure it's a scalar float\n",
    "\n",
    "                dense_input_trimmed = np.expand_dims(dense_input_array[:-1], axis=0)\n",
    "                target = np.array([[target_value]], dtype=np.float32)\n",
    "\n",
    "                inputs = [ts1, ts2, tab1, tab2, tab3, dense_input_trimmed]\n",
    "                for input_arr in [ts1, ts2, tab1, tab2, tab3, dense_input_trimmed]:\n",
    "                    assert not np.isnan(input_arr).any(), \"NaN in input\"\n",
    "                    assert not np.isinf(input_arr).any(), \"Inf in input\"\n",
    "\n",
    "                # === Train step ===\n",
    "                loss = model.train_on_batch(inputs, target)\n",
    "\n",
    "                # # Log raw loss\n",
    "                # print(f\"Sample {i} — Raw loss return: {loss}\")\n",
    "\n",
    "                # If using metrics, loss is a list\n",
    "                if isinstance(loss, (list, tuple)):\n",
    "                    loss_value = loss[1]\n",
    "                else:\n",
    "                    loss_value = loss\n",
    "\n",
    "                total_loss += loss_value\n",
    "                sample_count += 1\n",
    "\n",
    "                # Optional: print a prediction every 10 samples\n",
    "                if i % 10 == 0:\n",
    "                    pred = model.predict(inputs, verbose=0)\n",
    "                    print(f\"  ➤ Predicted: {pred[0][0]:.4f}, Target: {target_value:.1f}, Loss: {loss_value:.4f}\")\n",
    "\n",
    "            except Exception as e:\n",
    "                print(f\"Error on sample {i}: {e}\")\n",
    "                continue\n",
    "\n",
    "        # if sample_count == 0:\n",
    "        #     print(\"⚠️ No valid samples used this epoch.\")\n",
    "        #     continue\n",
    "\n",
    "        avg_loss = total_loss / sample_count\n",
    "        print(f\"✅ Epoch {epoch + 1} — Trained on {sample_count} samples — Avg Loss: {avg_loss:.4f}\")\n"
   ]
  },
  {
   "cell_type": "code",
   "execution_count": 43,
   "id": "67c2a1b0-38f7-4453-9dd9-803d958ed8e6",
   "metadata": {
    "scrolled": true
   },
   "outputs": [
    {
     "name": "stdout",
     "output_type": "stream",
     "text": [
      "\n",
      "=== Epoch 1 ===\n"
     ]
    },
    {
     "name": "stderr",
     "output_type": "stream",
     "text": [
      "  0%|                                          | 8/8000 [00:07<1:41:49,  1.31it/s]"
     ]
    },
    {
     "name": "stdout",
     "output_type": "stream",
     "text": [
      "WARNING:tensorflow:5 out of the last 5 calls to <function TensorFlowTrainer.make_train_function.<locals>.one_step_on_iterator at 0x13e94b1a0> triggered tf.function retracing. Tracing is expensive and the excessive number of tracings could be due to (1) creating @tf.function repeatedly in a loop, (2) passing tensors with different shapes, (3) passing Python objects instead of tensors. For (1), please define your @tf.function outside of the loop. For (2), @tf.function has reduce_retracing=True option that can avoid unnecessary retracing. For (3), please refer to https://www.tensorflow.org/guide/function#controlling_retracing and https://www.tensorflow.org/api_docs/python/tf/function for  more details.\n"
     ]
    },
    {
     "name": "stderr",
     "output_type": "stream",
     "text": [
      "  0%|                                           | 21/8000 [00:08<14:39,  9.07it/s]"
     ]
    },
    {
     "name": "stdout",
     "output_type": "stream",
     "text": [
      "WARNING:tensorflow:6 out of the last 6 calls to <function TensorFlowTrainer.make_train_function.<locals>.one_step_on_iterator at 0x13e94b1a0> triggered tf.function retracing. Tracing is expensive and the excessive number of tracings could be due to (1) creating @tf.function repeatedly in a loop, (2) passing tensors with different shapes, (3) passing Python objects instead of tensors. For (1), please define your @tf.function outside of the loop. For (2), @tf.function has reduce_retracing=True option that can avoid unnecessary retracing. For (3), please refer to https://www.tensorflow.org/guide/function#controlling_retracing and https://www.tensorflow.org/api_docs/python/tf/function for  more details.\n"
     ]
    },
    {
     "name": "stderr",
     "output_type": "stream",
     "text": [
      "/opt/anaconda3/lib/python3.12/site-packages/keras/src/models/functional.py:225: UserWarning: The structure of `inputs` doesn't match the expected structure: ['player_a_past_performance', 'player_b_past_performance', 'player_a_past_5_performance', 'player_b_past_5_performance', 'h2h_data', 'single_row_16_features']. Received: the structure of inputs=('*', '*', '*', '*', '*', '*')\n",
      "  warnings.warn(\n",
      "  0%|                                           | 23/8000 [00:10<45:07,  2.95it/s]"
     ]
    },
    {
     "name": "stdout",
     "output_type": "stream",
     "text": [
      "  ➤ Predicted: 0.4322, Target: 1.0, Loss: 0.5714\n"
     ]
    },
    {
     "name": "stderr",
     "output_type": "stream",
     "text": [
      "  0%|▏                                          | 32/8000 [00:15<48:57,  2.71it/s]/opt/anaconda3/lib/python3.12/site-packages/keras/src/models/functional.py:225: UserWarning: The structure of `inputs` doesn't match the expected structure: ['player_a_past_performance', 'player_b_past_performance', 'player_a_past_5_performance', 'player_b_past_5_performance', 'h2h_data', 'single_row_16_features']. Received: the structure of inputs=('*', '*', '*', '*', '*', '*')\n",
      "  warnings.warn(\n",
      "  0%|▏                                        | 33/8000 [00:16<1:11:17,  1.86it/s]"
     ]
    },
    {
     "name": "stdout",
     "output_type": "stream",
     "text": [
      "  ➤ Predicted: 0.4192, Target: 0.0, Loss: 0.6429\n"
     ]
    },
    {
     "name": "stderr",
     "output_type": "stream",
     "text": [
      "  1%|▎                                          | 61/8000 [00:28<37:52,  3.49it/s]/opt/anaconda3/lib/python3.12/site-packages/keras/src/models/functional.py:225: UserWarning: The structure of `inputs` doesn't match the expected structure: ['player_a_past_performance', 'player_b_past_performance', 'player_a_past_5_performance', 'player_b_past_5_performance', 'h2h_data', 'single_row_16_features']. Received: the structure of inputs=('*', '*', '*', '*', '*', '*')\n",
      "  warnings.warn(\n",
      "  1%|▎                                        | 63/8000 [00:30<1:02:53,  2.10it/s]"
     ]
    },
    {
     "name": "stdout",
     "output_type": "stream",
     "text": [
      "  ➤ Predicted: 0.3804, Target: 1.0, Loss: 0.6129\n"
     ]
    },
    {
     "name": "stderr",
     "output_type": "stream",
     "text": [
      "  1%|▍                                        | 93/8000 [00:44<1:23:23,  1.58it/s]"
     ]
    },
    {
     "name": "stdout",
     "output_type": "stream",
     "text": [
      "  ➤ Predicted: 0.3888, Target: 0.0, Loss: 0.6327\n"
     ]
    },
    {
     "name": "stderr",
     "output_type": "stream",
     "text": [
      "  1%|▌                                       | 103/8000 [00:50<1:18:33,  1.68it/s]"
     ]
    },
    {
     "name": "stdout",
     "output_type": "stream",
     "text": [
      "  ➤ Predicted: 0.4743, Target: 1.0, Loss: 0.5965\n"
     ]
    },
    {
     "name": "stderr",
     "output_type": "stream",
     "text": [
      "  2%|▌                                       | 123/8000 [01:00<1:13:34,  1.78it/s]"
     ]
    },
    {
     "name": "stdout",
     "output_type": "stream",
     "text": [
      "  ➤ Predicted: 0.5516, Target: 1.0, Loss: 0.5942\n"
     ]
    },
    {
     "name": "stderr",
     "output_type": "stream",
     "text": [
      "  2%|▊                                       | 153/8000 [01:13<1:13:13,  1.79it/s]"
     ]
    },
    {
     "name": "stdout",
     "output_type": "stream",
     "text": [
      "  ➤ Predicted: 0.5225, Target: 1.0, Loss: 0.5783\n"
     ]
    },
    {
     "name": "stderr",
     "output_type": "stream",
     "text": [
      "  2%|█                                         | 195/8000 [01:23<27:02,  4.81it/s]"
     ]
    },
    {
     "name": "stdout",
     "output_type": "stream",
     "text": [
      "  ➤ Predicted: 0.4412, Target: 0.0, Loss: 0.6000\n"
     ]
    },
    {
     "name": "stderr",
     "output_type": "stream",
     "text": [
      "  3%|█                                       | 223/8000 [01:37<1:19:22,  1.63it/s]"
     ]
    },
    {
     "name": "stdout",
     "output_type": "stream",
     "text": [
      "  ➤ Predicted: 0.4436, Target: 0.0, Loss: 0.5929\n"
     ]
    },
    {
     "name": "stderr",
     "output_type": "stream",
     "text": [
      "  3%|█▏                                        | 235/8000 [01:43<51:39,  2.51it/s]"
     ]
    },
    {
     "name": "stdout",
     "output_type": "stream",
     "text": [
      "  ➤ Predicted: 0.5629, Target: 1.0, Loss: 0.6000\n"
     ]
    },
    {
     "name": "stderr",
     "output_type": "stream",
     "text": [
      "  3%|█▏                                      | 243/8000 [01:48<1:28:07,  1.47it/s]"
     ]
    },
    {
     "name": "stdout",
     "output_type": "stream",
     "text": [
      "  ➤ Predicted: 0.4923, Target: 1.0, Loss: 0.6032\n"
     ]
    },
    {
     "name": "stderr",
     "output_type": "stream",
     "text": [
      "  3%|█▍                                        | 263/8000 [01:56<44:31,  2.90it/s]"
     ]
    },
    {
     "name": "stdout",
     "output_type": "stream",
     "text": [
      "  ➤ Predicted: 0.4551, Target: 1.0, Loss: 0.6029\n"
     ]
    },
    {
     "name": "stderr",
     "output_type": "stream",
     "text": [
      "  3%|█▍                                        | 273/8000 [01:59<45:00,  2.86it/s]"
     ]
    },
    {
     "name": "stdout",
     "output_type": "stream",
     "text": [
      "  ➤ Predicted: 0.4896, Target: 1.0, Loss: 0.6043\n"
     ]
    },
    {
     "name": "stderr",
     "output_type": "stream",
     "text": [
      "  4%|█▍                                        | 283/8000 [02:02<48:25,  2.66it/s]"
     ]
    },
    {
     "name": "stdout",
     "output_type": "stream",
     "text": [
      "  ➤ Predicted: 0.5390, Target: 1.0, Loss: 0.6084\n"
     ]
    },
    {
     "name": "stderr",
     "output_type": "stream",
     "text": [
      "  4%|█▋                                        | 313/8000 [02:17<56:55,  2.25it/s]"
     ]
    },
    {
     "name": "stdout",
     "output_type": "stream",
     "text": [
      "  ➤ Predicted: 0.6584, Target: 1.0, Loss: 0.6173\n"
     ]
    },
    {
     "name": "stderr",
     "output_type": "stream",
     "text": [
      "  4%|█▋                                      | 333/8000 [02:30<1:36:14,  1.33it/s]"
     ]
    },
    {
     "name": "stdout",
     "output_type": "stream",
     "text": [
      "  ➤ Predicted: 0.5245, Target: 0.0, Loss: 0.6257\n"
     ]
    },
    {
     "name": "stderr",
     "output_type": "stream",
     "text": [
      "  4%|█▋                                      | 343/8000 [02:37<1:32:40,  1.38it/s]"
     ]
    },
    {
     "name": "stdout",
     "output_type": "stream",
     "text": [
      "  ➤ Predicted: 0.4047, Target: 1.0, Loss: 0.6223\n"
     ]
    },
    {
     "name": "stderr",
     "output_type": "stream",
     "text": [
      "  5%|█▉                                        | 369/8000 [02:42<13:42,  9.28it/s]"
     ]
    },
    {
     "name": "stdout",
     "output_type": "stream",
     "text": [
      "  ➤ Predicted: 0.2934, Target: 1.0, Loss: 0.6250\n"
     ]
    },
    {
     "name": "stderr",
     "output_type": "stream",
     "text": [
      "  6%|██▎                                       | 443/8000 [02:51<44:13,  2.85it/s]"
     ]
    },
    {
     "name": "stdout",
     "output_type": "stream",
     "text": [
      "  ➤ Predicted: 0.5084, Target: 1.0, Loss: 0.6332\n"
     ]
    },
    {
     "name": "stderr",
     "output_type": "stream",
     "text": [
      "  6%|██▍                                       | 466/8000 [02:55<20:48,  6.03it/s]"
     ]
    },
    {
     "name": "stdout",
     "output_type": "stream",
     "text": [
      "  ➤ Predicted: 0.4097, Target: 1.0, Loss: 0.6355\n"
     ]
    },
    {
     "name": "stderr",
     "output_type": "stream",
     "text": [
      "  6%|██▍                                     | 493/8000 [03:04<1:00:26,  2.07it/s]"
     ]
    },
    {
     "name": "stdout",
     "output_type": "stream",
     "text": [
      "  ➤ Predicted: 0.5259, Target: 1.0, Loss: 0.6279\n"
     ]
    },
    {
     "name": "stderr",
     "output_type": "stream",
     "text": [
      "  6%|██▋                                       | 505/8000 [03:09<33:37,  3.72it/s]"
     ]
    },
    {
     "name": "stdout",
     "output_type": "stream",
     "text": [
      "  ➤ Predicted: 0.5428, Target: 1.0, Loss: 0.6364\n"
     ]
    },
    {
     "name": "stderr",
     "output_type": "stream",
     "text": [
      "  7%|██▋                                       | 523/8000 [03:14<50:18,  2.48it/s]"
     ]
    },
    {
     "name": "stdout",
     "output_type": "stream",
     "text": [
      "  ➤ Predicted: 0.7195, Target: 0.0, Loss: 0.6327\n"
     ]
    },
    {
     "name": "stderr",
     "output_type": "stream",
     "text": [
      "  7%|██▋                                     | 533/8000 [03:20<1:22:24,  1.51it/s]"
     ]
    },
    {
     "name": "stdout",
     "output_type": "stream",
     "text": [
      "  ➤ Predicted: 0.6588, Target: 1.0, Loss: 0.6368\n"
     ]
    },
    {
     "name": "stderr",
     "output_type": "stream",
     "text": [
      "  7%|██▋                                     | 543/8000 [03:27<1:18:59,  1.57it/s]"
     ]
    },
    {
     "name": "stdout",
     "output_type": "stream",
     "text": [
      "  ➤ Predicted: 0.4438, Target: 0.0, Loss: 0.6405\n"
     ]
    },
    {
     "name": "stderr",
     "output_type": "stream",
     "text": [
      "  7%|██▊                                     | 553/8000 [03:34<1:44:40,  1.19it/s]"
     ]
    },
    {
     "name": "stdout",
     "output_type": "stream",
     "text": [
      "  ➤ Predicted: 0.4423, Target: 1.0, Loss: 0.6414\n"
     ]
    },
    {
     "name": "stderr",
     "output_type": "stream",
     "text": [
      "  7%|███                                       | 585/8000 [03:43<39:50,  3.10it/s]"
     ]
    },
    {
     "name": "stdout",
     "output_type": "stream",
     "text": [
      "  ➤ Predicted: 0.4205, Target: 1.0, Loss: 0.6360\n"
     ]
    },
    {
     "name": "stderr",
     "output_type": "stream",
     "text": [
      "  7%|███                                       | 593/8000 [03:47<54:44,  2.26it/s]"
     ]
    },
    {
     "name": "stdout",
     "output_type": "stream",
     "text": [
      "  ➤ Predicted: 0.7128, Target: 1.0, Loss: 0.6391\n"
     ]
    },
    {
     "name": "stderr",
     "output_type": "stream",
     "text": [
      "  8%|███▎                                      | 623/8000 [03:58<57:31,  2.14it/s]"
     ]
    },
    {
     "name": "stdout",
     "output_type": "stream",
     "text": [
      "  ➤ Predicted: 0.4630, Target: 0.0, Loss: 0.6380\n"
     ]
    },
    {
     "name": "stderr",
     "output_type": "stream",
     "text": [
      "  8%|███▎                                      | 636/8000 [04:02<26:54,  4.56it/s]"
     ]
    },
    {
     "name": "stdout",
     "output_type": "stream",
     "text": [
      "  ➤ Predicted: 0.6077, Target: 1.0, Loss: 0.6408\n"
     ]
    },
    {
     "name": "stderr",
     "output_type": "stream",
     "text": [
      "  8%|███▌                                      | 673/8000 [04:14<50:24,  2.42it/s]"
     ]
    },
    {
     "name": "stdout",
     "output_type": "stream",
     "text": [
      "  ➤ Predicted: 0.4807, Target: 1.0, Loss: 0.6364\n"
     ]
    },
    {
     "name": "stderr",
     "output_type": "stream",
     "text": [
      "  9%|███▍                                    | 683/8000 [04:20<1:12:04,  1.69it/s]"
     ]
    },
    {
     "name": "stdout",
     "output_type": "stream",
     "text": [
      "  ➤ Predicted: 0.6497, Target: 0.0, Loss: 0.6361\n"
     ]
    },
    {
     "name": "stderr",
     "output_type": "stream",
     "text": [
      "  9%|███▍                                    | 693/8000 [04:26<1:11:19,  1.71it/s]"
     ]
    },
    {
     "name": "stdout",
     "output_type": "stream",
     "text": [
      "  ➤ Predicted: 0.5999, Target: 1.0, Loss: 0.6314\n"
     ]
    },
    {
     "name": "stderr",
     "output_type": "stream",
     "text": [
      "  9%|███▌                                    | 713/8000 [04:37<1:21:45,  1.49it/s]"
     ]
    },
    {
     "name": "stdout",
     "output_type": "stream",
     "text": [
      "  ➤ Predicted: 0.4541, Target: 0.0, Loss: 0.6227\n"
     ]
    },
    {
     "name": "stderr",
     "output_type": "stream",
     "text": [
      "  9%|███▌                                    | 723/8000 [04:43<1:06:28,  1.82it/s]"
     ]
    },
    {
     "name": "stdout",
     "output_type": "stream",
     "text": [
      "  ➤ Predicted: 0.5964, Target: 1.0, Loss: 0.6198\n"
     ]
    },
    {
     "name": "stderr",
     "output_type": "stream",
     "text": [
      "  9%|███▋                                    | 733/8000 [04:49<1:11:10,  1.70it/s]"
     ]
    },
    {
     "name": "stdout",
     "output_type": "stream",
     "text": [
      "  ➤ Predicted: 0.5194, Target: 0.0, Loss: 0.6158\n"
     ]
    },
    {
     "name": "stderr",
     "output_type": "stream",
     "text": [
      "  9%|███▉                                      | 755/8000 [05:00<39:00,  3.10it/s]"
     ]
    },
    {
     "name": "stdout",
     "output_type": "stream",
     "text": [
      "  ➤ Predicted: 0.4754, Target: 1.0, Loss: 0.6186\n"
     ]
    },
    {
     "name": "stderr",
     "output_type": "stream",
     "text": [
      " 10%|████                                      | 775/8000 [05:10<49:29,  2.43it/s]"
     ]
    },
    {
     "name": "stdout",
     "output_type": "stream",
     "text": [
      "  ➤ Predicted: 0.5960, Target: 1.0, Loss: 0.6164\n"
     ]
    },
    {
     "name": "stderr",
     "output_type": "stream",
     "text": [
      " 10%|███▉                                    | 783/8000 [05:15<1:25:04,  1.41it/s]"
     ]
    },
    {
     "name": "stdout",
     "output_type": "stream",
     "text": [
      "  ➤ Predicted: 0.6029, Target: 1.0, Loss: 0.6183\n"
     ]
    },
    {
     "name": "stderr",
     "output_type": "stream",
     "text": [
      " 10%|███▉                                    | 793/8000 [05:23<1:36:27,  1.25it/s]"
     ]
    },
    {
     "name": "stdout",
     "output_type": "stream",
     "text": [
      "  ➤ Predicted: 0.3514, Target: 0.0, Loss: 0.6194\n"
     ]
    },
    {
     "name": "stderr",
     "output_type": "stream",
     "text": [
      " 10%|████▏                                     | 802/8000 [05:25<39:11,  3.06it/s]/opt/anaconda3/lib/python3.12/site-packages/keras/src/models/functional.py:225: UserWarning: The structure of `inputs` doesn't match the expected structure: ['player_a_past_performance', 'player_b_past_performance', 'player_a_past_5_performance', 'player_b_past_5_performance', 'h2h_data', 'single_row_16_features']. Received: the structure of inputs=('*', '*', '*', '*', '*', '*')\n",
      "  warnings.warn(\n",
      " 10%|████▏                                     | 803/8000 [05:27<57:59,  2.07it/s]"
     ]
    },
    {
     "name": "stdout",
     "output_type": "stream",
     "text": [
      "  ➤ Predicted: 0.6186, Target: 1.0, Loss: 0.6208\n"
     ]
    },
    {
     "name": "stderr",
     "output_type": "stream",
     "text": [
      " 10%|████▎                                     | 826/8000 [05:34<33:30,  3.57it/s]"
     ]
    },
    {
     "name": "stdout",
     "output_type": "stream",
     "text": [
      "  ➤ Predicted: 0.5017, Target: 1.0, Loss: 0.6132\n"
     ]
    },
    {
     "name": "stderr",
     "output_type": "stream",
     "text": [
      " 11%|████▌                                     | 873/8000 [05:51<51:12,  2.32it/s]"
     ]
    },
    {
     "name": "stdout",
     "output_type": "stream",
     "text": [
      "  ➤ Predicted: 0.5719, Target: 1.0, Loss: 0.6053\n"
     ]
    },
    {
     "name": "stderr",
     "output_type": "stream",
     "text": [
      " 11%|████▋                                     | 902/8000 [05:59<22:35,  5.24it/s]"
     ]
    },
    {
     "name": "stdout",
     "output_type": "stream",
     "text": [
      "  ➤ Predicted: 0.4311, Target: 0.0, Loss: 0.6076\n"
     ]
    },
    {
     "name": "stderr",
     "output_type": "stream",
     "text": [
      " 11%|████▊                                     | 913/8000 [06:05<50:41,  2.33it/s]"
     ]
    },
    {
     "name": "stdout",
     "output_type": "stream",
     "text": [
      "  ➤ Predicted: 0.5676, Target: 0.0, Loss: 0.6061\n"
     ]
    },
    {
     "name": "stderr",
     "output_type": "stream",
     "text": [
      " 12%|████▊                                     | 923/8000 [06:10<59:29,  1.98it/s]"
     ]
    },
    {
     "name": "stdout",
     "output_type": "stream",
     "text": [
      "  ➤ Predicted: 0.6346, Target: 1.0, Loss: 0.6083\n"
     ]
    },
    {
     "name": "stderr",
     "output_type": "stream",
     "text": [
      " 12%|████▋                                   | 943/8000 [06:19<1:04:40,  1.82it/s]"
     ]
    },
    {
     "name": "stdout",
     "output_type": "stream",
     "text": [
      "  ➤ Predicted: 0.5863, Target: 1.0, Loss: 0.6067\n"
     ]
    },
    {
     "name": "stderr",
     "output_type": "stream",
     "text": [
      " 12%|████▊                                   | 953/8000 [06:26<1:27:52,  1.34it/s]"
     ]
    },
    {
     "name": "stdout",
     "output_type": "stream",
     "text": [
      "  ➤ Predicted: 0.5566, Target: 0.0, Loss: 0.6071\n"
     ]
    },
    {
     "name": "stderr",
     "output_type": "stream",
     "text": [
      " 12%|████▊                                   | 973/8000 [06:41<1:29:25,  1.31it/s]"
     ]
    },
    {
     "name": "stdout",
     "output_type": "stream",
     "text": [
      "  ➤ Predicted: 0.3380, Target: 1.0, Loss: 0.6093\n"
     ]
    },
    {
     "name": "stderr",
     "output_type": "stream",
     "text": [
      " 12%|████▉                                   | 983/8000 [06:47<1:08:54,  1.70it/s]"
     ]
    },
    {
     "name": "stdout",
     "output_type": "stream",
     "text": [
      "  ➤ Predicted: 0.2760, Target: 1.0, Loss: 0.6109\n"
     ]
    },
    {
     "name": "stderr",
     "output_type": "stream",
     "text": [
      " 13%|█████▏                                   | 1003/8000 [06:53<57:03,  2.04it/s]"
     ]
    },
    {
     "name": "stdout",
     "output_type": "stream",
     "text": [
      "  ➤ Predicted: 0.4246, Target: 0.0, Loss: 0.6103\n"
     ]
    },
    {
     "name": "stderr",
     "output_type": "stream",
     "text": [
      " 14%|█████▋                                   | 1104/8000 [07:31<37:10,  3.09it/s]"
     ]
    },
    {
     "name": "stdout",
     "output_type": "stream",
     "text": [
      "  ➤ Predicted: 0.4618, Target: 0.0, Loss: 0.6167\n"
     ]
    },
    {
     "name": "stderr",
     "output_type": "stream",
     "text": [
      " 14%|█████▊                                   | 1135/8000 [07:46<40:21,  2.84it/s]"
     ]
    },
    {
     "name": "stdout",
     "output_type": "stream",
     "text": [
      "  ➤ Predicted: 0.4729, Target: 0.0, Loss: 0.6213\n"
     ]
    },
    {
     "name": "stderr",
     "output_type": "stream",
     "text": [
      " 14%|█████▉                                   | 1152/8000 [07:49<19:59,  5.71it/s]"
     ]
    },
    {
     "name": "stdout",
     "output_type": "stream",
     "text": [
      "  ➤ Predicted: 0.6610, Target: 0.0, Loss: 0.6211\n"
     ]
    },
    {
     "name": "stderr",
     "output_type": "stream",
     "text": [
      " 15%|█████▉                                   | 1162/8000 [07:52<21:47,  5.23it/s]"
     ]
    },
    {
     "name": "stdout",
     "output_type": "stream",
     "text": [
      "  ➤ Predicted: 0.6846, Target: 1.0, Loss: 0.6207\n"
     ]
    },
    {
     "name": "stderr",
     "output_type": "stream",
     "text": [
      " 15%|██████                                   | 1183/8000 [08:00<53:24,  2.13it/s]"
     ]
    },
    {
     "name": "stdout",
     "output_type": "stream",
     "text": [
      "  ➤ Predicted: 0.7520, Target: 1.0, Loss: 0.6219\n"
     ]
    },
    {
     "name": "stderr",
     "output_type": "stream",
     "text": [
      " 15%|██████▏                                  | 1213/8000 [08:12<52:26,  2.16it/s]"
     ]
    },
    {
     "name": "stdout",
     "output_type": "stream",
     "text": [
      "  ➤ Predicted: 0.6815, Target: 1.0, Loss: 0.6189\n"
     ]
    },
    {
     "name": "stderr",
     "output_type": "stream",
     "text": [
      " 15%|█████▉                                 | 1223/8000 [08:19<1:26:02,  1.31it/s]"
     ]
    },
    {
     "name": "stdout",
     "output_type": "stream",
     "text": [
      "  ➤ Predicted: 0.5736, Target: 1.0, Loss: 0.6172\n"
     ]
    },
    {
     "name": "stderr",
     "output_type": "stream",
     "text": [
      " 16%|██████                                 | 1243/8000 [08:29<1:14:08,  1.52it/s]"
     ]
    },
    {
     "name": "stdout",
     "output_type": "stream",
     "text": [
      "  ➤ Predicted: 0.6525, Target: 1.0, Loss: 0.6193\n"
     ]
    },
    {
     "name": "stderr",
     "output_type": "stream",
     "text": [
      " 16%|██████▋                                  | 1316/8000 [08:47<19:44,  5.64it/s]"
     ]
    },
    {
     "name": "stdout",
     "output_type": "stream",
     "text": [
      "  ➤ Predicted: 0.5766, Target: 1.0, Loss: 0.6141\n"
     ]
    },
    {
     "name": "stderr",
     "output_type": "stream",
     "text": [
      " 17%|██████▊                                  | 1325/8000 [08:51<36:51,  3.02it/s]"
     ]
    },
    {
     "name": "stdout",
     "output_type": "stream",
     "text": [
      "  ➤ Predicted: 0.4129, Target: 0.0, Loss: 0.6134\n"
     ]
    },
    {
     "name": "stderr",
     "output_type": "stream",
     "text": [
      " 17%|██████▉                                  | 1353/8000 [08:55<24:02,  4.61it/s]"
     ]
    },
    {
     "name": "stdout",
     "output_type": "stream",
     "text": [
      "  ➤ Predicted: 0.5179, Target: 1.0, Loss: 0.6143\n"
     ]
    },
    {
     "name": "stderr",
     "output_type": "stream",
     "text": [
      " 17%|██████▉                                  | 1365/8000 [09:01<41:41,  2.65it/s]"
     ]
    },
    {
     "name": "stdout",
     "output_type": "stream",
     "text": [
      "  ➤ Predicted: 0.5189, Target: 1.0, Loss: 0.6132\n"
     ]
    },
    {
     "name": "stderr",
     "output_type": "stream",
     "text": [
      " 17%|███████                                  | 1372/8000 [09:02<23:18,  4.74it/s]"
     ]
    },
    {
     "name": "stdout",
     "output_type": "stream",
     "text": [
      "  ➤ Predicted: 0.7396, Target: 1.0, Loss: 0.6134\n"
     ]
    },
    {
     "name": "stderr",
     "output_type": "stream",
     "text": [
      " 17%|███████                                  | 1383/8000 [09:09<58:27,  1.89it/s]"
     ]
    },
    {
     "name": "stdout",
     "output_type": "stream",
     "text": [
      "  ➤ Predicted: 0.4623, Target: 0.0, Loss: 0.6123\n"
     ]
    },
    {
     "name": "stderr",
     "output_type": "stream",
     "text": [
      " 17%|███████▏                                 | 1393/8000 [09:14<56:14,  1.96it/s]"
     ]
    },
    {
     "name": "stdout",
     "output_type": "stream",
     "text": [
      "  ➤ Predicted: 0.4126, Target: 1.0, Loss: 0.6129\n"
     ]
    },
    {
     "name": "stderr",
     "output_type": "stream",
     "text": [
      " 18%|███████▏                                 | 1405/8000 [09:19<38:47,  2.83it/s]"
     ]
    },
    {
     "name": "stdout",
     "output_type": "stream",
     "text": [
      "  ➤ Predicted: 0.7346, Target: 0.0, Loss: 0.6128\n"
     ]
    },
    {
     "name": "stderr",
     "output_type": "stream",
     "text": [
      " 18%|███████▏                                 | 1413/8000 [09:21<36:07,  3.04it/s]"
     ]
    },
    {
     "name": "stdout",
     "output_type": "stream",
     "text": [
      "  ➤ Predicted: 0.4026, Target: 0.0, Loss: 0.6124\n"
     ]
    },
    {
     "name": "stderr",
     "output_type": "stream",
     "text": [
      " 18%|███████▎                                 | 1422/8000 [09:24<33:48,  3.24it/s]"
     ]
    },
    {
     "name": "stdout",
     "output_type": "stream",
     "text": [
      "  ➤ Predicted: 0.3959, Target: 1.0, Loss: 0.6117\n"
     ]
    },
    {
     "name": "stderr",
     "output_type": "stream",
     "text": [
      " 18%|███████▎                                 | 1433/8000 [09:30<55:21,  1.98it/s]"
     ]
    },
    {
     "name": "stdout",
     "output_type": "stream",
     "text": [
      "  ➤ Predicted: 0.5072, Target: 1.0, Loss: 0.6137\n"
     ]
    },
    {
     "name": "stderr",
     "output_type": "stream",
     "text": [
      " 19%|███████▌                                 | 1485/8000 [09:50<45:30,  2.39it/s]"
     ]
    },
    {
     "name": "stdout",
     "output_type": "stream",
     "text": [
      "  ➤ Predicted: 0.3990, Target: 1.0, Loss: 0.6100\n"
     ]
    },
    {
     "name": "stderr",
     "output_type": "stream",
     "text": [
      " 19%|███████▋                                 | 1505/8000 [09:57<43:09,  2.51it/s]"
     ]
    },
    {
     "name": "stdout",
     "output_type": "stream",
     "text": [
      "  ➤ Predicted: 0.3244, Target: 0.0, Loss: 0.6088\n"
     ]
    },
    {
     "name": "stderr",
     "output_type": "stream",
     "text": [
      " 19%|███████▊                                 | 1535/8000 [10:05<32:06,  3.36it/s]"
     ]
    },
    {
     "name": "stdout",
     "output_type": "stream",
     "text": [
      "  ➤ Predicted: 0.4878, Target: 1.0, Loss: 0.6104\n"
     ]
    },
    {
     "name": "stderr",
     "output_type": "stream",
     "text": [
      " 19%|███████▉                                 | 1543/8000 [10:09<48:09,  2.23it/s]"
     ]
    },
    {
     "name": "stdout",
     "output_type": "stream",
     "text": [
      "  ➤ Predicted: 0.6598, Target: 1.0, Loss: 0.6098\n"
     ]
    },
    {
     "name": "stderr",
     "output_type": "stream",
     "text": [
      " 19%|███████▌                               | 1553/8000 [10:16<1:09:53,  1.54it/s]"
     ]
    },
    {
     "name": "stdout",
     "output_type": "stream",
     "text": [
      "  ➤ Predicted: 0.4814, Target: 0.0, Loss: 0.6108\n"
     ]
    },
    {
     "name": "stderr",
     "output_type": "stream",
     "text": [
      " 20%|███████▌                               | 1563/8000 [10:23<1:25:22,  1.26it/s]"
     ]
    },
    {
     "name": "stdout",
     "output_type": "stream",
     "text": [
      "  ➤ Predicted: 0.5222, Target: 1.0, Loss: 0.6110\n"
     ]
    },
    {
     "name": "stderr",
     "output_type": "stream",
     "text": [
      " 20%|████████                                 | 1575/8000 [10:28<37:56,  2.82it/s]"
     ]
    },
    {
     "name": "stdout",
     "output_type": "stream",
     "text": [
      "  ➤ Predicted: 0.4544, Target: 0.0, Loss: 0.6137\n"
     ]
    },
    {
     "name": "stderr",
     "output_type": "stream",
     "text": [
      " 20%|████████                                 | 1583/8000 [10:32<49:56,  2.14it/s]"
     ]
    },
    {
     "name": "stdout",
     "output_type": "stream",
     "text": [
      "  ➤ Predicted: 0.8195, Target: 1.0, Loss: 0.6130\n"
     ]
    },
    {
     "name": "stderr",
     "output_type": "stream",
     "text": [
      " 20%|███████▊                               | 1603/8000 [10:45<1:23:31,  1.28it/s]"
     ]
    },
    {
     "name": "stdout",
     "output_type": "stream",
     "text": [
      "  ➤ Predicted: 0.6419, Target: 1.0, Loss: 0.6114\n"
     ]
    },
    {
     "name": "stderr",
     "output_type": "stream",
     "text": [
      " 20%|███████▊                               | 1613/8000 [10:54<1:35:11,  1.12it/s]"
     ]
    },
    {
     "name": "stdout",
     "output_type": "stream",
     "text": [
      "  ➤ Predicted: 0.3777, Target: 1.0, Loss: 0.6099\n"
     ]
    },
    {
     "name": "stderr",
     "output_type": "stream",
     "text": [
      " 21%|████████▍                                | 1645/8000 [11:12<50:32,  2.10it/s]"
     ]
    },
    {
     "name": "stdout",
     "output_type": "stream",
     "text": [
      "  ➤ Predicted: 0.4969, Target: 0.0, Loss: 0.6149\n"
     ]
    },
    {
     "name": "stderr",
     "output_type": "stream",
     "text": [
      " 21%|████████                               | 1653/8000 [11:17<1:08:09,  1.55it/s]"
     ]
    },
    {
     "name": "stdout",
     "output_type": "stream",
     "text": [
      "  ➤ Predicted: 0.7181, Target: 1.0, Loss: 0.6166\n"
     ]
    },
    {
     "name": "stderr",
     "output_type": "stream",
     "text": [
      " 21%|████████                               | 1663/8000 [11:26<1:33:57,  1.12it/s]"
     ]
    },
    {
     "name": "stdout",
     "output_type": "stream",
     "text": [
      "  ➤ Predicted: 0.5847, Target: 1.0, Loss: 0.6176\n"
     ]
    },
    {
     "name": "stderr",
     "output_type": "stream",
     "text": [
      " 21%|████████▋                                | 1693/8000 [11:38<43:54,  2.39it/s]"
     ]
    },
    {
     "name": "stdout",
     "output_type": "stream",
     "text": [
      "  ➤ Predicted: 0.6697, Target: 1.0, Loss: 0.6179\n"
     ]
    },
    {
     "name": "stderr",
     "output_type": "stream",
     "text": [
      " 21%|████████▎                              | 1703/8000 [11:45<1:25:25,  1.23it/s]"
     ]
    },
    {
     "name": "stdout",
     "output_type": "stream",
     "text": [
      "  ➤ Predicted: 0.6287, Target: 0.0, Loss: 0.6167\n"
     ]
    },
    {
     "name": "stderr",
     "output_type": "stream",
     "text": [
      " 21%|████████▎                              | 1713/8000 [11:52<1:09:09,  1.52it/s]"
     ]
    },
    {
     "name": "stdout",
     "output_type": "stream",
     "text": [
      "  ➤ Predicted: 0.4141, Target: 1.0, Loss: 0.6143\n"
     ]
    },
    {
     "name": "stderr",
     "output_type": "stream",
     "text": [
      " 22%|████████▉                                | 1746/8000 [12:02<20:57,  4.97it/s]"
     ]
    },
    {
     "name": "stdout",
     "output_type": "stream",
     "text": [
      "  ➤ Predicted: 0.5584, Target: 1.0, Loss: 0.6142\n"
     ]
    },
    {
     "name": "stderr",
     "output_type": "stream",
     "text": [
      " 22%|████████▉                                | 1752/8000 [12:03<23:37,  4.41it/s]"
     ]
    },
    {
     "name": "stdout",
     "output_type": "stream",
     "text": [
      "  ➤ Predicted: 0.2819, Target: 1.0, Loss: 0.6139\n"
     ]
    },
    {
     "name": "stderr",
     "output_type": "stream",
     "text": [
      " 22%|█████████                                | 1771/8000 [12:11<27:20,  3.80it/s]/opt/anaconda3/lib/python3.12/site-packages/keras/src/models/functional.py:225: UserWarning: The structure of `inputs` doesn't match the expected structure: ['player_a_past_performance', 'player_b_past_performance', 'player_a_past_5_performance', 'player_b_past_5_performance', 'h2h_data', 'single_row_16_features']. Received: the structure of inputs=('*', '*', '*', '*', '*', '*')\n",
      "  warnings.warn(\n",
      " 22%|█████████                                | 1775/8000 [12:13<39:18,  2.64it/s]"
     ]
    },
    {
     "name": "stdout",
     "output_type": "stream",
     "text": [
      "  ➤ Predicted: 0.3923, Target: 0.0, Loss: 0.6169\n"
     ]
    },
    {
     "name": "stderr",
     "output_type": "stream",
     "text": [
      " 23%|████████▊                              | 1803/8000 [12:28<1:15:09,  1.37it/s]"
     ]
    },
    {
     "name": "stdout",
     "output_type": "stream",
     "text": [
      "  ➤ Predicted: 0.3582, Target: 0.0, Loss: 0.6182\n"
     ]
    },
    {
     "name": "stderr",
     "output_type": "stream",
     "text": [
      " 23%|█████████▎                               | 1815/8000 [12:35<45:12,  2.28it/s]"
     ]
    },
    {
     "name": "stdout",
     "output_type": "stream",
     "text": [
      "  ➤ Predicted: 0.3786, Target: 1.0, Loss: 0.6178\n"
     ]
    },
    {
     "name": "stderr",
     "output_type": "stream",
     "text": [
      " 23%|█████████▎                               | 1823/8000 [12:39<59:55,  1.72it/s]"
     ]
    },
    {
     "name": "stdout",
     "output_type": "stream",
     "text": [
      "  ➤ Predicted: 0.3391, Target: 1.0, Loss: 0.6189\n"
     ]
    },
    {
     "name": "stderr",
     "output_type": "stream",
     "text": [
      " 23%|████████▉                              | 1833/8000 [12:46<1:06:53,  1.54it/s]"
     ]
    },
    {
     "name": "stdout",
     "output_type": "stream",
     "text": [
      "  ➤ Predicted: 0.4999, Target: 0.0, Loss: 0.6185\n"
     ]
    },
    {
     "name": "stderr",
     "output_type": "stream",
     "text": [
      " 24%|█████████▋                               | 1881/8000 [12:55<05:08, 19.86it/s]"
     ]
    },
    {
     "name": "stdout",
     "output_type": "stream",
     "text": [
      "  ➤ Predicted: 0.6643, Target: 0.0, Loss: 0.6137\n"
     ]
    },
    {
     "name": "stderr",
     "output_type": "stream",
     "text": [
      " 24%|█████████▋                               | 1895/8000 [13:00<22:16,  4.57it/s]"
     ]
    },
    {
     "name": "stdout",
     "output_type": "stream",
     "text": [
      "  ➤ Predicted: 0.3511, Target: 0.0, Loss: 0.6150\n"
     ]
    },
    {
     "name": "stderr",
     "output_type": "stream",
     "text": [
      " 24%|█████████▊                               | 1913/8000 [13:04<35:10,  2.88it/s]"
     ]
    },
    {
     "name": "stdout",
     "output_type": "stream",
     "text": [
      "  ➤ Predicted: 0.6128, Target: 1.0, Loss: 0.6156\n"
     ]
    },
    {
     "name": "stderr",
     "output_type": "stream",
     "text": [
      " 24%|█████████▊                               | 1923/8000 [13:08<38:02,  2.66it/s]"
     ]
    },
    {
     "name": "stdout",
     "output_type": "stream",
     "text": [
      "  ➤ Predicted: 0.4322, Target: 1.0, Loss: 0.6151\n"
     ]
    },
    {
     "name": "stderr",
     "output_type": "stream",
     "text": [
      " 25%|██████████                               | 1965/8000 [13:24<33:42,  2.98it/s]"
     ]
    },
    {
     "name": "stdout",
     "output_type": "stream",
     "text": [
      "  ➤ Predicted: 0.2232, Target: 0.0, Loss: 0.6146\n"
     ]
    },
    {
     "name": "stderr",
     "output_type": "stream",
     "text": [
      " 25%|██████████▏                              | 1993/8000 [13:38<56:39,  1.77it/s]"
     ]
    },
    {
     "name": "stdout",
     "output_type": "stream",
     "text": [
      "  ➤ Predicted: 0.2274, Target: 0.0, Loss: 0.6172\n"
     ]
    },
    {
     "name": "stderr",
     "output_type": "stream",
     "text": [
      " 25%|█████████▊                             | 2023/8000 [14:00<1:28:42,  1.12it/s]"
     ]
    },
    {
     "name": "stdout",
     "output_type": "stream",
     "text": [
      "  ➤ Predicted: 0.5195, Target: 1.0, Loss: 0.6231\n"
     ]
    },
    {
     "name": "stderr",
     "output_type": "stream",
     "text": [
      " 25%|█████████▉                             | 2033/8000 [14:07<1:04:27,  1.54it/s]"
     ]
    },
    {
     "name": "stdout",
     "output_type": "stream",
     "text": [
      "  ➤ Predicted: 0.5271, Target: 1.0, Loss: 0.6238\n"
     ]
    },
    {
     "name": "stderr",
     "output_type": "stream",
     "text": [
      " 26%|██████████▍                              | 2043/8000 [14:10<39:24,  2.52it/s]"
     ]
    },
    {
     "name": "stdout",
     "output_type": "stream",
     "text": [
      "  ➤ Predicted: 0.6703, Target: 0.0, Loss: 0.6229\n"
     ]
    },
    {
     "name": "stderr",
     "output_type": "stream",
     "text": [
      " 26%|██████████▌                              | 2053/8000 [14:15<50:43,  1.95it/s]"
     ]
    },
    {
     "name": "stdout",
     "output_type": "stream",
     "text": [
      "  ➤ Predicted: 0.6103, Target: 1.0, Loss: 0.6228\n"
     ]
    },
    {
     "name": "stderr",
     "output_type": "stream",
     "text": [
      " 26%|██████████▌                              | 2063/8000 [14:21<57:29,  1.72it/s]"
     ]
    },
    {
     "name": "stdout",
     "output_type": "stream",
     "text": [
      "  ➤ Predicted: 0.3894, Target: 0.0, Loss: 0.6255\n"
     ]
    },
    {
     "name": "stderr",
     "output_type": "stream",
     "text": [
      " 26%|██████████▌                              | 2073/8000 [14:25<50:22,  1.96it/s]"
     ]
    },
    {
     "name": "stdout",
     "output_type": "stream",
     "text": [
      "  ➤ Predicted: 0.7155, Target: 0.0, Loss: 0.6260\n"
     ]
    },
    {
     "name": "stderr",
     "output_type": "stream",
     "text": [
      " 26%|██████████▎                            | 2103/8000 [14:42<1:02:55,  1.56it/s]"
     ]
    },
    {
     "name": "stdout",
     "output_type": "stream",
     "text": [
      "  ➤ Predicted: 0.6727, Target: 1.0, Loss: 0.6258\n"
     ]
    },
    {
     "name": "stderr",
     "output_type": "stream",
     "text": [
      " 26%|██████████▊                              | 2116/8000 [14:51<42:40,  2.30it/s]"
     ]
    },
    {
     "name": "stdout",
     "output_type": "stream",
     "text": [
      "  ➤ Predicted: 0.3008, Target: 0.0, Loss: 0.6241\n"
     ]
    },
    {
     "name": "stderr",
     "output_type": "stream",
     "text": [
      " 27%|███████████                              | 2165/8000 [15:11<36:49,  2.64it/s]"
     ]
    },
    {
     "name": "stdout",
     "output_type": "stream",
     "text": [
      "  ➤ Predicted: 0.4021, Target: 0.0, Loss: 0.6250\n"
     ]
    },
    {
     "name": "stderr",
     "output_type": "stream",
     "text": [
      " 27%|██████████▋                            | 2193/8000 [15:25<1:17:59,  1.24it/s]"
     ]
    },
    {
     "name": "stdout",
     "output_type": "stream",
     "text": [
      "  ➤ Predicted: 0.6704, Target: 1.0, Loss: 0.6265\n"
     ]
    },
    {
     "name": "stderr",
     "output_type": "stream",
     "text": [
      " 28%|██████████▋                            | 2203/8000 [15:32<1:13:25,  1.32it/s]"
     ]
    },
    {
     "name": "stdout",
     "output_type": "stream",
     "text": [
      "  ➤ Predicted: 0.2855, Target: 0.0, Loss: 0.6263\n"
     ]
    },
    {
     "name": "stderr",
     "output_type": "stream",
     "text": [
      " 28%|███████████▍                             | 2223/8000 [15:42<50:15,  1.92it/s]"
     ]
    },
    {
     "name": "stdout",
     "output_type": "stream",
     "text": [
      "  ➤ Predicted: 0.1531, Target: 0.0, Loss: 0.6290\n"
     ]
    },
    {
     "name": "stderr",
     "output_type": "stream",
     "text": [
      " 28%|██████████▉                            | 2243/8000 [15:58<1:24:09,  1.14it/s]"
     ]
    },
    {
     "name": "stdout",
     "output_type": "stream",
     "text": [
      "  ➤ Predicted: 0.6789, Target: 0.0, Loss: 0.6267\n"
     ]
    },
    {
     "name": "stderr",
     "output_type": "stream",
     "text": [
      " 28%|██████████▉                            | 2253/8000 [16:05<1:26:29,  1.11it/s]"
     ]
    },
    {
     "name": "stdout",
     "output_type": "stream",
     "text": [
      "  ➤ Predicted: 0.3924, Target: 1.0, Loss: 0.6276\n"
     ]
    },
    {
     "name": "stderr",
     "output_type": "stream",
     "text": [
      " 28%|███████████                            | 2265/8000 [16:16<1:05:20,  1.46it/s]"
     ]
    },
    {
     "name": "stdout",
     "output_type": "stream",
     "text": [
      "  ➤ Predicted: 0.4353, Target: 0.0, Loss: 0.6285\n"
     ]
    },
    {
     "name": "stderr",
     "output_type": "stream",
     "text": [
      " 28%|███████████▋                             | 2273/8000 [16:21<58:19,  1.64it/s]"
     ]
    },
    {
     "name": "stdout",
     "output_type": "stream",
     "text": [
      "  ➤ Predicted: 0.7550, Target: 1.0, Loss: 0.6274\n"
     ]
    },
    {
     "name": "stderr",
     "output_type": "stream",
     "text": [
      " 29%|███████████▏                           | 2283/8000 [16:29<1:24:34,  1.13it/s]"
     ]
    },
    {
     "name": "stdout",
     "output_type": "stream",
     "text": [
      "  ➤ Predicted: 0.3900, Target: 0.0, Loss: 0.6293\n"
     ]
    },
    {
     "name": "stderr",
     "output_type": "stream",
     "text": [
      " 29%|███████████▏                           | 2293/8000 [16:37<1:27:25,  1.09it/s]"
     ]
    },
    {
     "name": "stdout",
     "output_type": "stream",
     "text": [
      "  ➤ Predicted: 0.6116, Target: 1.0, Loss: 0.6320\n"
     ]
    },
    {
     "name": "stderr",
     "output_type": "stream",
     "text": [
      " 29%|███████████▏                           | 2303/8000 [16:45<1:27:39,  1.08it/s]"
     ]
    },
    {
     "name": "stdout",
     "output_type": "stream",
     "text": [
      "  ➤ Predicted: 0.1088, Target: 0.0, Loss: 0.6310\n"
     ]
    },
    {
     "name": "stderr",
     "output_type": "stream",
     "text": [
      " 29%|███████████▎                           | 2313/8000 [16:54<1:32:18,  1.03it/s]"
     ]
    },
    {
     "name": "stdout",
     "output_type": "stream",
     "text": [
      "  ➤ Predicted: 0.5810, Target: 1.0, Loss: 0.6325\n"
     ]
    },
    {
     "name": "stderr",
     "output_type": "stream",
     "text": [
      " 30%|███████████▌                           | 2373/8000 [17:34<1:05:52,  1.42it/s]"
     ]
    },
    {
     "name": "stdout",
     "output_type": "stream",
     "text": [
      "  ➤ Predicted: 0.6938, Target: 1.0, Loss: 0.6357\n"
     ]
    },
    {
     "name": "stderr",
     "output_type": "stream",
     "text": [
      " 30%|████████████▏                            | 2385/8000 [17:39<34:11,  2.74it/s]"
     ]
    },
    {
     "name": "stdout",
     "output_type": "stream",
     "text": [
      "  ➤ Predicted: 0.3924, Target: 1.0, Loss: 0.6353\n"
     ]
    },
    {
     "name": "stderr",
     "output_type": "stream",
     "text": [
      " 30%|███████████▋                           | 2403/8000 [17:50<1:09:13,  1.35it/s]"
     ]
    },
    {
     "name": "stdout",
     "output_type": "stream",
     "text": [
      "  ➤ Predicted: 0.5017, Target: 1.0, Loss: 0.6370\n"
     ]
    },
    {
     "name": "stderr",
     "output_type": "stream",
     "text": [
      " 30%|████████████▍                            | 2415/8000 [17:57<39:05,  2.38it/s]"
     ]
    },
    {
     "name": "stdout",
     "output_type": "stream",
     "text": [
      "  ➤ Predicted: 0.5077, Target: 1.0, Loss: 0.6354\n"
     ]
    },
    {
     "name": "stderr",
     "output_type": "stream",
     "text": [
      " 30%|████████████▍                            | 2433/8000 [18:05<39:17,  2.36it/s]"
     ]
    },
    {
     "name": "stdout",
     "output_type": "stream",
     "text": [
      "  ➤ Predicted: 0.4754, Target: 1.0, Loss: 0.6325\n"
     ]
    },
    {
     "name": "stderr",
     "output_type": "stream",
     "text": [
      " 31%|████████████▋                            | 2476/8000 [18:15<17:43,  5.20it/s]"
     ]
    },
    {
     "name": "stdout",
     "output_type": "stream",
     "text": [
      "  ➤ Predicted: 0.6596, Target: 0.0, Loss: 0.6290\n"
     ]
    },
    {
     "name": "stderr",
     "output_type": "stream",
     "text": [
      " 31%|████████████▊                            | 2495/8000 [18:24<38:25,  2.39it/s]"
     ]
    },
    {
     "name": "stdout",
     "output_type": "stream",
     "text": [
      "  ➤ Predicted: 0.2835, Target: 0.0, Loss: 0.6290\n"
     ]
    },
    {
     "name": "stderr",
     "output_type": "stream",
     "text": [
      " 31%|████████████▊                            | 2503/8000 [18:25<27:21,  3.35it/s]"
     ]
    },
    {
     "name": "stdout",
     "output_type": "stream",
     "text": [
      "  ➤ Predicted: 0.4735, Target: 1.0, Loss: 0.6285\n"
     ]
    },
    {
     "name": "stderr",
     "output_type": "stream",
     "text": [
      " 32%|████████████▉                            | 2523/8000 [18:33<46:07,  1.98it/s]"
     ]
    },
    {
     "name": "stdout",
     "output_type": "stream",
     "text": [
      "  ➤ Predicted: 0.6089, Target: 1.0, Loss: 0.6295\n"
     ]
    },
    {
     "name": "stderr",
     "output_type": "stream",
     "text": [
      " 32%|████████████▎                          | 2533/8000 [18:42<1:32:48,  1.02s/it]"
     ]
    },
    {
     "name": "stdout",
     "output_type": "stream",
     "text": [
      "  ➤ Predicted: 0.7595, Target: 1.0, Loss: 0.6295\n"
     ]
    },
    {
     "name": "stderr",
     "output_type": "stream",
     "text": [
      " 32%|█████████████                            | 2545/8000 [18:50<46:32,  1.95it/s]"
     ]
    },
    {
     "name": "stdout",
     "output_type": "stream",
     "text": [
      "  ➤ Predicted: 0.6951, Target: 1.0, Loss: 0.6316\n"
     ]
    },
    {
     "name": "stderr",
     "output_type": "stream",
     "text": [
      " 32%|█████████████▏                           | 2563/8000 [19:01<57:54,  1.56it/s]"
     ]
    },
    {
     "name": "stdout",
     "output_type": "stream",
     "text": [
      "  ➤ Predicted: 0.6997, Target: 1.0, Loss: 0.6314\n"
     ]
    },
    {
     "name": "stderr",
     "output_type": "stream",
     "text": [
      " 32%|████████████▌                          | 2583/8000 [19:22<1:53:44,  1.26s/it]"
     ]
    },
    {
     "name": "stdout",
     "output_type": "stream",
     "text": [
      "  ➤ Predicted: 0.4485, Target: 1.0, Loss: 0.6321\n"
     ]
    },
    {
     "name": "stderr",
     "output_type": "stream",
     "text": [
      " 33%|█████████████▎                           | 2603/8000 [19:32<43:11,  2.08it/s]"
     ]
    },
    {
     "name": "stdout",
     "output_type": "stream",
     "text": [
      "  ➤ Predicted: 0.5842, Target: 1.0, Loss: 0.6342\n"
     ]
    },
    {
     "name": "stderr",
     "output_type": "stream",
     "text": [
      " 33%|████████████▋                          | 2613/8000 [19:41<1:20:54,  1.11it/s]"
     ]
    },
    {
     "name": "stdout",
     "output_type": "stream",
     "text": [
      "  ➤ Predicted: 0.7490, Target: 1.0, Loss: 0.6341\n"
     ]
    },
    {
     "name": "stderr",
     "output_type": "stream",
     "text": [
      " 33%|█████████████▋                           | 2665/8000 [19:57<33:24,  2.66it/s]"
     ]
    },
    {
     "name": "stdout",
     "output_type": "stream",
     "text": [
      "  ➤ Predicted: 0.5077, Target: 1.0, Loss: 0.6318\n"
     ]
    },
    {
     "name": "stderr",
     "output_type": "stream",
     "text": [
      " 34%|█████████████▊                           | 2683/8000 [20:06<37:31,  2.36it/s]"
     ]
    },
    {
     "name": "stdout",
     "output_type": "stream",
     "text": [
      "  ➤ Predicted: 0.3936, Target: 0.0, Loss: 0.6326\n"
     ]
    },
    {
     "name": "stderr",
     "output_type": "stream",
     "text": [
      " 34%|█████████████▊                           | 2693/8000 [20:12<57:52,  1.53it/s]"
     ]
    },
    {
     "name": "stdout",
     "output_type": "stream",
     "text": [
      "  ➤ Predicted: 0.7824, Target: 1.0, Loss: 0.6317\n"
     ]
    },
    {
     "name": "stderr",
     "output_type": "stream",
     "text": [
      " 34%|█████████████▏                         | 2703/8000 [20:19<1:07:36,  1.31it/s]"
     ]
    },
    {
     "name": "stdout",
     "output_type": "stream",
     "text": [
      "  ➤ Predicted: 0.4141, Target: 0.0, Loss: 0.6313\n"
     ]
    },
    {
     "name": "stderr",
     "output_type": "stream",
     "text": [
      " 34%|█████████████▏                         | 2713/8000 [20:26<1:02:05,  1.42it/s]"
     ]
    },
    {
     "name": "stdout",
     "output_type": "stream",
     "text": [
      "  ➤ Predicted: 0.2963, Target: 0.0, Loss: 0.6323\n"
     ]
    },
    {
     "name": "stderr",
     "output_type": "stream",
     "text": [
      " 34%|█████████████▎                         | 2723/8000 [20:35<1:29:22,  1.02s/it]"
     ]
    },
    {
     "name": "stdout",
     "output_type": "stream",
     "text": [
      "  ➤ Predicted: 0.8017, Target: 1.0, Loss: 0.6333\n"
     ]
    },
    {
     "name": "stderr",
     "output_type": "stream",
     "text": [
      " 34%|██████████████                           | 2744/8000 [20:46<33:57,  2.58it/s]"
     ]
    },
    {
     "name": "stdout",
     "output_type": "stream",
     "text": [
      "  ➤ Predicted: 0.5599, Target: 0.0, Loss: 0.6327\n"
     ]
    },
    {
     "name": "stderr",
     "output_type": "stream",
     "text": [
      " 35%|██████████████▎                          | 2785/8000 [21:02<37:47,  2.30it/s]"
     ]
    },
    {
     "name": "stdout",
     "output_type": "stream",
     "text": [
      "  ➤ Predicted: 0.6229, Target: 1.0, Loss: 0.6309\n"
     ]
    },
    {
     "name": "stderr",
     "output_type": "stream",
     "text": [
      " 35%|██████████████▎                          | 2803/8000 [21:11<52:14,  1.66it/s]"
     ]
    },
    {
     "name": "stdout",
     "output_type": "stream",
     "text": [
      "  ➤ Predicted: 0.6019, Target: 0.0, Loss: 0.6301\n"
     ]
    },
    {
     "name": "stderr",
     "output_type": "stream",
     "text": [
      " 36%|██████████████▋                          | 2854/8000 [21:38<27:21,  3.14it/s]"
     ]
    },
    {
     "name": "stdout",
     "output_type": "stream",
     "text": [
      "  ➤ Predicted: 0.6815, Target: 0.0, Loss: 0.6327\n"
     ]
    },
    {
     "name": "stderr",
     "output_type": "stream",
     "text": [
      " 36%|█████████████▉                         | 2863/8000 [21:45<1:12:07,  1.19it/s]"
     ]
    },
    {
     "name": "stdout",
     "output_type": "stream",
     "text": [
      "  ➤ Predicted: 0.6948, Target: 1.0, Loss: 0.6338\n"
     ]
    },
    {
     "name": "stderr",
     "output_type": "stream",
     "text": [
      " 36%|██████████████                         | 2873/8000 [21:54<1:20:42,  1.06it/s]"
     ]
    },
    {
     "name": "stdout",
     "output_type": "stream",
     "text": [
      "  ➤ Predicted: 0.3396, Target: 1.0, Loss: 0.6340\n"
     ]
    },
    {
     "name": "stderr",
     "output_type": "stream",
     "text": [
      " 36%|██████████████▊                          | 2883/8000 [21:59<48:45,  1.75it/s]"
     ]
    },
    {
     "name": "stdout",
     "output_type": "stream",
     "text": [
      "  ➤ Predicted: 0.5702, Target: 0.0, Loss: 0.6332\n"
     ]
    },
    {
     "name": "stderr",
     "output_type": "stream",
     "text": [
      " 36%|██████████████                         | 2893/8000 [22:05<1:00:21,  1.41it/s]"
     ]
    },
    {
     "name": "stdout",
     "output_type": "stream",
     "text": [
      "  ➤ Predicted: 0.4711, Target: 0.0, Loss: 0.6331\n"
     ]
    },
    {
     "name": "stderr",
     "output_type": "stream",
     "text": [
      " 36%|██████████████▏                        | 2913/8000 [22:21<1:04:17,  1.32it/s]"
     ]
    },
    {
     "name": "stdout",
     "output_type": "stream",
     "text": [
      "  ➤ Predicted: 0.6112, Target: 1.0, Loss: 0.6341\n"
     ]
    },
    {
     "name": "stderr",
     "output_type": "stream",
     "text": [
      " 37%|██████████████▏                        | 2923/8000 [22:29<1:05:27,  1.29it/s]"
     ]
    },
    {
     "name": "stdout",
     "output_type": "stream",
     "text": [
      "  ➤ Predicted: 0.6387, Target: 0.0, Loss: 0.6348\n"
     ]
    },
    {
     "name": "stderr",
     "output_type": "stream",
     "text": [
      " 38%|███████████████▌                         | 3032/8000 [22:42<11:38,  7.12it/s]"
     ]
    },
    {
     "name": "stdout",
     "output_type": "stream",
     "text": [
      "  ➤ Predicted: 0.4438, Target: 1.0, Loss: 0.6343\n"
     ]
    },
    {
     "name": "stderr",
     "output_type": "stream",
     "text": [
      " 38%|███████████████▋                         | 3053/8000 [22:52<50:19,  1.64it/s]"
     ]
    },
    {
     "name": "stdout",
     "output_type": "stream",
     "text": [
      "  ➤ Predicted: 0.6608, Target: 0.0, Loss: 0.6350\n"
     ]
    },
    {
     "name": "stderr",
     "output_type": "stream",
     "text": [
      " 38%|███████████████▋                         | 3066/8000 [22:56<22:24,  3.67it/s]"
     ]
    },
    {
     "name": "stdout",
     "output_type": "stream",
     "text": [
      "  ➤ Predicted: 0.4411, Target: 0.0, Loss: 0.6350\n"
     ]
    },
    {
     "name": "stderr",
     "output_type": "stream",
     "text": [
      " 38%|███████████████▊                         | 3078/8000 [23:04<26:02,  3.15it/s]"
     ]
    },
    {
     "name": "stdout",
     "output_type": "stream",
     "text": [
      "Error on sample 15655: NaN in input\n"
     ]
    },
    {
     "name": "stderr",
     "output_type": "stream",
     "text": [
      " 39%|███████████████▊                         | 3093/8000 [23:09<33:00,  2.48it/s]"
     ]
    },
    {
     "name": "stdout",
     "output_type": "stream",
     "text": [
      "  ➤ Predicted: 0.5556, Target: 0.0, Loss: 0.6326\n"
     ]
    },
    {
     "name": "stderr",
     "output_type": "stream",
     "text": [
      " 39%|███████████████▉                         | 3103/8000 [23:14<45:44,  1.78it/s]"
     ]
    },
    {
     "name": "stdout",
     "output_type": "stream",
     "text": [
      "  ➤ Predicted: 0.7490, Target: 1.0, Loss: 0.6339\n"
     ]
    },
    {
     "name": "stderr",
     "output_type": "stream",
     "text": [
      " 39%|███████████████▏                       | 3113/8000 [23:23<1:25:39,  1.05s/it]"
     ]
    },
    {
     "name": "stdout",
     "output_type": "stream",
     "text": [
      "  ➤ Predicted: 0.3945, Target: 0.0, Loss: 0.6352\n"
     ]
    },
    {
     "name": "stderr",
     "output_type": "stream",
     "text": [
      " 39%|███████████████▎                       | 3133/8000 [23:38<1:10:44,  1.15it/s]"
     ]
    },
    {
     "name": "stdout",
     "output_type": "stream",
     "text": [
      "  ➤ Predicted: 0.3950, Target: 0.0, Loss: 0.6344\n"
     ]
    },
    {
     "name": "stderr",
     "output_type": "stream",
     "text": [
      " 39%|███████████████▎                       | 3143/8000 [23:46<1:06:58,  1.21it/s]"
     ]
    },
    {
     "name": "stdout",
     "output_type": "stream",
     "text": [
      "  ➤ Predicted: 0.1132, Target: 0.0, Loss: 0.6350\n"
     ]
    },
    {
     "name": "stderr",
     "output_type": "stream",
     "text": [
      " 39%|███████████████▎                       | 3153/8000 [23:54<1:09:51,  1.16it/s]"
     ]
    },
    {
     "name": "stdout",
     "output_type": "stream",
     "text": [
      "  ➤ Predicted: 0.3732, Target: 1.0, Loss: 0.6356\n"
     ]
    },
    {
     "name": "stderr",
     "output_type": "stream",
     "text": [
      " 40%|████████████████▎                        | 3183/8000 [24:09<38:31,  2.08it/s]"
     ]
    },
    {
     "name": "stdout",
     "output_type": "stream",
     "text": [
      "  ➤ Predicted: 0.6425, Target: 0.0, Loss: 0.6380\n"
     ]
    },
    {
     "name": "stderr",
     "output_type": "stream",
     "text": [
      " 40%|████████████████▍                        | 3215/8000 [24:31<42:54,  1.86it/s]"
     ]
    },
    {
     "name": "stdout",
     "output_type": "stream",
     "text": [
      "  ➤ Predicted: 0.7989, Target: 1.0, Loss: 0.6364\n"
     ]
    },
    {
     "name": "stderr",
     "output_type": "stream",
     "text": [
      " 40%|████████████████▌                        | 3233/8000 [24:42<55:23,  1.43it/s]"
     ]
    },
    {
     "name": "stdout",
     "output_type": "stream",
     "text": [
      "  ➤ Predicted: 0.2970, Target: 0.0, Loss: 0.6377\n"
     ]
    },
    {
     "name": "stderr",
     "output_type": "stream",
     "text": [
      " 41%|████████████████▌                        | 3243/8000 [24:51<57:24,  1.38it/s]"
     ]
    },
    {
     "name": "stdout",
     "output_type": "stream",
     "text": [
      "  ➤ Predicted: 0.7966, Target: 1.0, Loss: 0.6383\n"
     ]
    },
    {
     "name": "stderr",
     "output_type": "stream",
     "text": [
      " 41%|███████████████▊                       | 3253/8000 [25:01<1:21:36,  1.03s/it]"
     ]
    },
    {
     "name": "stdout",
     "output_type": "stream",
     "text": [
      "  ➤ Predicted: 0.6536, Target: 1.0, Loss: 0.6397\n"
     ]
    },
    {
     "name": "stderr",
     "output_type": "stream",
     "text": [
      " 41%|████████████████▋                        | 3263/8000 [25:06<55:28,  1.42it/s]"
     ]
    },
    {
     "name": "stdout",
     "output_type": "stream",
     "text": [
      "  ➤ Predicted: 0.4234, Target: 0.0, Loss: 0.6390\n"
     ]
    },
    {
     "name": "stderr",
     "output_type": "stream",
     "text": [
      " 41%|████████████████▊                        | 3283/8000 [25:16<53:07,  1.48it/s]"
     ]
    },
    {
     "name": "stdout",
     "output_type": "stream",
     "text": [
      "  ➤ Predicted: 0.6019, Target: 0.0, Loss: 0.6378\n"
     ]
    },
    {
     "name": "stderr",
     "output_type": "stream",
     "text": [
      " 41%|████████████████▊                        | 3292/8000 [25:19<18:09,  4.32it/s]"
     ]
    },
    {
     "name": "stdout",
     "output_type": "stream",
     "text": [
      "  ➤ Predicted: 0.6959, Target: 1.0, Loss: 0.6379\n"
     ]
    },
    {
     "name": "stderr",
     "output_type": "stream",
     "text": [
      " 41%|████████████████▉                        | 3298/8000 [25:22<32:57,  2.38it/s]"
     ]
    },
    {
     "name": "stdout",
     "output_type": "stream",
     "text": [
      "Error on sample 15875: NaN in input\n"
     ]
    },
    {
     "name": "stderr",
     "output_type": "stream",
     "text": [
      " 41%|████████████████                       | 3303/8000 [25:27<1:13:00,  1.07it/s]"
     ]
    },
    {
     "name": "stdout",
     "output_type": "stream",
     "text": [
      "  ➤ Predicted: 0.7500, Target: 0.0, Loss: 0.6369\n"
     ]
    },
    {
     "name": "stderr",
     "output_type": "stream",
     "text": [
      " 41%|████████████████▉                        | 3312/8000 [25:31<35:58,  2.17it/s]"
     ]
    },
    {
     "name": "stdout",
     "output_type": "stream",
     "text": [
      "Error on sample 15889: NaN in input\n"
     ]
    },
    {
     "name": "stderr",
     "output_type": "stream",
     "text": [
      " 42%|█████████████████                        | 3335/8000 [25:43<36:09,  2.15it/s]"
     ]
    },
    {
     "name": "stdout",
     "output_type": "stream",
     "text": [
      "  ➤ Predicted: 0.6001, Target: 0.0, Loss: 0.6376\n",
      "Error on sample 15911: NaN in input\n"
     ]
    },
    {
     "name": "stderr",
     "output_type": "stream",
     "text": [
      " 42%|█████████████████▏                       | 3343/8000 [25:49<52:24,  1.48it/s]"
     ]
    },
    {
     "name": "stdout",
     "output_type": "stream",
     "text": [
      "  ➤ Predicted: 0.4895, Target: 0.0, Loss: 0.6381\n"
     ]
    },
    {
     "name": "stderr",
     "output_type": "stream",
     "text": [
      " 42%|████████████████▎                      | 3353/8000 [25:58<1:17:28,  1.00s/it]"
     ]
    },
    {
     "name": "stdout",
     "output_type": "stream",
     "text": [
      "  ➤ Predicted: 0.5630, Target: 1.0, Loss: 0.6389\n"
     ]
    },
    {
     "name": "stderr",
     "output_type": "stream",
     "text": [
      " 42%|█████████████████▎                       | 3373/8000 [26:09<27:07,  2.84it/s]"
     ]
    },
    {
     "name": "stdout",
     "output_type": "stream",
     "text": [
      "  ➤ Predicted: 0.3715, Target: 0.0, Loss: 0.6387\n"
     ]
    },
    {
     "name": "stderr",
     "output_type": "stream",
     "text": [
      " 42%|█████████████████▎                       | 3383/8000 [26:16<45:14,  1.70it/s]"
     ]
    },
    {
     "name": "stdout",
     "output_type": "stream",
     "text": [
      "  ➤ Predicted: 0.3606, Target: 1.0, Loss: 0.6394\n"
     ]
    },
    {
     "name": "stderr",
     "output_type": "stream",
     "text": [
      " 42%|█████████████████▍                       | 3393/8000 [26:24<56:19,  1.36it/s]"
     ]
    },
    {
     "name": "stdout",
     "output_type": "stream",
     "text": [
      "  ➤ Predicted: 0.8240, Target: 1.0, Loss: 0.6394\n"
     ]
    },
    {
     "name": "stderr",
     "output_type": "stream",
     "text": [
      " 43%|████████████████▋                      | 3433/8000 [26:50<1:01:42,  1.23it/s]"
     ]
    },
    {
     "name": "stdout",
     "output_type": "stream",
     "text": [
      "  ➤ Predicted: 0.5390, Target: 0.0, Loss: 0.6375\n"
     ]
    },
    {
     "name": "stderr",
     "output_type": "stream",
     "text": [
      " 43%|█████████████████▋                       | 3453/8000 [26:58<32:54,  2.30it/s]"
     ]
    },
    {
     "name": "stdout",
     "output_type": "stream",
     "text": [
      "  ➤ Predicted: 0.6340, Target: 1.0, Loss: 0.6372\n"
     ]
    },
    {
     "name": "stderr",
     "output_type": "stream",
     "text": [
      " 44%|█████████████████▉                       | 3505/8000 [27:27<25:56,  2.89it/s]"
     ]
    },
    {
     "name": "stdout",
     "output_type": "stream",
     "text": [
      "  ➤ Predicted: 0.5822, Target: 1.0, Loss: 0.6386\n"
     ]
    },
    {
     "name": "stderr",
     "output_type": "stream",
     "text": [
      " 44%|█████████████████▎                     | 3553/8000 [28:03<1:05:34,  1.13it/s]"
     ]
    },
    {
     "name": "stdout",
     "output_type": "stream",
     "text": [
      "  ➤ Predicted: 0.4353, Target: 0.0, Loss: 0.6377\n"
     ]
    },
    {
     "name": "stderr",
     "output_type": "stream",
     "text": [
      " 45%|██████████████████▎                      | 3575/8000 [28:22<39:56,  1.85it/s]"
     ]
    },
    {
     "name": "stdout",
     "output_type": "stream",
     "text": [
      "  ➤ Predicted: 0.4421, Target: 1.0, Loss: 0.6396\n"
     ]
    },
    {
     "name": "stderr",
     "output_type": "stream",
     "text": [
      " 45%|██████████████████▍                      | 3594/8000 [28:31<28:54,  2.54it/s]"
     ]
    },
    {
     "name": "stdout",
     "output_type": "stream",
     "text": [
      "  ➤ Predicted: 0.3916, Target: 0.0, Loss: 0.6395\n"
     ]
    },
    {
     "name": "stderr",
     "output_type": "stream",
     "text": [
      " 45%|█████████████████▌                     | 3603/8000 [28:38<1:01:55,  1.18it/s]"
     ]
    },
    {
     "name": "stdout",
     "output_type": "stream",
     "text": [
      "  ➤ Predicted: 0.5072, Target: 1.0, Loss: 0.6402\n"
     ]
    },
    {
     "name": "stderr",
     "output_type": "stream",
     "text": [
      " 45%|█████████████████▌                     | 3613/8000 [28:45<1:06:23,  1.10it/s]"
     ]
    },
    {
     "name": "stdout",
     "output_type": "stream",
     "text": [
      "  ➤ Predicted: 0.6500, Target: 1.0, Loss: 0.6410\n"
     ]
    },
    {
     "name": "stderr",
     "output_type": "stream",
     "text": [
      " 45%|█████████████████▋                     | 3623/8000 [28:56<1:19:26,  1.09s/it]"
     ]
    },
    {
     "name": "stdout",
     "output_type": "stream",
     "text": [
      "  ➤ Predicted: 0.1448, Target: 0.0, Loss: 0.6414\n"
     ]
    },
    {
     "name": "stderr",
     "output_type": "stream",
     "text": [
      " 45%|██████████████████▌                      | 3633/8000 [29:02<33:57,  2.14it/s]"
     ]
    },
    {
     "name": "stdout",
     "output_type": "stream",
     "text": [
      "  ➤ Predicted: 0.4600, Target: 0.0, Loss: 0.6418\n"
     ]
    },
    {
     "name": "stderr",
     "output_type": "stream",
     "text": [
      " 46%|██████████████████▋                      | 3643/8000 [29:07<46:22,  1.57it/s]"
     ]
    },
    {
     "name": "stdout",
     "output_type": "stream",
     "text": [
      "  ➤ Predicted: 0.3335, Target: 0.0, Loss: 0.6429\n"
     ]
    },
    {
     "name": "stderr",
     "output_type": "stream",
     "text": [
      " 46%|██████████████████▊                      | 3665/8000 [29:16<31:15,  2.31it/s]"
     ]
    },
    {
     "name": "stdout",
     "output_type": "stream",
     "text": [
      "  ➤ Predicted: 0.5134, Target: 0.0, Loss: 0.6422\n"
     ]
    },
    {
     "name": "stderr",
     "output_type": "stream",
     "text": [
      " 46%|██████████████████▊                      | 3673/8000 [29:20<36:37,  1.97it/s]"
     ]
    },
    {
     "name": "stdout",
     "output_type": "stream",
     "text": [
      "  ➤ Predicted: 0.7684, Target: 1.0, Loss: 0.6428\n"
     ]
    },
    {
     "name": "stderr",
     "output_type": "stream",
     "text": [
      " 46%|██████████████████▉                      | 3703/8000 [29:34<22:25,  3.19it/s]"
     ]
    },
    {
     "name": "stdout",
     "output_type": "stream",
     "text": [
      "  ➤ Predicted: 0.4312, Target: 1.0, Loss: 0.6424\n"
     ]
    },
    {
     "name": "stderr",
     "output_type": "stream",
     "text": [
      " 46%|███████████████████                      | 3715/8000 [29:40<28:27,  2.51it/s]"
     ]
    },
    {
     "name": "stdout",
     "output_type": "stream",
     "text": [
      "  ➤ Predicted: 0.1780, Target: 0.0, Loss: 0.6423\n"
     ]
    },
    {
     "name": "stderr",
     "output_type": "stream",
     "text": [
      " 47%|███████████████████                      | 3723/8000 [29:45<44:59,  1.58it/s]"
     ]
    },
    {
     "name": "stdout",
     "output_type": "stream",
     "text": [
      "  ➤ Predicted: 0.3661, Target: 0.0, Loss: 0.6420\n"
     ]
    },
    {
     "name": "stderr",
     "output_type": "stream",
     "text": [
      " 47%|███████████████████▏                     | 3733/8000 [29:50<43:39,  1.63it/s]"
     ]
    },
    {
     "name": "stdout",
     "output_type": "stream",
     "text": [
      "  ➤ Predicted: 0.4071, Target: 0.0, Loss: 0.6422\n"
     ]
    },
    {
     "name": "stderr",
     "output_type": "stream",
     "text": [
      " 47%|███████████████████▏                     | 3743/8000 [29:55<36:37,  1.94it/s]"
     ]
    },
    {
     "name": "stdout",
     "output_type": "stream",
     "text": [
      "  ➤ Predicted: 0.7113, Target: 1.0, Loss: 0.6425\n"
     ]
    },
    {
     "name": "stderr",
     "output_type": "stream",
     "text": [
      " 47%|███████████████████▏                     | 3755/8000 [30:03<32:28,  2.18it/s]"
     ]
    },
    {
     "name": "stdout",
     "output_type": "stream",
     "text": [
      "  ➤ Predicted: 0.1374, Target: 0.0, Loss: 0.6433\n"
     ]
    },
    {
     "name": "stderr",
     "output_type": "stream",
     "text": [
      " 47%|███████████████████▎                     | 3763/8000 [30:09<55:27,  1.27it/s]"
     ]
    },
    {
     "name": "stdout",
     "output_type": "stream",
     "text": [
      "  ➤ Predicted: 0.6790, Target: 0.0, Loss: 0.6423\n"
     ]
    },
    {
     "name": "stderr",
     "output_type": "stream",
     "text": [
      " 47%|███████████████████▍                     | 3783/8000 [30:21<39:18,  1.79it/s]"
     ]
    },
    {
     "name": "stdout",
     "output_type": "stream",
     "text": [
      "  ➤ Predicted: 0.6161, Target: 1.0, Loss: 0.6420\n"
     ]
    },
    {
     "name": "stderr",
     "output_type": "stream",
     "text": [
      " 47%|███████████████████▍                     | 3793/8000 [30:29<46:04,  1.52it/s]"
     ]
    },
    {
     "name": "stdout",
     "output_type": "stream",
     "text": [
      "  ➤ Predicted: 0.0538, Target: 0.0, Loss: 0.6429\n"
     ]
    },
    {
     "name": "stderr",
     "output_type": "stream",
     "text": [
      " 48%|██████████████████▌                    | 3803/8000 [30:39<1:14:48,  1.07s/it]"
     ]
    },
    {
     "name": "stdout",
     "output_type": "stream",
     "text": [
      "  ➤ Predicted: 0.7454, Target: 0.0, Loss: 0.6435\n"
     ]
    },
    {
     "name": "stderr",
     "output_type": "stream",
     "text": [
      " 48%|███████████████████▌                     | 3815/8000 [30:46<28:56,  2.41it/s]"
     ]
    },
    {
     "name": "stdout",
     "output_type": "stream",
     "text": [
      "  ➤ Predicted: 0.3366, Target: 0.0, Loss: 0.6431\n"
     ]
    },
    {
     "name": "stderr",
     "output_type": "stream",
     "text": [
      " 48%|███████████████████▋                     | 3833/8000 [30:54<30:03,  2.31it/s]"
     ]
    },
    {
     "name": "stdout",
     "output_type": "stream",
     "text": [
      "  ➤ Predicted: 0.7322, Target: 1.0, Loss: 0.6426\n"
     ]
    },
    {
     "name": "stderr",
     "output_type": "stream",
     "text": [
      " 48%|███████████████████▋                     | 3848/8000 [31:00<22:59,  3.01it/s]"
     ]
    },
    {
     "name": "stdout",
     "output_type": "stream",
     "text": [
      "Error on sample 16425: NaN in input\n"
     ]
    },
    {
     "name": "stderr",
     "output_type": "stream",
     "text": [
      " 48%|██████████████████▊                    | 3853/8000 [31:07<1:23:52,  1.21s/it]"
     ]
    },
    {
     "name": "stdout",
     "output_type": "stream",
     "text": [
      "  ➤ Predicted: 0.8055, Target: 0.0, Loss: 0.6425\n"
     ]
    },
    {
     "name": "stderr",
     "output_type": "stream",
     "text": [
      " 48%|███████████████████▊                     | 3865/8000 [31:16<42:40,  1.62it/s]"
     ]
    },
    {
     "name": "stdout",
     "output_type": "stream",
     "text": [
      "  ➤ Predicted: 0.5527, Target: 1.0, Loss: 0.6430\n"
     ]
    },
    {
     "name": "stderr",
     "output_type": "stream",
     "text": [
      " 49%|███████████████████▉                     | 3883/8000 [31:22<38:49,  1.77it/s]"
     ]
    },
    {
     "name": "stdout",
     "output_type": "stream",
     "text": [
      "  ➤ Predicted: 0.7169, Target: 1.0, Loss: 0.6423\n"
     ]
    },
    {
     "name": "stderr",
     "output_type": "stream",
     "text": [
      " 49%|██████████████████▉                    | 3893/8000 [31:32<1:06:22,  1.03it/s]"
     ]
    },
    {
     "name": "stdout",
     "output_type": "stream",
     "text": [
      "  ➤ Predicted: 0.9503, Target: 1.0, Loss: 0.6422\n"
     ]
    },
    {
     "name": "stderr",
     "output_type": "stream",
     "text": [
      " 49%|████████████████████                     | 3903/8000 [31:37<38:05,  1.79it/s]"
     ]
    },
    {
     "name": "stdout",
     "output_type": "stream",
     "text": [
      "  ➤ Predicted: 0.5133, Target: 0.0, Loss: 0.6427\n"
     ]
    },
    {
     "name": "stderr",
     "output_type": "stream",
     "text": [
      " 49%|████████████████████                     | 3925/8000 [31:56<42:18,  1.61it/s]"
     ]
    },
    {
     "name": "stdout",
     "output_type": "stream",
     "text": [
      "  ➤ Predicted: 0.9379, Target: 1.0, Loss: 0.6432\n"
     ]
    },
    {
     "name": "stderr",
     "output_type": "stream",
     "text": [
      " 49%|████████████████████▏                    | 3936/8000 [32:00<24:03,  2.82it/s]"
     ]
    },
    {
     "name": "stdout",
     "output_type": "stream",
     "text": [
      "  ➤ Predicted: 0.7149, Target: 0.0, Loss: 0.6433\n"
     ]
    },
    {
     "name": "stderr",
     "output_type": "stream",
     "text": [
      " 49%|████████████████████▎                    | 3954/8000 [32:07<30:46,  2.19it/s]"
     ]
    },
    {
     "name": "stdout",
     "output_type": "stream",
     "text": [
      "  ➤ Predicted: 0.5840, Target: 0.0, Loss: 0.6418\n"
     ]
    },
    {
     "name": "stderr",
     "output_type": "stream",
     "text": [
      " 50%|████████████████████▎                    | 3963/8000 [32:13<44:08,  1.52it/s]"
     ]
    },
    {
     "name": "stdout",
     "output_type": "stream",
     "text": [
      "  ➤ Predicted: 0.8251, Target: 1.0, Loss: 0.6417\n"
     ]
    },
    {
     "name": "stderr",
     "output_type": "stream",
     "text": [
      " 50%|████████████████████▋                    | 4025/8000 [32:45<36:01,  1.84it/s]"
     ]
    },
    {
     "name": "stdout",
     "output_type": "stream",
     "text": [
      "  ➤ Predicted: 0.5144, Target: 0.0, Loss: 0.6417\n"
     ]
    },
    {
     "name": "stderr",
     "output_type": "stream",
     "text": [
      " 50%|████████████████████▋                    | 4033/8000 [32:49<27:33,  2.40it/s]"
     ]
    },
    {
     "name": "stdout",
     "output_type": "stream",
     "text": [
      "  ➤ Predicted: 0.4487, Target: 0.0, Loss: 0.6417\n"
     ]
    },
    {
     "name": "stderr",
     "output_type": "stream",
     "text": [
      " 51%|████████████████████▊                    | 4073/8000 [33:13<57:22,  1.14it/s]"
     ]
    },
    {
     "name": "stdout",
     "output_type": "stream",
     "text": [
      "  ➤ Predicted: 0.5937, Target: 1.0, Loss: 0.6425\n"
     ]
    },
    {
     "name": "stderr",
     "output_type": "stream",
     "text": [
      " 51%|████████████████████▉                    | 4083/8000 [33:20<53:31,  1.22it/s]"
     ]
    },
    {
     "name": "stdout",
     "output_type": "stream",
     "text": [
      "  ➤ Predicted: 0.1797, Target: 0.0, Loss: 0.6426\n"
     ]
    },
    {
     "name": "stderr",
     "output_type": "stream",
     "text": [
      " 51%|███████████████████▉                   | 4093/8000 [33:29<1:08:36,  1.05s/it]"
     ]
    },
    {
     "name": "stdout",
     "output_type": "stream",
     "text": [
      "  ➤ Predicted: 0.8542, Target: 1.0, Loss: 0.6435\n"
     ]
    },
    {
     "name": "stderr",
     "output_type": "stream",
     "text": [
      " 53%|█████████████████████▋                   | 4233/8000 [33:56<18:25,  3.41it/s]"
     ]
    },
    {
     "name": "stdout",
     "output_type": "stream",
     "text": [
      "  ➤ Predicted: 0.2124, Target: 0.0, Loss: 0.6437\n"
     ]
    },
    {
     "name": "stderr",
     "output_type": "stream",
     "text": [
      " 53%|█████████████████████▊                   | 4253/8000 [34:06<31:01,  2.01it/s]"
     ]
    },
    {
     "name": "stdout",
     "output_type": "stream",
     "text": [
      "  ➤ Predicted: 0.5124, Target: 0.0, Loss: 0.6426\n"
     ]
    },
    {
     "name": "stderr",
     "output_type": "stream",
     "text": [
      " 55%|██████████████████████▎                  | 4363/8000 [34:52<41:26,  1.46it/s]"
     ]
    },
    {
     "name": "stdout",
     "output_type": "stream",
     "text": [
      "  ➤ Predicted: 0.2443, Target: 0.0, Loss: 0.6421\n"
     ]
    },
    {
     "name": "stderr",
     "output_type": "stream",
     "text": [
      " 55%|██████████████████████▌                  | 4393/8000 [35:17<58:38,  1.03it/s]"
     ]
    },
    {
     "name": "stdout",
     "output_type": "stream",
     "text": [
      "  ➤ Predicted: 0.6423, Target: 0.0, Loss: 0.6421\n"
     ]
    },
    {
     "name": "stderr",
     "output_type": "stream",
     "text": [
      " 55%|██████████████████████▋                  | 4415/8000 [35:32<25:24,  2.35it/s]"
     ]
    },
    {
     "name": "stdout",
     "output_type": "stream",
     "text": [
      "  ➤ Predicted: 0.8697, Target: 1.0, Loss: 0.6438\n"
     ]
    },
    {
     "name": "stderr",
     "output_type": "stream",
     "text": [
      " 55%|██████████████████████▋                  | 4425/8000 [35:40<34:51,  1.71it/s]"
     ]
    },
    {
     "name": "stdout",
     "output_type": "stream",
     "text": [
      "  ➤ Predicted: 0.3023, Target: 1.0, Loss: 0.6426\n"
     ]
    },
    {
     "name": "stderr",
     "output_type": "stream",
     "text": [
      " 55%|██████████████████████▋                  | 4433/8000 [35:44<25:41,  2.31it/s]"
     ]
    },
    {
     "name": "stdout",
     "output_type": "stream",
     "text": [
      "  ➤ Predicted: 0.4350, Target: 0.0, Loss: 0.6427\n"
     ]
    },
    {
     "name": "stderr",
     "output_type": "stream",
     "text": [
      " 56%|██████████████████████▊                  | 4455/8000 [35:54<24:09,  2.45it/s]"
     ]
    },
    {
     "name": "stdout",
     "output_type": "stream",
     "text": [
      "  ➤ Predicted: 0.5162, Target: 0.0, Loss: 0.6424\n"
     ]
    },
    {
     "name": "stderr",
     "output_type": "stream",
     "text": [
      " 56%|██████████████████████▊                  | 4463/8000 [36:00<38:52,  1.52it/s]"
     ]
    },
    {
     "name": "stdout",
     "output_type": "stream",
     "text": [
      "  ➤ Predicted: 0.5694, Target: 0.0, Loss: 0.6423\n"
     ]
    },
    {
     "name": "stderr",
     "output_type": "stream",
     "text": [
      " 56%|██████████████████████▉                  | 4473/8000 [36:08<49:23,  1.19it/s]"
     ]
    },
    {
     "name": "stdout",
     "output_type": "stream",
     "text": [
      "  ➤ Predicted: 0.5982, Target: 1.0, Loss: 0.6426\n"
     ]
    },
    {
     "name": "stderr",
     "output_type": "stream",
     "text": [
      " 56%|███████████████████████                  | 4503/8000 [36:28<42:48,  1.36it/s]"
     ]
    },
    {
     "name": "stdout",
     "output_type": "stream",
     "text": [
      "  ➤ Predicted: 0.6679, Target: 0.0, Loss: 0.6421\n"
     ]
    },
    {
     "name": "stderr",
     "output_type": "stream",
     "text": [
      " 57%|██████████████████████                 | 4523/8000 [36:46<1:03:58,  1.10s/it]"
     ]
    },
    {
     "name": "stdout",
     "output_type": "stream",
     "text": [
      "  ➤ Predicted: 0.9125, Target: 1.0, Loss: 0.6418\n"
     ]
    },
    {
     "name": "stderr",
     "output_type": "stream",
     "text": [
      " 57%|██████████████████████                 | 4533/8000 [36:57<1:07:54,  1.18s/it]"
     ]
    },
    {
     "name": "stdout",
     "output_type": "stream",
     "text": [
      "  ➤ Predicted: 0.4191, Target: 0.0, Loss: 0.6421\n"
     ]
    },
    {
     "name": "stderr",
     "output_type": "stream",
     "text": [
      " 57%|███████████████████████▎                 | 4553/8000 [37:16<50:29,  1.14it/s]"
     ]
    },
    {
     "name": "stdout",
     "output_type": "stream",
     "text": [
      "  ➤ Predicted: 0.3723, Target: 0.0, Loss: 0.6415\n"
     ]
    },
    {
     "name": "stderr",
     "output_type": "stream",
     "text": [
      " 57%|██████████████████████▎                | 4573/8000 [37:34<1:04:25,  1.13s/it]"
     ]
    },
    {
     "name": "stdout",
     "output_type": "stream",
     "text": [
      "  ➤ Predicted: 0.2497, Target: 0.0, Loss: 0.6426\n"
     ]
    },
    {
     "name": "stderr",
     "output_type": "stream",
     "text": [
      " 57%|██████████████████████▎                | 4583/8000 [37:45<1:07:46,  1.19s/it]"
     ]
    },
    {
     "name": "stdout",
     "output_type": "stream",
     "text": [
      "  ➤ Predicted: 0.3894, Target: 0.0, Loss: 0.6433\n"
     ]
    },
    {
     "name": "stderr",
     "output_type": "stream",
     "text": [
      " 57%|███████████████████████▌                 | 4595/8000 [37:51<27:57,  2.03it/s]"
     ]
    },
    {
     "name": "stdout",
     "output_type": "stream",
     "text": [
      "  ➤ Predicted: 0.6148, Target: 0.0, Loss: 0.6421\n"
     ]
    },
    {
     "name": "stderr",
     "output_type": "stream",
     "text": [
      " 58%|███████████████████████▌                 | 4603/8000 [37:57<37:08,  1.52it/s]"
     ]
    },
    {
     "name": "stdout",
     "output_type": "stream",
     "text": [
      "  ➤ Predicted: 0.5562, Target: 0.0, Loss: 0.6416\n"
     ]
    },
    {
     "name": "stderr",
     "output_type": "stream",
     "text": [
      " 58%|███████████████████████▋                 | 4632/8000 [38:09<20:03,  2.80it/s]"
     ]
    },
    {
     "name": "stdout",
     "output_type": "stream",
     "text": [
      "  ➤ Predicted: 0.3404, Target: 1.0, Loss: 0.6416\n"
     ]
    },
    {
     "name": "stderr",
     "output_type": "stream",
     "text": [
      " 58%|███████████████████████▉                 | 4673/8000 [38:32<28:23,  1.95it/s]"
     ]
    },
    {
     "name": "stdout",
     "output_type": "stream",
     "text": [
      "  ➤ Predicted: 0.5566, Target: 0.0, Loss: 0.6404\n"
     ]
    },
    {
     "name": "stderr",
     "output_type": "stream",
     "text": [
      " 59%|████████████████████████                 | 4685/8000 [38:38<22:43,  2.43it/s]"
     ]
    },
    {
     "name": "stdout",
     "output_type": "stream",
     "text": [
      "  ➤ Predicted: 0.6075, Target: 1.0, Loss: 0.6412\n"
     ]
    },
    {
     "name": "stderr",
     "output_type": "stream",
     "text": [
      " 59%|████████████████████████                 | 4703/8000 [38:54<58:53,  1.07s/it]"
     ]
    },
    {
     "name": "stdout",
     "output_type": "stream",
     "text": [
      "  ➤ Predicted: 0.7286, Target: 1.0, Loss: 0.6426\n"
     ]
    },
    {
     "name": "stderr",
     "output_type": "stream",
     "text": [
      " 59%|████████████████████████▏                | 4713/8000 [39:03<48:33,  1.13it/s]"
     ]
    },
    {
     "name": "stdout",
     "output_type": "stream",
     "text": [
      "  ➤ Predicted: 0.2862, Target: 1.0, Loss: 0.6425\n"
     ]
    },
    {
     "name": "stderr",
     "output_type": "stream",
     "text": [
      " 59%|████████████████████████▏                | 4723/8000 [39:11<45:31,  1.20it/s]"
     ]
    },
    {
     "name": "stdout",
     "output_type": "stream",
     "text": [
      "  ➤ Predicted: 0.3545, Target: 0.0, Loss: 0.6426\n"
     ]
    },
    {
     "name": "stderr",
     "output_type": "stream",
     "text": [
      " 59%|███████████████████████                | 4733/8000 [39:22<1:03:02,  1.16s/it]"
     ]
    },
    {
     "name": "stdout",
     "output_type": "stream",
     "text": [
      "  ➤ Predicted: 0.2804, Target: 0.0, Loss: 0.6418\n"
     ]
    },
    {
     "name": "stderr",
     "output_type": "stream",
     "text": [
      " 59%|████████████████████████▎                | 4743/8000 [39:33<51:52,  1.05it/s]"
     ]
    },
    {
     "name": "stdout",
     "output_type": "stream",
     "text": [
      "  ➤ Predicted: 0.8223, Target: 1.0, Loss: 0.6422\n"
     ]
    },
    {
     "name": "stderr",
     "output_type": "stream",
     "text": [
      " 59%|███████████████████████▏               | 4753/8000 [39:43<1:03:43,  1.18s/it]"
     ]
    },
    {
     "name": "stdout",
     "output_type": "stream",
     "text": [
      "  ➤ Predicted: 0.3377, Target: 0.0, Loss: 0.6427\n"
     ]
    },
    {
     "name": "stderr",
     "output_type": "stream",
     "text": [
      " 60%|████████████████████████▋                | 4813/8000 [39:58<19:40,  2.70it/s]"
     ]
    },
    {
     "name": "stdout",
     "output_type": "stream",
     "text": [
      "  ➤ Predicted: 0.1435, Target: 0.0, Loss: 0.6443\n"
     ]
    },
    {
     "name": "stderr",
     "output_type": "stream",
     "text": [
      " 60%|████████████████████████▊                | 4833/8000 [40:04<18:17,  2.89it/s]"
     ]
    },
    {
     "name": "stdout",
     "output_type": "stream",
     "text": [
      "  ➤ Predicted: 0.2509, Target: 0.0, Loss: 0.6449\n"
     ]
    },
    {
     "name": "stderr",
     "output_type": "stream",
     "text": [
      " 61%|████████████████████████▊                | 4845/8000 [40:10<22:46,  2.31it/s]"
     ]
    },
    {
     "name": "stdout",
     "output_type": "stream",
     "text": [
      "  ➤ Predicted: 0.4876, Target: 1.0, Loss: 0.6448\n"
     ]
    },
    {
     "name": "stderr",
     "output_type": "stream",
     "text": [
      " 61%|████████████████████████▊                | 4853/8000 [40:18<53:02,  1.01s/it]"
     ]
    },
    {
     "name": "stdout",
     "output_type": "stream",
     "text": [
      "  ➤ Predicted: 0.1413, Target: 0.0, Loss: 0.6459\n"
     ]
    },
    {
     "name": "stderr",
     "output_type": "stream",
     "text": [
      " 61%|████████████████████████▉                | 4875/8000 [40:32<31:19,  1.66it/s]"
     ]
    },
    {
     "name": "stdout",
     "output_type": "stream",
     "text": [
      "  ➤ Predicted: 0.6173, Target: 1.0, Loss: 0.6458\n"
     ]
    },
    {
     "name": "stderr",
     "output_type": "stream",
     "text": [
      " 61%|█████████████████████████▏               | 4913/8000 [40:56<31:02,  1.66it/s]"
     ]
    },
    {
     "name": "stdout",
     "output_type": "stream",
     "text": [
      "  ➤ Predicted: 0.5695, Target: 1.0, Loss: 0.6474\n"
     ]
    },
    {
     "name": "stderr",
     "output_type": "stream",
     "text": [
      " 62%|█████████████████████████▎               | 4933/8000 [41:08<45:24,  1.13it/s]"
     ]
    },
    {
     "name": "stdout",
     "output_type": "stream",
     "text": [
      "  ➤ Predicted: 0.1237, Target: 0.0, Loss: 0.6482\n"
     ]
    },
    {
     "name": "stderr",
     "output_type": "stream",
     "text": [
      " 62%|█████████████████████████▎               | 4945/8000 [41:16<28:52,  1.76it/s]"
     ]
    },
    {
     "name": "stdout",
     "output_type": "stream",
     "text": [
      "  ➤ Predicted: 0.1516, Target: 1.0, Loss: 0.6475\n"
     ]
    },
    {
     "name": "stderr",
     "output_type": "stream",
     "text": [
      " 62%|█████████████████████████▍               | 4963/8000 [41:30<54:03,  1.07s/it]"
     ]
    },
    {
     "name": "stdout",
     "output_type": "stream",
     "text": [
      "  ➤ Predicted: 0.4429, Target: 0.0, Loss: 0.6482\n"
     ]
    },
    {
     "name": "stderr",
     "output_type": "stream",
     "text": [
      " 62%|█████████████████████████▍               | 4973/8000 [41:39<39:46,  1.27it/s]"
     ]
    },
    {
     "name": "stdout",
     "output_type": "stream",
     "text": [
      "  ➤ Predicted: 0.3625, Target: 0.0, Loss: 0.6488\n"
     ]
    },
    {
     "name": "stderr",
     "output_type": "stream",
     "text": [
      " 62%|█████████████████████████▌               | 4985/8000 [41:50<31:48,  1.58it/s]"
     ]
    },
    {
     "name": "stdout",
     "output_type": "stream",
     "text": [
      "  ➤ Predicted: 0.8714, Target: 1.0, Loss: 0.6484\n"
     ]
    },
    {
     "name": "stderr",
     "output_type": "stream",
     "text": [
      " 62%|█████████████████████████▌               | 4993/8000 [41:56<40:33,  1.24it/s]"
     ]
    },
    {
     "name": "stdout",
     "output_type": "stream",
     "text": [
      "  ➤ Predicted: 0.6159, Target: 1.0, Loss: 0.6483\n"
     ]
    },
    {
     "name": "stderr",
     "output_type": "stream",
     "text": [
      " 63%|█████████████████████████▋               | 5003/8000 [42:06<52:20,  1.05s/it]"
     ]
    },
    {
     "name": "stdout",
     "output_type": "stream",
     "text": [
      "  ➤ Predicted: 0.6454, Target: 1.0, Loss: 0.6487\n"
     ]
    },
    {
     "name": "stderr",
     "output_type": "stream",
     "text": [
      " 63%|█████████████████████████▋               | 5013/8000 [42:13<34:30,  1.44it/s]"
     ]
    },
    {
     "name": "stdout",
     "output_type": "stream",
     "text": [
      "  ➤ Predicted: 0.7773, Target: 1.0, Loss: 0.6490\n"
     ]
    },
    {
     "name": "stderr",
     "output_type": "stream",
     "text": [
      " 63%|█████████████████████████▋               | 5023/8000 [42:21<46:21,  1.07it/s]"
     ]
    },
    {
     "name": "stdout",
     "output_type": "stream",
     "text": [
      "  ➤ Predicted: 0.4563, Target: 1.0, Loss: 0.6492\n"
     ]
    },
    {
     "name": "stderr",
     "output_type": "stream",
     "text": [
      " 63%|█████████████████████████▊               | 5033/8000 [42:29<37:14,  1.33it/s]"
     ]
    },
    {
     "name": "stdout",
     "output_type": "stream",
     "text": [
      "  ➤ Predicted: 0.1724, Target: 0.0, Loss: 0.6496\n"
     ]
    },
    {
     "name": "stderr",
     "output_type": "stream",
     "text": [
      " 63%|█████████████████████████▊               | 5043/8000 [42:39<57:09,  1.16s/it]"
     ]
    },
    {
     "name": "stdout",
     "output_type": "stream",
     "text": [
      "  ➤ Predicted: 0.7814, Target: 1.0, Loss: 0.6500\n"
     ]
    },
    {
     "name": "stderr",
     "output_type": "stream",
     "text": [
      " 63%|█████████████████████████▉               | 5063/8000 [42:57<44:58,  1.09it/s]"
     ]
    },
    {
     "name": "stdout",
     "output_type": "stream",
     "text": [
      "  ➤ Predicted: 0.3903, Target: 1.0, Loss: 0.6491\n"
     ]
    },
    {
     "name": "stderr",
     "output_type": "stream",
     "text": [
      " 63%|█████████████████████████▉               | 5073/8000 [43:03<28:13,  1.73it/s]"
     ]
    },
    {
     "name": "stdout",
     "output_type": "stream",
     "text": [
      "  ➤ Predicted: 0.8637, Target: 1.0, Loss: 0.6488\n"
     ]
    },
    {
     "name": "stderr",
     "output_type": "stream",
     "text": [
      " 64%|██████████████████████████               | 5095/8000 [43:17<21:01,  2.30it/s]"
     ]
    },
    {
     "name": "stdout",
     "output_type": "stream",
     "text": [
      "  ➤ Predicted: 0.4623, Target: 0.0, Loss: 0.6500\n"
     ]
    },
    {
     "name": "stderr",
     "output_type": "stream",
     "text": [
      " 64%|██████████████████████████▏              | 5103/8000 [43:24<46:43,  1.03it/s]"
     ]
    },
    {
     "name": "stdout",
     "output_type": "stream",
     "text": [
      "  ➤ Predicted: 0.2271, Target: 0.0, Loss: 0.6505\n"
     ]
    },
    {
     "name": "stderr",
     "output_type": "stream",
     "text": [
      " 64%|██████████████████████████▎              | 5123/8000 [43:48<49:05,  1.02s/it]"
     ]
    },
    {
     "name": "stdout",
     "output_type": "stream",
     "text": [
      "  ➤ Predicted: 0.1176, Target: 0.0, Loss: 0.6515\n"
     ]
    },
    {
     "name": "stderr",
     "output_type": "stream",
     "text": [
      " 64%|██████████████████████████▎              | 5133/8000 [43:59<54:40,  1.14s/it]"
     ]
    },
    {
     "name": "stdout",
     "output_type": "stream",
     "text": [
      "  ➤ Predicted: 0.5573, Target: 0.0, Loss: 0.6514\n"
     ]
    },
    {
     "name": "stderr",
     "output_type": "stream",
     "text": [
      " 64%|██████████████████████████▍              | 5153/8000 [44:20<55:08,  1.16s/it]"
     ]
    },
    {
     "name": "stdout",
     "output_type": "stream",
     "text": [
      "  ➤ Predicted: 0.8234, Target: 0.0, Loss: 0.6520\n"
     ]
    },
    {
     "name": "stderr",
     "output_type": "stream",
     "text": [
      " 65%|██████████████████████████▌              | 5193/8000 [44:47<36:18,  1.29it/s]"
     ]
    },
    {
     "name": "stdout",
     "output_type": "stream",
     "text": [
      "  ➤ Predicted: 0.4526, Target: 1.0, Loss: 0.6526\n"
     ]
    },
    {
     "name": "stderr",
     "output_type": "stream",
     "text": [
      " 65%|██████████████████████████▋              | 5203/8000 [44:54<32:05,  1.45it/s]"
     ]
    },
    {
     "name": "stdout",
     "output_type": "stream",
     "text": [
      "  ➤ Predicted: 0.2334, Target: 1.0, Loss: 0.6528\n"
     ]
    },
    {
     "name": "stderr",
     "output_type": "stream",
     "text": [
      " 65%|██████████████████████████▋              | 5215/8000 [45:04<30:30,  1.52it/s]"
     ]
    },
    {
     "name": "stdout",
     "output_type": "stream",
     "text": [
      "  ➤ Predicted: 0.4599, Target: 1.0, Loss: 0.6520\n"
     ]
    },
    {
     "name": "stderr",
     "output_type": "stream",
     "text": [
      " 65%|██████████████████████████▊              | 5223/8000 [45:13<49:53,  1.08s/it]"
     ]
    },
    {
     "name": "stdout",
     "output_type": "stream",
     "text": [
      "  ➤ Predicted: 0.7288, Target: 1.0, Loss: 0.6525\n"
     ]
    },
    {
     "name": "stderr",
     "output_type": "stream",
     "text": [
      " 65%|██████████████████████████▊              | 5233/8000 [45:22<46:34,  1.01s/it]"
     ]
    },
    {
     "name": "stdout",
     "output_type": "stream",
     "text": [
      "  ➤ Predicted: 0.6889, Target: 1.0, Loss: 0.6531\n"
     ]
    },
    {
     "name": "stderr",
     "output_type": "stream",
     "text": [
      " 66%|█████████████████████████▌             | 5243/8000 [45:35<1:01:57,  1.35s/it]"
     ]
    },
    {
     "name": "stdout",
     "output_type": "stream",
     "text": [
      "  ➤ Predicted: 0.8170, Target: 1.0, Loss: 0.6541\n"
     ]
    },
    {
     "name": "stderr",
     "output_type": "stream",
     "text": [
      " 66%|█████████████████████████▌             | 5253/8000 [45:50<1:14:48,  1.63s/it]"
     ]
    },
    {
     "name": "stdout",
     "output_type": "stream",
     "text": [
      "  ➤ Predicted: 0.7705, Target: 0.0, Loss: 0.6539\n"
     ]
    },
    {
     "name": "stderr",
     "output_type": "stream",
     "text": [
      " 66%|███████████████████████████              | 5283/8000 [46:13<37:50,  1.20it/s]"
     ]
    },
    {
     "name": "stdout",
     "output_type": "stream",
     "text": [
      "  ➤ Predicted: 0.3706, Target: 0.0, Loss: 0.6547\n"
     ]
    },
    {
     "name": "stderr",
     "output_type": "stream",
     "text": [
      " 66%|███████████████████████████▏             | 5313/8000 [46:29<17:25,  2.57it/s]"
     ]
    },
    {
     "name": "stdout",
     "output_type": "stream",
     "text": [
      "  ➤ Predicted: 0.3284, Target: 1.0, Loss: 0.6545\n"
     ]
    },
    {
     "name": "stderr",
     "output_type": "stream",
     "text": [
      " 67%|███████████████████████████▍             | 5345/8000 [46:52<28:35,  1.55it/s]"
     ]
    },
    {
     "name": "stdout",
     "output_type": "stream",
     "text": [
      "  ➤ Predicted: 0.8715, Target: 1.0, Loss: 0.6552\n"
     ]
    },
    {
     "name": "stderr",
     "output_type": "stream",
     "text": [
      " 67%|███████████████████████████▍             | 5355/8000 [46:59<26:24,  1.67it/s]"
     ]
    },
    {
     "name": "stdout",
     "output_type": "stream",
     "text": [
      "  ➤ Predicted: 0.5156, Target: 0.0, Loss: 0.6556\n"
     ]
    },
    {
     "name": "stderr",
     "output_type": "stream",
     "text": [
      " 67%|███████████████████████████▍             | 5363/8000 [47:07<38:27,  1.14it/s]"
     ]
    },
    {
     "name": "stdout",
     "output_type": "stream",
     "text": [
      "  ➤ Predicted: 0.2745, Target: 0.0, Loss: 0.6553\n"
     ]
    },
    {
     "name": "stderr",
     "output_type": "stream",
     "text": [
      " 67%|███████████████████████████▌             | 5373/8000 [47:15<42:07,  1.04it/s]"
     ]
    },
    {
     "name": "stdout",
     "output_type": "stream",
     "text": [
      "  ➤ Predicted: 0.9062, Target: 1.0, Loss: 0.6549\n"
     ]
    },
    {
     "name": "stderr",
     "output_type": "stream",
     "text": [
      " 67%|███████████████████████████▌             | 5383/8000 [47:22<35:24,  1.23it/s]"
     ]
    },
    {
     "name": "stdout",
     "output_type": "stream",
     "text": [
      "  ➤ Predicted: 0.6802, Target: 1.0, Loss: 0.6546\n"
     ]
    },
    {
     "name": "stderr",
     "output_type": "stream",
     "text": [
      " 67%|███████████████████████████▋             | 5393/8000 [47:29<28:06,  1.55it/s]"
     ]
    },
    {
     "name": "stdout",
     "output_type": "stream",
     "text": [
      "  ➤ Predicted: 0.3528, Target: 1.0, Loss: 0.6541\n"
     ]
    },
    {
     "name": "stderr",
     "output_type": "stream",
     "text": [
      " 68%|███████████████████████████▋             | 5405/8000 [47:39<27:50,  1.55it/s]"
     ]
    },
    {
     "name": "stdout",
     "output_type": "stream",
     "text": [
      "  ➤ Predicted: 0.4861, Target: 1.0, Loss: 0.6540\n"
     ]
    },
    {
     "name": "stderr",
     "output_type": "stream",
     "text": [
      " 68%|███████████████████████████▉             | 5453/8000 [48:01<11:52,  3.57it/s]"
     ]
    },
    {
     "name": "stdout",
     "output_type": "stream",
     "text": [
      "Error on sample 18028: NaN in input\n"
     ]
    },
    {
     "name": "stderr",
     "output_type": "stream",
     "text": [
      " 69%|████████████████████████████▏            | 5503/8000 [48:27<32:07,  1.30it/s]"
     ]
    },
    {
     "name": "stdout",
     "output_type": "stream",
     "text": [
      "  ➤ Predicted: 0.7504, Target: 1.0, Loss: 0.6554\n"
     ]
    },
    {
     "name": "stderr",
     "output_type": "stream",
     "text": [
      " 69%|████████████████████████████▎            | 5513/8000 [48:39<50:54,  1.23s/it]"
     ]
    },
    {
     "name": "stdout",
     "output_type": "stream",
     "text": [
      "  ➤ Predicted: 0.4256, Target: 0.0, Loss: 0.6558\n"
     ]
    },
    {
     "name": "stderr",
     "output_type": "stream",
     "text": [
      " 69%|████████████████████████████▎            | 5523/8000 [48:50<52:45,  1.28s/it]"
     ]
    },
    {
     "name": "stdout",
     "output_type": "stream",
     "text": [
      "  ➤ Predicted: 0.1175, Target: 0.0, Loss: 0.6566\n"
     ]
    },
    {
     "name": "stderr",
     "output_type": "stream",
     "text": [
      " 69%|████████████████████████████▎            | 5535/8000 [49:01<22:55,  1.79it/s]"
     ]
    },
    {
     "name": "stdout",
     "output_type": "stream",
     "text": [
      "  ➤ Predicted: 0.5215, Target: 0.0, Loss: 0.6573\n"
     ]
    },
    {
     "name": "stderr",
     "output_type": "stream",
     "text": [
      " 69%|████████████████████████████▍            | 5543/8000 [49:07<30:54,  1.32it/s]"
     ]
    },
    {
     "name": "stdout",
     "output_type": "stream",
     "text": [
      "  ➤ Predicted: 0.8109, Target: 0.0, Loss: 0.6568\n"
     ]
    },
    {
     "name": "stderr",
     "output_type": "stream",
     "text": [
      " 70%|████████████████████████████▌            | 5583/8000 [49:24<26:33,  1.52it/s]"
     ]
    },
    {
     "name": "stdout",
     "output_type": "stream",
     "text": [
      "  ➤ Predicted: 0.3773, Target: 0.0, Loss: 0.6568\n"
     ]
    },
    {
     "name": "stderr",
     "output_type": "stream",
     "text": [
      " 70%|████████████████████████████▋            | 5603/8000 [49:34<23:09,  1.73it/s]"
     ]
    },
    {
     "name": "stdout",
     "output_type": "stream",
     "text": [
      "  ➤ Predicted: 0.4160, Target: 0.0, Loss: 0.6571\n"
     ]
    },
    {
     "name": "stderr",
     "output_type": "stream",
     "text": [
      " 70%|████████████████████████████▊            | 5633/8000 [50:02<44:18,  1.12s/it]"
     ]
    },
    {
     "name": "stdout",
     "output_type": "stream",
     "text": [
      "  ➤ Predicted: 0.1706, Target: 1.0, Loss: 0.6573\n"
     ]
    },
    {
     "name": "stderr",
     "output_type": "stream",
     "text": [
      " 71%|█████████████████████████████            | 5673/8000 [50:24<27:46,  1.40it/s]"
     ]
    },
    {
     "name": "stdout",
     "output_type": "stream",
     "text": [
      "  ➤ Predicted: 0.2357, Target: 0.0, Loss: 0.6571\n"
     ]
    },
    {
     "name": "stderr",
     "output_type": "stream",
     "text": [
      " 71%|█████████████████████████████▏           | 5685/8000 [50:33<18:38,  2.07it/s]"
     ]
    },
    {
     "name": "stdout",
     "output_type": "stream",
     "text": [
      "  ➤ Predicted: 0.5605, Target: 1.0, Loss: 0.6569\n"
     ]
    },
    {
     "name": "stderr",
     "output_type": "stream",
     "text": [
      " 71%|█████████████████████████████▏           | 5693/8000 [50:40<41:57,  1.09s/it]"
     ]
    },
    {
     "name": "stdout",
     "output_type": "stream",
     "text": [
      "  ➤ Predicted: 0.6618, Target: 0.0, Loss: 0.6562\n"
     ]
    },
    {
     "name": "stderr",
     "output_type": "stream",
     "text": [
      " 72%|█████████████████████████████▎           | 5722/8000 [50:53<06:15,  6.07it/s]"
     ]
    },
    {
     "name": "stdout",
     "output_type": "stream",
     "text": [
      "  ➤ Predicted: 0.6749, Target: 0.0, Loss: 0.6560\n"
     ]
    },
    {
     "name": "stderr",
     "output_type": "stream",
     "text": [
      " 72%|█████████████████████████████▍           | 5736/8000 [51:02<14:47,  2.55it/s]"
     ]
    },
    {
     "name": "stdout",
     "output_type": "stream",
     "text": [
      "  ➤ Predicted: 0.3811, Target: 1.0, Loss: 0.6560\n"
     ]
    },
    {
     "name": "stderr",
     "output_type": "stream",
     "text": [
      " 72%|█████████████████████████████▍           | 5753/8000 [51:18<44:23,  1.19s/it]"
     ]
    },
    {
     "name": "stdout",
     "output_type": "stream",
     "text": [
      "  ➤ Predicted: 0.4506, Target: 0.0, Loss: 0.6560\n"
     ]
    },
    {
     "name": "stderr",
     "output_type": "stream",
     "text": [
      " 72%|█████████████████████████████▋           | 5793/8000 [51:42<24:13,  1.52it/s]"
     ]
    },
    {
     "name": "stdout",
     "output_type": "stream",
     "text": [
      "  ➤ Predicted: 0.3472, Target: 0.0, Loss: 0.6561\n"
     ]
    },
    {
     "name": "stderr",
     "output_type": "stream",
     "text": [
      " 73%|█████████████████████████████▊           | 5813/8000 [51:57<22:49,  1.60it/s]"
     ]
    },
    {
     "name": "stdout",
     "output_type": "stream",
     "text": [
      "  ➤ Predicted: 0.3741, Target: 0.0, Loss: 0.6557\n"
     ]
    },
    {
     "name": "stderr",
     "output_type": "stream",
     "text": [
      " 73%|█████████████████████████████▊           | 5823/8000 [52:03<22:03,  1.65it/s]"
     ]
    },
    {
     "name": "stdout",
     "output_type": "stream",
     "text": [
      "  ➤ Predicted: 0.4363, Target: 1.0, Loss: 0.6558\n"
     ]
    },
    {
     "name": "stderr",
     "output_type": "stream",
     "text": [
      " 75%|██████████████████████████████▋          | 5976/8000 [52:37<05:14,  6.43it/s]"
     ]
    },
    {
     "name": "stdout",
     "output_type": "stream",
     "text": [
      "  ➤ Predicted: 0.5340, Target: 1.0, Loss: 0.6557\n"
     ]
    },
    {
     "name": "stderr",
     "output_type": "stream",
     "text": [
      " 75%|██████████████████████████████▋          | 5983/8000 [52:43<23:31,  1.43it/s]"
     ]
    },
    {
     "name": "stdout",
     "output_type": "stream",
     "text": [
      "  ➤ Predicted: 0.5089, Target: 1.0, Loss: 0.6562\n"
     ]
    },
    {
     "name": "stderr",
     "output_type": "stream",
     "text": [
      " 75%|██████████████████████████████▉          | 6033/8000 [53:13<32:13,  1.02it/s]"
     ]
    },
    {
     "name": "stdout",
     "output_type": "stream",
     "text": [
      "  ➤ Predicted: 0.6295, Target: 1.0, Loss: 0.6557\n"
     ]
    },
    {
     "name": "stderr",
     "output_type": "stream",
     "text": [
      " 76%|██████████████████████████████▉          | 6043/8000 [53:21<30:56,  1.05it/s]"
     ]
    },
    {
     "name": "stdout",
     "output_type": "stream",
     "text": [
      "  ➤ Predicted: 0.6026, Target: 0.0, Loss: 0.6557\n"
     ]
    },
    {
     "name": "stderr",
     "output_type": "stream",
     "text": [
      " 76%|███████████████████████████████          | 6053/8000 [53:33<39:33,  1.22s/it]"
     ]
    },
    {
     "name": "stdout",
     "output_type": "stream",
     "text": [
      "  ➤ Predicted: 0.7190, Target: 1.0, Loss: 0.6564\n"
     ]
    },
    {
     "name": "stderr",
     "output_type": "stream",
     "text": [
      " 76%|███████████████████████████████          | 6073/8000 [53:50<41:16,  1.29s/it]"
     ]
    },
    {
     "name": "stdout",
     "output_type": "stream",
     "text": [
      "  ➤ Predicted: 0.9486, Target: 1.0, Loss: 0.6573\n"
     ]
    },
    {
     "name": "stderr",
     "output_type": "stream",
     "text": [
      " 76%|███████████████████████████████▏         | 6095/8000 [54:15<23:53,  1.33it/s]"
     ]
    },
    {
     "name": "stdout",
     "output_type": "stream",
     "text": [
      "  ➤ Predicted: 0.5371, Target: 0.0, Loss: 0.6580\n"
     ]
    },
    {
     "name": "stderr",
     "output_type": "stream",
     "text": [
      " 76%|███████████████████████████████▎         | 6105/8000 [54:19<12:08,  2.60it/s]"
     ]
    },
    {
     "name": "stdout",
     "output_type": "stream",
     "text": [
      "  ➤ Predicted: 0.2879, Target: 0.0, Loss: 0.6580\n"
     ]
    },
    {
     "name": "stderr",
     "output_type": "stream",
     "text": [
      " 77%|███████████████████████████████▍         | 6133/8000 [54:38<28:15,  1.10it/s]"
     ]
    },
    {
     "name": "stdout",
     "output_type": "stream",
     "text": [
      "  ➤ Predicted: 0.1419, Target: 1.0, Loss: 0.6590\n"
     ]
    },
    {
     "name": "stderr",
     "output_type": "stream",
     "text": [
      " 77%|███████████████████████████████▍         | 6142/8000 [54:39<06:42,  4.62it/s]"
     ]
    },
    {
     "name": "stdout",
     "output_type": "stream",
     "text": [
      "  ➤ Predicted: 0.3649, Target: 0.0, Loss: 0.6592\n"
     ]
    },
    {
     "name": "stderr",
     "output_type": "stream",
     "text": [
      " 77%|███████████████████████████████▌         | 6165/8000 [54:57<19:00,  1.61it/s]"
     ]
    },
    {
     "name": "stdout",
     "output_type": "stream",
     "text": [
      "  ➤ Predicted: 0.2544, Target: 0.0, Loss: 0.6585\n"
     ]
    },
    {
     "name": "stderr",
     "output_type": "stream",
     "text": [
      " 77%|███████████████████████████████▋         | 6173/8000 [55:06<31:49,  1.05s/it]"
     ]
    },
    {
     "name": "stdout",
     "output_type": "stream",
     "text": [
      "  ➤ Predicted: 0.3113, Target: 0.0, Loss: 0.6587\n"
     ]
    },
    {
     "name": "stderr",
     "output_type": "stream",
     "text": [
      " 77%|██████████████████████████████▏        | 6183/8000 [55:24<1:08:54,  2.28s/it]"
     ]
    },
    {
     "name": "stdout",
     "output_type": "stream",
     "text": [
      "  ➤ Predicted: 0.5090, Target: 0.0, Loss: 0.6589\n"
     ]
    },
    {
     "name": "stderr",
     "output_type": "stream",
     "text": [
      " 77%|███████████████████████████████▋         | 6193/8000 [55:34<28:56,  1.04it/s]"
     ]
    },
    {
     "name": "stdout",
     "output_type": "stream",
     "text": [
      "  ➤ Predicted: 0.6230, Target: 0.0, Loss: 0.6594\n"
     ]
    },
    {
     "name": "stderr",
     "output_type": "stream",
     "text": [
      " 78%|███████████████████████████████▊         | 6215/8000 [55:48<15:09,  1.96it/s]"
     ]
    },
    {
     "name": "stdout",
     "output_type": "stream",
     "text": [
      "  ➤ Predicted: 0.7868, Target: 0.0, Loss: 0.6587\n"
     ]
    },
    {
     "name": "stderr",
     "output_type": "stream",
     "text": [
      " 78%|████████████████████████████████         | 6253/8000 [56:11<23:38,  1.23it/s]"
     ]
    },
    {
     "name": "stdout",
     "output_type": "stream",
     "text": [
      "  ➤ Predicted: 0.5045, Target: 0.0, Loss: 0.6586\n"
     ]
    },
    {
     "name": "stderr",
     "output_type": "stream",
     "text": [
      " 78%|████████████████████████████████         | 6263/8000 [56:18<22:53,  1.26it/s]"
     ]
    },
    {
     "name": "stdout",
     "output_type": "stream",
     "text": [
      "  ➤ Predicted: 0.5131, Target: 1.0, Loss: 0.6581\n"
     ]
    },
    {
     "name": "stderr",
     "output_type": "stream",
     "text": [
      " 79%|████████████████████████████████▏        | 6283/8000 [56:35<22:23,  1.28it/s]"
     ]
    },
    {
     "name": "stdout",
     "output_type": "stream",
     "text": [
      "  ➤ Predicted: 0.6870, Target: 1.0, Loss: 0.6582\n"
     ]
    },
    {
     "name": "stderr",
     "output_type": "stream",
     "text": [
      " 79%|████████████████████████████████▎        | 6293/8000 [56:47<35:05,  1.23s/it]"
     ]
    },
    {
     "name": "stdout",
     "output_type": "stream",
     "text": [
      "  ➤ Predicted: 0.7814, Target: 1.0, Loss: 0.6582\n"
     ]
    },
    {
     "name": "stderr",
     "output_type": "stream",
     "text": [
      " 79%|████████████████████████████████▎        | 6315/8000 [56:59<14:09,  1.98it/s]"
     ]
    },
    {
     "name": "stdout",
     "output_type": "stream",
     "text": [
      "  ➤ Predicted: 0.8290, Target: 1.0, Loss: 0.6575\n"
     ]
    },
    {
     "name": "stderr",
     "output_type": "stream",
     "text": [
      " 79%|████████████████████████████████▍        | 6333/8000 [57:13<23:45,  1.17it/s]"
     ]
    },
    {
     "name": "stdout",
     "output_type": "stream",
     "text": [
      "  ➤ Predicted: 0.5385, Target: 1.0, Loss: 0.6583\n"
     ]
    },
    {
     "name": "stderr",
     "output_type": "stream",
     "text": [
      " 79%|████████████████████████████████▌        | 6343/8000 [57:23<33:11,  1.20s/it]"
     ]
    },
    {
     "name": "stdout",
     "output_type": "stream",
     "text": [
      "  ➤ Predicted: 0.8103, Target: 1.0, Loss: 0.6589\n"
     ]
    },
    {
     "name": "stderr",
     "output_type": "stream",
     "text": [
      " 80%|████████████████████████████████▊        | 6395/8000 [57:42<11:31,  2.32it/s]"
     ]
    },
    {
     "name": "stdout",
     "output_type": "stream",
     "text": [
      "  ➤ Predicted: 0.3971, Target: 0.0, Loss: 0.6577\n"
     ]
    },
    {
     "name": "stderr",
     "output_type": "stream",
     "text": [
      " 80%|████████████████████████████████▉        | 6415/8000 [57:53<12:29,  2.11it/s]"
     ]
    },
    {
     "name": "stdout",
     "output_type": "stream",
     "text": [
      "  ➤ Predicted: 0.5115, Target: 1.0, Loss: 0.6582\n"
     ]
    },
    {
     "name": "stderr",
     "output_type": "stream",
     "text": [
      " 80%|████████████████████████████████▉        | 6423/8000 [58:00<22:59,  1.14it/s]"
     ]
    },
    {
     "name": "stdout",
     "output_type": "stream",
     "text": [
      "  ➤ Predicted: 0.7550, Target: 0.0, Loss: 0.6584\n"
     ]
    },
    {
     "name": "stderr",
     "output_type": "stream",
     "text": [
      " 81%|█████████████████████████████████        | 6445/8000 [58:14<15:50,  1.64it/s]"
     ]
    },
    {
     "name": "stdout",
     "output_type": "stream",
     "text": [
      "  ➤ Predicted: 0.5625, Target: 1.0, Loss: 0.6580\n"
     ]
    },
    {
     "name": "stderr",
     "output_type": "stream",
     "text": [
      " 81%|█████████████████████████████████        | 6453/8000 [58:21<23:54,  1.08it/s]"
     ]
    },
    {
     "name": "stdout",
     "output_type": "stream",
     "text": [
      "  ➤ Predicted: 0.6517, Target: 0.0, Loss: 0.6579\n"
     ]
    },
    {
     "name": "stderr",
     "output_type": "stream",
     "text": [
      " 81%|█████████████████████████████████        | 6463/8000 [58:29<18:09,  1.41it/s]"
     ]
    },
    {
     "name": "stdout",
     "output_type": "stream",
     "text": [
      "  ➤ Predicted: 0.4078, Target: 1.0, Loss: 0.6576\n"
     ]
    },
    {
     "name": "stderr",
     "output_type": "stream",
     "text": [
      " 81%|█████████████████████████████████▏       | 6473/8000 [58:40<28:54,  1.14s/it]"
     ]
    },
    {
     "name": "stdout",
     "output_type": "stream",
     "text": [
      "  ➤ Predicted: 0.6500, Target: 1.0, Loss: 0.6579\n"
     ]
    },
    {
     "name": "stderr",
     "output_type": "stream",
     "text": [
      " 81%|█████████████████████████████████▏       | 6483/8000 [58:49<22:05,  1.14it/s]"
     ]
    },
    {
     "name": "stdout",
     "output_type": "stream",
     "text": [
      "  ➤ Predicted: 0.1879, Target: 0.0, Loss: 0.6582\n"
     ]
    },
    {
     "name": "stderr",
     "output_type": "stream",
     "text": [
      " 81%|█████████████████████████████████▎       | 6495/8000 [59:01<17:05,  1.47it/s]"
     ]
    },
    {
     "name": "stdout",
     "output_type": "stream",
     "text": [
      "  ➤ Predicted: 0.5408, Target: 1.0, Loss: 0.6586\n"
     ]
    },
    {
     "name": "stderr",
     "output_type": "stream",
     "text": [
      " 81%|█████████████████████████████████▎       | 6503/8000 [59:12<32:09,  1.29s/it]"
     ]
    },
    {
     "name": "stdout",
     "output_type": "stream",
     "text": [
      "  ➤ Predicted: 0.0711, Target: 0.0, Loss: 0.6591\n"
     ]
    },
    {
     "name": "stderr",
     "output_type": "stream",
     "text": [
      " 81%|█████████████████████████████████▍       | 6513/8000 [59:22<29:34,  1.19s/it]"
     ]
    },
    {
     "name": "stdout",
     "output_type": "stream",
     "text": [
      "  ➤ Predicted: 0.3884, Target: 0.0, Loss: 0.6600\n"
     ]
    },
    {
     "name": "stderr",
     "output_type": "stream",
     "text": [
      " 82%|█████████████████████████████████▍       | 6533/8000 [59:42<27:17,  1.12s/it]"
     ]
    },
    {
     "name": "stdout",
     "output_type": "stream",
     "text": [
      "  ➤ Predicted: 0.5933, Target: 1.0, Loss: 0.6606\n"
     ]
    },
    {
     "name": "stderr",
     "output_type": "stream",
     "text": [
      " 82%|█████████████████████████████████▌       | 6543/8000 [59:54<25:29,  1.05s/it]"
     ]
    },
    {
     "name": "stdout",
     "output_type": "stream",
     "text": [
      "  ➤ Predicted: 0.7641, Target: 1.0, Loss: 0.6612\n"
     ]
    },
    {
     "name": "stderr",
     "output_type": "stream",
     "text": [
      " 82%|███████████████████████████████▉       | 6553/8000 [1:00:06<31:49,  1.32s/it]"
     ]
    },
    {
     "name": "stdout",
     "output_type": "stream",
     "text": [
      "  ➤ Predicted: 0.6613, Target: 1.0, Loss: 0.6603\n"
     ]
    },
    {
     "name": "stderr",
     "output_type": "stream",
     "text": [
      " 82%|███████████████████████████████▉       | 6563/8000 [1:00:18<29:06,  1.22s/it]"
     ]
    },
    {
     "name": "stdout",
     "output_type": "stream",
     "text": [
      "  ➤ Predicted: 0.5737, Target: 1.0, Loss: 0.6609\n"
     ]
    },
    {
     "name": "stderr",
     "output_type": "stream",
     "text": [
      " 82%|████████████████████████████████       | 6583/8000 [1:00:34<26:11,  1.11s/it]"
     ]
    },
    {
     "name": "stdout",
     "output_type": "stream",
     "text": [
      "  ➤ Predicted: 0.2875, Target: 0.0, Loss: 0.6619\n"
     ]
    },
    {
     "name": "stderr",
     "output_type": "stream",
     "text": [
      " 83%|████████████████████████████████▏      | 6605/8000 [1:00:47<12:10,  1.91it/s]"
     ]
    },
    {
     "name": "stdout",
     "output_type": "stream",
     "text": [
      "  ➤ Predicted: 0.2951, Target: 0.0, Loss: 0.6619\n"
     ]
    },
    {
     "name": "stderr",
     "output_type": "stream",
     "text": [
      " 83%|████████████████████████████████▎      | 6623/8000 [1:01:02<21:48,  1.05it/s]"
     ]
    },
    {
     "name": "stdout",
     "output_type": "stream",
     "text": [
      "  ➤ Predicted: 0.5008, Target: 1.0, Loss: 0.6615\n"
     ]
    },
    {
     "name": "stderr",
     "output_type": "stream",
     "text": [
      " 83%|████████████████████████████████▍      | 6643/8000 [1:01:13<12:31,  1.81it/s]"
     ]
    },
    {
     "name": "stdout",
     "output_type": "stream",
     "text": [
      "  ➤ Predicted: 0.4696, Target: 0.0, Loss: 0.6617\n"
     ]
    },
    {
     "name": "stderr",
     "output_type": "stream",
     "text": [
      " 83%|████████████████████████████████▍      | 6662/8000 [1:01:25<10:14,  2.18it/s]"
     ]
    },
    {
     "name": "stdout",
     "output_type": "stream",
     "text": [
      "  ➤ Predicted: 0.1468, Target: 0.0, Loss: 0.6623\n"
     ]
    },
    {
     "name": "stderr",
     "output_type": "stream",
     "text": [
      " 84%|████████████████████████████████▌      | 6683/8000 [1:01:40<17:37,  1.25it/s]"
     ]
    },
    {
     "name": "stdout",
     "output_type": "stream",
     "text": [
      "  ➤ Predicted: 0.3813, Target: 0.0, Loss: 0.6628\n"
     ]
    },
    {
     "name": "stderr",
     "output_type": "stream",
     "text": [
      " 84%|████████████████████████████████▋      | 6693/8000 [1:01:46<11:43,  1.86it/s]"
     ]
    },
    {
     "name": "stdout",
     "output_type": "stream",
     "text": [
      "  ➤ Predicted: 0.6262, Target: 1.0, Loss: 0.6629\n"
     ]
    },
    {
     "name": "stderr",
     "output_type": "stream",
     "text": [
      " 84%|████████████████████████████████▋      | 6713/8000 [1:01:56<14:52,  1.44it/s]"
     ]
    },
    {
     "name": "stdout",
     "output_type": "stream",
     "text": [
      "  ➤ Predicted: 0.6693, Target: 1.0, Loss: 0.6633\n"
     ]
    },
    {
     "name": "stderr",
     "output_type": "stream",
     "text": [
      " 84%|████████████████████████████████▊      | 6723/8000 [1:02:07<21:28,  1.01s/it]"
     ]
    },
    {
     "name": "stdout",
     "output_type": "stream",
     "text": [
      "  ➤ Predicted: 0.1729, Target: 0.0, Loss: 0.6632\n"
     ]
    },
    {
     "name": "stderr",
     "output_type": "stream",
     "text": [
      " 84%|████████████████████████████████▊      | 6733/8000 [1:02:19<22:10,  1.05s/it]"
     ]
    },
    {
     "name": "stdout",
     "output_type": "stream",
     "text": [
      "  ➤ Predicted: 0.1687, Target: 0.0, Loss: 0.6638\n"
     ]
    },
    {
     "name": "stderr",
     "output_type": "stream",
     "text": [
      " 84%|████████████████████████████████▉      | 6755/8000 [1:02:36<08:09,  2.55it/s]"
     ]
    },
    {
     "name": "stdout",
     "output_type": "stream",
     "text": [
      "  ➤ Predicted: 0.5619, Target: 0.0, Loss: 0.6638\n"
     ]
    },
    {
     "name": "stderr",
     "output_type": "stream",
     "text": [
      " 85%|████████████████████████████████▉      | 6765/8000 [1:02:42<10:16,  2.00it/s]"
     ]
    },
    {
     "name": "stdout",
     "output_type": "stream",
     "text": [
      "  ➤ Predicted: 0.3874, Target: 1.0, Loss: 0.6639\n"
     ]
    },
    {
     "name": "stderr",
     "output_type": "stream",
     "text": [
      " 85%|█████████████████████████████████      | 6785/8000 [1:02:55<09:12,  2.20it/s]"
     ]
    },
    {
     "name": "stdout",
     "output_type": "stream",
     "text": [
      "  ➤ Predicted: 0.7941, Target: 1.0, Loss: 0.6633\n"
     ]
    },
    {
     "name": "stderr",
     "output_type": "stream",
     "text": [
      " 85%|█████████████████████████████████      | 6793/8000 [1:03:02<16:07,  1.25it/s]"
     ]
    },
    {
     "name": "stdout",
     "output_type": "stream",
     "text": [
      "  ➤ Predicted: 0.9636, Target: 1.0, Loss: 0.6629\n"
     ]
    },
    {
     "name": "stderr",
     "output_type": "stream",
     "text": [
      " 85%|█████████████████████████████████▏     | 6815/8000 [1:03:19<11:40,  1.69it/s]"
     ]
    },
    {
     "name": "stdout",
     "output_type": "stream",
     "text": [
      "  ➤ Predicted: 0.1702, Target: 1.0, Loss: 0.6620\n"
     ]
    },
    {
     "name": "stderr",
     "output_type": "stream",
     "text": [
      " 85%|█████████████████████████████████▎     | 6823/8000 [1:03:30<25:38,  1.31s/it]"
     ]
    },
    {
     "name": "stdout",
     "output_type": "stream",
     "text": [
      "  ➤ Predicted: 0.4470, Target: 1.0, Loss: 0.6622\n"
     ]
    },
    {
     "name": "stderr",
     "output_type": "stream",
     "text": [
      " 85%|█████████████████████████████████▎     | 6833/8000 [1:03:40<21:37,  1.11s/it]"
     ]
    },
    {
     "name": "stdout",
     "output_type": "stream",
     "text": [
      "  ➤ Predicted: 0.6386, Target: 0.0, Loss: 0.6621\n"
     ]
    },
    {
     "name": "stderr",
     "output_type": "stream",
     "text": [
      " 86%|█████████████████████████████████▎     | 6843/8000 [1:03:53<23:39,  1.23s/it]"
     ]
    },
    {
     "name": "stdout",
     "output_type": "stream",
     "text": [
      "  ➤ Predicted: 0.8695, Target: 1.0, Loss: 0.6612\n"
     ]
    },
    {
     "name": "stderr",
     "output_type": "stream",
     "text": [
      " 86%|█████████████████████████████████▍     | 6853/8000 [1:04:04<20:03,  1.05s/it]"
     ]
    },
    {
     "name": "stdout",
     "output_type": "stream",
     "text": [
      "  ➤ Predicted: 0.6780, Target: 1.0, Loss: 0.6614\n"
     ]
    },
    {
     "name": "stderr",
     "output_type": "stream",
     "text": [
      " 86%|█████████████████████████████████▍     | 6866/8000 [1:04:11<07:15,  2.60it/s]"
     ]
    },
    {
     "name": "stdout",
     "output_type": "stream",
     "text": [
      "  ➤ Predicted: 0.5882, Target: 1.0, Loss: 0.6619\n"
     ]
    },
    {
     "name": "stderr",
     "output_type": "stream",
     "text": [
      " 86%|█████████████████████████████████▌     | 6885/8000 [1:04:20<10:01,  1.86it/s]"
     ]
    },
    {
     "name": "stdout",
     "output_type": "stream",
     "text": [
      "  ➤ Predicted: 0.7080, Target: 1.0, Loss: 0.6619\n"
     ]
    },
    {
     "name": "stderr",
     "output_type": "stream",
     "text": [
      " 86%|█████████████████████████████████▌     | 6893/8000 [1:04:24<11:50,  1.56it/s]"
     ]
    },
    {
     "name": "stdout",
     "output_type": "stream",
     "text": [
      "  ➤ Predicted: 0.3632, Target: 0.0, Loss: 0.6622\n"
     ]
    },
    {
     "name": "stderr",
     "output_type": "stream",
     "text": [
      " 86%|█████████████████████████████████▋     | 6916/8000 [1:04:37<06:14,  2.89it/s]"
     ]
    },
    {
     "name": "stdout",
     "output_type": "stream",
     "text": [
      "  ➤ Predicted: 0.4440, Target: 0.0, Loss: 0.6616\n"
     ]
    },
    {
     "name": "stderr",
     "output_type": "stream",
     "text": [
      " 87%|█████████████████████████████████▊     | 6933/8000 [1:04:47<11:54,  1.49it/s]"
     ]
    },
    {
     "name": "stdout",
     "output_type": "stream",
     "text": [
      "  ➤ Predicted: 0.6914, Target: 1.0, Loss: 0.6614\n"
     ]
    },
    {
     "name": "stderr",
     "output_type": "stream",
     "text": [
      " 87%|█████████████████████████████████▉     | 6974/8000 [1:05:08<06:40,  2.56it/s]"
     ]
    },
    {
     "name": "stdout",
     "output_type": "stream",
     "text": [
      "  ➤ Predicted: 0.6345, Target: 0.0, Loss: 0.6619\n"
     ]
    },
    {
     "name": "stderr",
     "output_type": "stream",
     "text": [
      " 87%|██████████████████████████████████     | 6983/8000 [1:05:15<13:36,  1.25it/s]"
     ]
    },
    {
     "name": "stdout",
     "output_type": "stream",
     "text": [
      "  ➤ Predicted: 0.3327, Target: 1.0, Loss: 0.6618\n"
     ]
    },
    {
     "name": "stderr",
     "output_type": "stream",
     "text": [
      " 87%|██████████████████████████████████     | 6993/8000 [1:05:22<11:01,  1.52it/s]"
     ]
    },
    {
     "name": "stdout",
     "output_type": "stream",
     "text": [
      "  ➤ Predicted: 0.6808, Target: 0.0, Loss: 0.6618\n"
     ]
    },
    {
     "name": "stderr",
     "output_type": "stream",
     "text": [
      " 88%|██████████████████████████████████▍    | 7055/8000 [1:06:05<04:26,  3.55it/s]"
     ]
    },
    {
     "name": "stdout",
     "output_type": "stream",
     "text": [
      "  ➤ Predicted: 0.2961, Target: 1.0, Loss: 0.6626\n"
     ]
    },
    {
     "name": "stderr",
     "output_type": "stream",
     "text": [
      " 88%|██████████████████████████████████▍    | 7063/8000 [1:06:10<08:58,  1.74it/s]"
     ]
    },
    {
     "name": "stdout",
     "output_type": "stream",
     "text": [
      "  ➤ Predicted: 0.6932, Target: 1.0, Loss: 0.6627\n"
     ]
    },
    {
     "name": "stderr",
     "output_type": "stream",
     "text": [
      " 89%|██████████████████████████████████▋    | 7105/8000 [1:06:29<04:06,  3.63it/s]"
     ]
    },
    {
     "name": "stdout",
     "output_type": "stream",
     "text": [
      "  ➤ Predicted: 0.4651, Target: 0.0, Loss: 0.6634\n"
     ]
    },
    {
     "name": "stderr",
     "output_type": "stream",
     "text": [
      " 90%|███████████████████████████████████    | 7183/8000 [1:06:51<06:35,  2.06it/s]"
     ]
    },
    {
     "name": "stdout",
     "output_type": "stream",
     "text": [
      "  ➤ Predicted: 0.6236, Target: 0.0, Loss: 0.6629\n"
     ]
    },
    {
     "name": "stderr",
     "output_type": "stream",
     "text": [
      " 91%|███████████████████████████████████▌   | 7294/8000 [1:07:26<05:40,  2.07it/s]"
     ]
    },
    {
     "name": "stdout",
     "output_type": "stream",
     "text": [
      "  ➤ Predicted: 0.2827, Target: 1.0, Loss: 0.6622\n"
     ]
    },
    {
     "name": "stderr",
     "output_type": "stream",
     "text": [
      " 91%|███████████████████████████████████▌   | 7303/8000 [1:07:35<10:58,  1.06it/s]"
     ]
    },
    {
     "name": "stdout",
     "output_type": "stream",
     "text": [
      "  ➤ Predicted: 0.2592, Target: 0.0, Loss: 0.6623\n"
     ]
    },
    {
     "name": "stderr",
     "output_type": "stream",
     "text": [
      " 91%|███████████████████████████████████▋   | 7313/8000 [1:07:44<09:39,  1.19it/s]"
     ]
    },
    {
     "name": "stdout",
     "output_type": "stream",
     "text": [
      "  ➤ Predicted: 0.3922, Target: 1.0, Loss: 0.6623\n"
     ]
    },
    {
     "name": "stderr",
     "output_type": "stream",
     "text": [
      " 92%|███████████████████████████████████▋   | 7325/8000 [1:07:57<07:43,  1.46it/s]"
     ]
    },
    {
     "name": "stdout",
     "output_type": "stream",
     "text": [
      "  ➤ Predicted: 0.3954, Target: 0.0, Loss: 0.6625\n"
     ]
    },
    {
     "name": "stderr",
     "output_type": "stream",
     "text": [
      " 92%|███████████████████████████████████▊   | 7335/8000 [1:08:00<04:50,  2.29it/s]"
     ]
    },
    {
     "name": "stdout",
     "output_type": "stream",
     "text": [
      "  ➤ Predicted: 0.3523, Target: 1.0, Loss: 0.6624\n"
     ]
    },
    {
     "name": "stderr",
     "output_type": "stream",
     "text": [
      " 92%|███████████████████████████████████▊   | 7343/8000 [1:08:08<11:03,  1.01s/it]"
     ]
    },
    {
     "name": "stdout",
     "output_type": "stream",
     "text": [
      "  ➤ Predicted: 0.3129, Target: 0.0, Loss: 0.6626\n"
     ]
    },
    {
     "name": "stderr",
     "output_type": "stream",
     "text": [
      " 92%|███████████████████████████████████▊   | 7353/8000 [1:08:16<09:46,  1.10it/s]"
     ]
    },
    {
     "name": "stdout",
     "output_type": "stream",
     "text": [
      "  ➤ Predicted: 0.2181, Target: 0.0, Loss: 0.6625\n"
     ]
    },
    {
     "name": "stderr",
     "output_type": "stream",
     "text": [
      " 92%|███████████████████████████████████▉   | 7373/8000 [1:08:37<14:21,  1.37s/it]"
     ]
    },
    {
     "name": "stdout",
     "output_type": "stream",
     "text": [
      "  ➤ Predicted: 0.5344, Target: 0.0, Loss: 0.6622\n"
     ]
    },
    {
     "name": "stderr",
     "output_type": "stream",
     "text": [
      " 92%|████████████████████████████████████   | 7395/8000 [1:08:48<05:28,  1.84it/s]"
     ]
    },
    {
     "name": "stdout",
     "output_type": "stream",
     "text": [
      "  ➤ Predicted: 0.6495, Target: 1.0, Loss: 0.6626\n"
     ]
    },
    {
     "name": "stderr",
     "output_type": "stream",
     "text": [
      " 93%|████████████████████████████████████   | 7403/8000 [1:08:51<05:04,  1.96it/s]"
     ]
    },
    {
     "name": "stdout",
     "output_type": "stream",
     "text": [
      "  ➤ Predicted: 0.6275, Target: 0.0, Loss: 0.6622\n"
     ]
    },
    {
     "name": "stderr",
     "output_type": "stream",
     "text": [
      " 93%|████████████████████████████████████▏  | 7415/8000 [1:08:57<03:26,  2.83it/s]"
     ]
    },
    {
     "name": "stdout",
     "output_type": "stream",
     "text": [
      "  ➤ Predicted: 0.3943, Target: 0.0, Loss: 0.6623\n"
     ]
    },
    {
     "name": "stderr",
     "output_type": "stream",
     "text": [
      " 93%|████████████████████████████████████▏  | 7423/8000 [1:09:03<06:35,  1.46it/s]"
     ]
    },
    {
     "name": "stdout",
     "output_type": "stream",
     "text": [
      "  ➤ Predicted: 0.7897, Target: 1.0, Loss: 0.6621\n"
     ]
    },
    {
     "name": "stderr",
     "output_type": "stream",
     "text": [
      " 93%|████████████████████████████████████▎  | 7445/8000 [1:09:22<04:43,  1.96it/s]"
     ]
    },
    {
     "name": "stdout",
     "output_type": "stream",
     "text": [
      "  ➤ Predicted: 0.6430, Target: 1.0, Loss: 0.6616\n"
     ]
    },
    {
     "name": "stderr",
     "output_type": "stream",
     "text": [
      " 93%|████████████████████████████████████▍  | 7463/8000 [1:09:35<08:40,  1.03it/s]"
     ]
    },
    {
     "name": "stdout",
     "output_type": "stream",
     "text": [
      "  ➤ Predicted: 0.2378, Target: 0.0, Loss: 0.6616\n"
     ]
    },
    {
     "name": "stderr",
     "output_type": "stream",
     "text": [
      " 93%|████████████████████████████████████▍  | 7473/8000 [1:09:40<05:34,  1.58it/s]"
     ]
    },
    {
     "name": "stdout",
     "output_type": "stream",
     "text": [
      "  ➤ Predicted: 0.3598, Target: 1.0, Loss: 0.6611\n"
     ]
    },
    {
     "name": "stderr",
     "output_type": "stream",
     "text": [
      " 94%|████████████████████████████████████▍  | 7483/8000 [1:09:49<07:18,  1.18it/s]"
     ]
    },
    {
     "name": "stdout",
     "output_type": "stream",
     "text": [
      "  ➤ Predicted: 0.5561, Target: 0.0, Loss: 0.6611\n"
     ]
    },
    {
     "name": "stderr",
     "output_type": "stream",
     "text": [
      " 94%|████████████████████████████████████▌  | 7493/8000 [1:10:02<10:17,  1.22s/it]"
     ]
    },
    {
     "name": "stdout",
     "output_type": "stream",
     "text": [
      "  ➤ Predicted: 0.5578, Target: 1.0, Loss: 0.6611\n"
     ]
    },
    {
     "name": "stderr",
     "output_type": "stream",
     "text": [
      " 94%|████████████████████████████████████▋  | 7513/8000 [1:10:18<07:39,  1.06it/s]"
     ]
    },
    {
     "name": "stdout",
     "output_type": "stream",
     "text": [
      "  ➤ Predicted: 0.3862, Target: 0.0, Loss: 0.6610\n"
     ]
    },
    {
     "name": "stderr",
     "output_type": "stream",
     "text": [
      " 94%|████████████████████████████████████▋  | 7533/8000 [1:10:39<10:51,  1.40s/it]"
     ]
    },
    {
     "name": "stdout",
     "output_type": "stream",
     "text": [
      "  ➤ Predicted: 0.2609, Target: 1.0, Loss: 0.6607\n"
     ]
    },
    {
     "name": "stderr",
     "output_type": "stream",
     "text": [
      " 94%|████████████████████████████████████▊  | 7543/8000 [1:10:52<09:22,  1.23s/it]"
     ]
    },
    {
     "name": "stdout",
     "output_type": "stream",
     "text": [
      "  ➤ Predicted: 0.5587, Target: 1.0, Loss: 0.6607\n"
     ]
    },
    {
     "name": "stderr",
     "output_type": "stream",
     "text": [
      " 94%|████████████████████████████████████▊  | 7555/8000 [1:11:00<03:44,  1.98it/s]"
     ]
    },
    {
     "name": "stdout",
     "output_type": "stream",
     "text": [
      "  ➤ Predicted: 0.4313, Target: 0.0, Loss: 0.6609\n"
     ]
    },
    {
     "name": "stderr",
     "output_type": "stream",
     "text": [
      " 95%|████████████████████████████████████▉  | 7565/8000 [1:11:03<03:02,  2.38it/s]"
     ]
    },
    {
     "name": "stdout",
     "output_type": "stream",
     "text": [
      "  ➤ Predicted: 0.5223, Target: 1.0, Loss: 0.6610\n"
     ]
    },
    {
     "name": "stderr",
     "output_type": "stream",
     "text": [
      " 95%|████████████████████████████████████▉  | 7583/8000 [1:11:14<06:30,  1.07it/s]"
     ]
    },
    {
     "name": "stdout",
     "output_type": "stream",
     "text": [
      "  ➤ Predicted: 0.6090, Target: 0.0, Loss: 0.6609\n"
     ]
    },
    {
     "name": "stderr",
     "output_type": "stream",
     "text": [
      " 95%|█████████████████████████████████████▏ | 7623/8000 [1:11:40<05:04,  1.24it/s]"
     ]
    },
    {
     "name": "stdout",
     "output_type": "stream",
     "text": [
      "  ➤ Predicted: 0.4903, Target: 0.0, Loss: 0.6609\n"
     ]
    },
    {
     "name": "stderr",
     "output_type": "stream",
     "text": [
      " 96%|█████████████████████████████████████▍ | 7683/8000 [1:12:23<03:52,  1.36it/s]"
     ]
    },
    {
     "name": "stdout",
     "output_type": "stream",
     "text": [
      "  ➤ Predicted: 0.4734, Target: 1.0, Loss: 0.6605\n"
     ]
    },
    {
     "name": "stderr",
     "output_type": "stream",
     "text": [
      " 96%|█████████████████████████████████████▌ | 7693/8000 [1:12:36<07:14,  1.42s/it]"
     ]
    },
    {
     "name": "stdout",
     "output_type": "stream",
     "text": [
      "  ➤ Predicted: 0.2645, Target: 0.0, Loss: 0.6602\n"
     ]
    },
    {
     "name": "stderr",
     "output_type": "stream",
     "text": [
      " 96%|█████████████████████████████████████▌ | 7703/8000 [1:12:45<03:38,  1.36it/s]"
     ]
    },
    {
     "name": "stdout",
     "output_type": "stream",
     "text": [
      "  ➤ Predicted: 0.5501, Target: 1.0, Loss: 0.6602\n"
     ]
    },
    {
     "name": "stderr",
     "output_type": "stream",
     "text": [
      " 96%|█████████████████████████████████████▌ | 7713/8000 [1:12:59<07:11,  1.50s/it]"
     ]
    },
    {
     "name": "stdout",
     "output_type": "stream",
     "text": [
      "  ➤ Predicted: 0.0914, Target: 0.0, Loss: 0.6605\n"
     ]
    },
    {
     "name": "stderr",
     "output_type": "stream",
     "text": [
      " 97%|█████████████████████████████████████▉ | 7775/8000 [1:13:28<01:42,  2.19it/s]"
     ]
    },
    {
     "name": "stdout",
     "output_type": "stream",
     "text": [
      "  ➤ Predicted: 0.5071, Target: 0.0, Loss: 0.6606\n"
     ]
    },
    {
     "name": "stderr",
     "output_type": "stream",
     "text": [
      " 97%|█████████████████████████████████████▉ | 7793/8000 [1:13:39<03:15,  1.06it/s]"
     ]
    },
    {
     "name": "stdout",
     "output_type": "stream",
     "text": [
      "  ➤ Predicted: 0.2445, Target: 0.0, Loss: 0.6610\n"
     ]
    },
    {
     "name": "stderr",
     "output_type": "stream",
     "text": [
      " 98%|██████████████████████████████████████▏| 7825/8000 [1:14:09<02:20,  1.25it/s]"
     ]
    },
    {
     "name": "stdout",
     "output_type": "stream",
     "text": [
      "  ➤ Predicted: 0.3626, Target: 1.0, Loss: 0.6610\n"
     ]
    },
    {
     "name": "stderr",
     "output_type": "stream",
     "text": [
      " 99%|██████████████████████████████████████▍| 7893/8000 [1:14:57<02:06,  1.18s/it]"
     ]
    },
    {
     "name": "stdout",
     "output_type": "stream",
     "text": [
      "  ➤ Predicted: 0.4937, Target: 0.0, Loss: 0.6617\n"
     ]
    },
    {
     "name": "stderr",
     "output_type": "stream",
     "text": [
      " 99%|██████████████████████████████████████▌| 7903/8000 [1:15:04<01:11,  1.36it/s]"
     ]
    },
    {
     "name": "stdout",
     "output_type": "stream",
     "text": [
      "  ➤ Predicted: 0.1192, Target: 0.0, Loss: 0.6618\n"
     ]
    },
    {
     "name": "stderr",
     "output_type": "stream",
     "text": [
      " 99%|██████████████████████████████████████▋| 7943/8000 [1:15:43<00:55,  1.02it/s]"
     ]
    },
    {
     "name": "stdout",
     "output_type": "stream",
     "text": [
      "  ➤ Predicted: 0.4964, Target: 0.0, Loss: 0.6626\n"
     ]
    },
    {
     "name": "stderr",
     "output_type": "stream",
     "text": [
      " 99%|██████████████████████████████████████▊| 7953/8000 [1:15:53<00:50,  1.07s/it]"
     ]
    },
    {
     "name": "stdout",
     "output_type": "stream",
     "text": [
      "  ➤ Predicted: 0.4556, Target: 1.0, Loss: 0.6624\n"
     ]
    },
    {
     "name": "stderr",
     "output_type": "stream",
     "text": [
      "100%|██████████████████████████████████████▊| 7963/8000 [1:16:01<00:27,  1.34it/s]"
     ]
    },
    {
     "name": "stdout",
     "output_type": "stream",
     "text": [
      "  ➤ Predicted: 0.3416, Target: 1.0, Loss: 0.6620\n"
     ]
    },
    {
     "name": "stderr",
     "output_type": "stream",
     "text": [
      "100%|██████████████████████████████████████▉| 7983/8000 [1:16:20<00:20,  1.22s/it]"
     ]
    },
    {
     "name": "stdout",
     "output_type": "stream",
     "text": [
      "  ➤ Predicted: 0.2690, Target: 1.0, Loss: 0.6613\n"
     ]
    },
    {
     "name": "stderr",
     "output_type": "stream",
     "text": [
      "100%|███████████████████████████████████████| 8000/8000 [1:16:40<00:00,  1.74it/s]"
     ]
    },
    {
     "name": "stdout",
     "output_type": "stream",
     "text": [
      "✅ Epoch 1 — Trained on 3837 samples — Avg Loss: 0.6407\n"
     ]
    },
    {
     "name": "stderr",
     "output_type": "stream",
     "text": [
      "\n"
     ]
    }
   ],
   "source": [
    "train_model_samplewise(model, df_current_match_train[-8000:])"
   ]
  },
  {
   "cell_type": "code",
   "execution_count": 44,
   "id": "c7244a4c-aa72-4021-a64c-878c273971b4",
   "metadata": {},
   "outputs": [],
   "source": [
    "from sklearn.metrics import accuracy_score, precision_score, recall_score, f1_score\n",
    "import numpy as np\n",
    "from tqdm import tqdm\n",
    "\n",
    "def evaluate_model_samplewise(model, data):\n",
    "    total_loss = 0.0\n",
    "    y_true = []\n",
    "    y_pred = []\n",
    "    sample_count = 0\n",
    "\n",
    "    for i, sample in tqdm(data.iterrows(), total=len(data)):\n",
    "        try:\n",
    "            dense_input, ts1, ts2, tab1, tab2, tab3 = single_data_point(sample)\n",
    "\n",
    "            if tab1.shape[0] == 0 or tab2.shape[0] == 0 or tab3.shape[0] == 0:\n",
    "                continue\n",
    "\n",
    "            # Format inputs\n",
    "            ts1 = np.expand_dims(np.array(ts1, dtype=np.float32), axis=0)\n",
    "            ts2 = np.expand_dims(np.array(ts2, dtype=np.float32), axis=0)\n",
    "            tab1 = np.expand_dims(np.array(tab1, dtype=np.float32), axis=0)\n",
    "            tab2 = np.expand_dims(np.array(tab2, dtype=np.float32), axis=0)\n",
    "            tab3 = np.expand_dims(np.array(tab3, dtype=np.float32), axis=0)\n",
    "\n",
    "            dense_input_array = np.array(dense_input, dtype=np.float32)\n",
    "            target_value = float(dense_input_array[-1])  # scalar\n",
    "            dense_input_trimmed = np.expand_dims(dense_input_array[:-1], axis=0)\n",
    "            target = np.array([[target_value]], dtype=np.float32)\n",
    "\n",
    "            inputs = [ts1, ts2, tab1, tab2, tab3, dense_input_trimmed]\n",
    "\n",
    "            # Prediction\n",
    "            pred = model.predict(inputs, verbose=0)[0][0]  # scalar\n",
    "\n",
    "            # Record actual and predicted labels\n",
    "            y_true.append(int(target_value))\n",
    "            y_pred.append(int(pred >= 0.5))  # threshold at 0.5\n",
    "\n",
    "            # Evaluate sample loss\n",
    "            loss = model.evaluate(inputs, target, verbose=0)\n",
    "            loss_value = loss[0] if isinstance(loss, (list, tuple)) else loss\n",
    "            total_loss += loss_value\n",
    "            sample_count += 1\n",
    "\n",
    "        except Exception as e:\n",
    "            print(f\"Error on sample {i}: {e}\")\n",
    "            continue\n",
    "\n",
    "    # Compute metrics\n",
    "    accuracy = accuracy_score(y_true, y_pred)\n",
    "    precision = precision_score(y_true, y_pred, zero_division=0)\n",
    "    recall = recall_score(y_true, y_pred, zero_division=0)\n",
    "    f1 = f1_score(y_true, y_pred, zero_division=0)\n",
    "    avg_loss = total_loss / max(sample_count, 1)\n",
    "\n",
    "    print(\"\\n📊 Evaluation Metrics:\")\n",
    "    print(f\"Samples evaluated: {sample_count}\")\n",
    "    print(f\"Average Loss      : {avg_loss:.4f}\")\n",
    "    print(f\"Accuracy          : {accuracy:.4f}\")\n",
    "    print(f\"Precision         : {precision:.4f}\")\n",
    "    print(f\"Recall            : {recall:.4f}\")\n",
    "    print(f\"F1 Score          : {f1:.4f}\")\n",
    "\n",
    "    # Optionally return metrics\n",
    "    return {\n",
    "        'loss': avg_loss,\n",
    "        'accuracy': accuracy,\n",
    "        'precision': precision,\n",
    "        'recall': recall,\n",
    "        'f1': f1\n",
    "    }\n"
   ]
  },
  {
   "cell_type": "code",
   "execution_count": 45,
   "id": "2069f9ce-8980-4e9e-92bb-71cf02bd9e49",
   "metadata": {},
   "outputs": [
    {
     "name": "stderr",
     "output_type": "stream",
     "text": [
      "  0%|                                            | 2/4410 [00:00<04:59, 14.70it/s]/opt/anaconda3/lib/python3.12/site-packages/keras/src/models/functional.py:225: UserWarning: The structure of `inputs` doesn't match the expected structure: ['player_a_past_performance', 'player_b_past_performance', 'player_a_past_5_performance', 'player_b_past_5_performance', 'h2h_data', 'single_row_16_features']. Received: the structure of inputs=('*', '*', '*', '*', '*', '*')\n",
      "  warnings.warn(\n",
      "  0%|                                            | 6/4410 [00:01<17:49,  4.12it/s]/opt/anaconda3/lib/python3.12/site-packages/keras/src/models/functional.py:225: UserWarning: The structure of `inputs` doesn't match the expected structure: ['player_a_past_performance', 'player_b_past_performance', 'player_a_past_5_performance', 'player_b_past_5_performance', 'h2h_data', 'single_row_16_features']. Received: the structure of inputs=('*', '*', '*', '*', '*', '*')\n",
      "  warnings.warn(\n",
      "/opt/anaconda3/lib/python3.12/site-packages/keras/src/models/functional.py:225: UserWarning: The structure of `inputs` doesn't match the expected structure: ['player_a_past_performance', 'player_b_past_performance', 'player_a_past_5_performance', 'player_b_past_5_performance', 'h2h_data', 'single_row_16_features']. Received: the structure of inputs=('*', '*', '*', '*', '*', '*')\n",
      "  warnings.warn(\n",
      "  1%|▌                                          | 52/4410 [00:10<10:40,  6.81it/s]/opt/anaconda3/lib/python3.12/site-packages/keras/src/models/functional.py:225: UserWarning: The structure of `inputs` doesn't match the expected structure: ['player_a_past_performance', 'player_b_past_performance', 'player_a_past_5_performance', 'player_b_past_5_performance', 'h2h_data', 'single_row_16_features']. Received: the structure of inputs=('*', '*', '*', '*', '*', '*')\n",
      "  warnings.warn(\n",
      "  5%|██▏                                       | 226/4410 [00:32<12:33,  5.55it/s]/opt/anaconda3/lib/python3.12/site-packages/keras/src/models/functional.py:225: UserWarning: The structure of `inputs` doesn't match the expected structure: ['player_a_past_performance', 'player_b_past_performance', 'player_a_past_5_performance', 'player_b_past_5_performance', 'h2h_data', 'single_row_16_features']. Received: the structure of inputs=('*', '*', '*', '*', '*', '*')\n",
      "  warnings.warn(\n",
      "100%|█████████████████████████████████████████| 4410/4410 [07:41<00:00,  9.56it/s]"
     ]
    },
    {
     "name": "stdout",
     "output_type": "stream",
     "text": [
      "\n",
      "📊 Evaluation Metrics:\n",
      "Samples evaluated: 1197\n",
      "Average Loss      : nan\n",
      "Accuracy          : 0.6358\n",
      "Precision         : 0.6655\n",
      "Recall            : 0.6190\n",
      "F1 Score          : 0.6414\n"
     ]
    },
    {
     "name": "stderr",
     "output_type": "stream",
     "text": [
      "\n"
     ]
    },
    {
     "data": {
      "text/plain": [
       "{'loss': nan,\n",
       " 'accuracy': 0.6357560568086884,\n",
       " 'precision': 0.6655290102389079,\n",
       " 'recall': 0.6190476190476191,\n",
       " 'f1': 0.6414473684210527}"
      ]
     },
     "execution_count": 45,
     "metadata": {},
     "output_type": "execute_result"
    }
   ],
   "source": [
    "evaluate_model_samplewise(model, df_current_match_test)"
   ]
  },
  {
   "cell_type": "code",
   "execution_count": null,
   "id": "21523961-ef77-4285-9687-df8711d45855",
   "metadata": {},
   "outputs": [],
   "source": []
  },
  {
   "cell_type": "code",
   "execution_count": null,
   "id": "ed0d5d7a-e710-4a4f-acf5-2fbfb7b0ad4b",
   "metadata": {},
   "outputs": [],
   "source": []
  }
 ],
 "metadata": {
  "kernelspec": {
   "display_name": "Python 3 (ipykernel)",
   "language": "python",
   "name": "python3"
  },
  "language_info": {
   "codemirror_mode": {
    "name": "ipython",
    "version": 3
   },
   "file_extension": ".py",
   "mimetype": "text/x-python",
   "name": "python",
   "nbconvert_exporter": "python",
   "pygments_lexer": "ipython3",
   "version": "3.12.4"
  }
 },
 "nbformat": 4,
 "nbformat_minor": 5
}
